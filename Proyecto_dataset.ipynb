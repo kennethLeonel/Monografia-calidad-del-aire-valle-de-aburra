{
  "cells": [
    {
      "cell_type": "markdown",
      "metadata": {
        "id": "O4VpEBQPteZM"
      },
      "source": [
        "Nombre de los participantes Proyecto\n",
        "Juan José Naranjo Velásquez CC : 1039474689\n",
        "Alejandro Mora Suarez CC: 1128437044\n",
        "Kenneth David Leonel Triana CC: 1192817456"
      ]
    },
    {
      "cell_type": "markdown",
      "metadata": {
        "id": "0MkEw0zmteZS"
      },
      "source": [
        "[Problemática](https://www.elcolombiano.com/medellin/con-tos-y-gripa-viven-en-las-zonas-con-la-peor-calidad-del-aire-del-aburra-KB25241931)\n",
        "\n",
        "La calidad del aire en Medellín juega un papel importante para adultos mayores, niños menores de 5 años, mujeres embarazadas y gente con afecciones cardiorrespiratorias, dado que una mala calidad del aire influye con afecciones respiratorias, cardiacas, de la piel y hasta con la aparición de cáncer.\n",
        "\n",
        "Dentro de las métricas que acompaña la calidad del aire, el número de 2.5 micras es de gran relevancia dado que se toma como patrón para medir las partículas con un tamaño minúsculo y penetran más fácil en órganos como los pulmones.\n"
      ]
    },
    {
      "cell_type": "markdown",
      "metadata": {
        "id": "n1uWgPdwteZU"
      },
      "source": [
        "**Objetivo proyecto**: Determinar la incidencia de las variables metereológicas sobre la métrica pm2.5 para la calidad del aire."
      ]
    },
    {
      "cell_type": "code",
      "execution_count": 76,
      "metadata": {
        "id": "GXLkorWLteZV"
      },
      "outputs": [],
      "source": [
        "#Instalar librerias\n",
        "\n",
        "#%pip install pandas numpy ydata-profiling ipywidgets numba"
      ]
    },
    {
      "cell_type": "code",
      "execution_count": 77,
      "metadata": {
        "id": "wblNH77hteZX"
      },
      "outputs": [],
      "source": [
        "# importar librerias\n",
        "import pandas as pd\n",
        "import numpy as np\n",
        "from datetime import datetime\n",
        "import datetime\n",
        "from scipy import stats\n",
        "import holidays\n",
        "import seaborn as sns\n",
        "import matplotlib.pyplot as plt\n",
        "from sklearn.neighbors import LocalOutlierFactor\n",
        "from sklearn.impute import KNNImputer\n",
        "from sklearn.model_selection import train_test_split\n",
        "from sklearn.preprocessing import MinMaxScaler\n",
        "from sklearn.model_selection import cross_val_score\n",
        "from sklearn.ensemble import RandomForestRegressor\n",
        "import joblib\n",
        "\n",
        "# Configuración warnings\n",
        "# ==============================================================================\n",
        "import warnings\n",
        "warnings.filterwarnings('ignore')\n"
      ]
    },
    {
      "cell_type": "markdown",
      "metadata": {
        "id": "OVYlFjLwteZY"
      },
      "source": [
        "Obtener los datos y dejarlos en dataframes"
      ]
    },
    {
      "cell_type": "code",
      "execution_count": 78,
      "metadata": {
        "id": "VoQEE1NzteZZ"
      },
      "outputs": [],
      "source": [
        "#Extraer datos de calidad del aire en las estaciones  # 69 Caldas, 86 Aranjuez, 28 Itagui\n",
        "def get_data (url):\n",
        "    \"\"\"\n",
        "    Función utilizada para la obtención de datos en tipo DataFrame según las bases de datos del repositorio\n",
        "\n",
        "    In[0]: url del dataset en el repositorio\n",
        "    Out[0]: DataFrame con los datos extraídos\n",
        "    \"\"\"\n",
        "    return pd.read_csv(url)\n",
        "\n",
        "# Datos de la calidad del aire tomados desde red SIATA de monitoreo de calidad del aire en Valle de Aburra\n",
        "cal_aire_ita = '28_itagui/estacion_data_calidadaire_28_20240301_20240331.csv'\n",
        "cal_aire_cal = '69_Caldas/estacion_data_calidadaire_69_20240301_20240331.csv'\n",
        "cal_aire_ara = '86_Aranjuez/estacion_data_calidadaire_86_20240301_20240331.csv'\n",
        "cal_aire_bel =  '83_Belen/estacion_data_calidadaire_83_20240101_20240131.csv'\n",
        "\n",
        "\n",
        "cal_aire_ita = get_data(cal_aire_ita)\n",
        "cal_aire_cal = get_data(cal_aire_cal)\n",
        "cal_aire_ara = get_data(cal_aire_ara)\n",
        "cal_aire_bel = get_data(cal_aire_bel)\n",
        "\n",
        "# Datos de temperatura,presion,humedad,precipitacion y vientos estacion itagui 28\n",
        "temp_ita='28_itagui/Temperatura/estacion_data_temperatura_252__20240201_20240229.csv'\n",
        "humedad_ita='28_itagui/humedad/estacion_data_humedad_252__20240201_20240229.csv'\n",
        "presion_ita='28_itagui/presion/estacion_data_presion_252__20240201_20240229.csv'\n",
        "precipitacion_ita='69_Caldas/precipitacion/estacion_data_precipitacion_105__20240201_20240229.csv'\n",
        "vientos_ita='28_itagui/vientos/estacion_data_vientos_252__20240201_20240229.csv'\n",
        "\n",
        "temp_ita=get_data(temp_ita)\n",
        "humedad_ita=get_data(humedad_ita)\n",
        "presion_ita=get_data(presion_ita)\n",
        "precipitacion_ita=get_data(precipitacion_ita)\n",
        "vientos_ita=get_data(vientos_ita)\n",
        "\n",
        "\n",
        "# Datos de temperatura,presion,humedad,precipitacion y vientos estacion Caldas 69\n",
        "temp_cal='69_Caldas/Temperatura/estacion_data_temperatura_105__20240201_20240229.csv'\n",
        "humedad_cal='69_Caldas/humedad/estacion_data_humedad_105__20240201_20240229.csv'\n",
        "precipitacion_cal='69_Caldas/precipitacion/estacion_data_precipitacion_105__20240201_20240229.csv'\n",
        "presion_cal='69_Caldas/presion/estacion_data_presion_105__20240201_20240229.csv'\n",
        "vientos_cal='69_Caldas/vientos/estacion_data_vientos_105__20240201_20240229.csv'\n",
        "\n",
        "temp_cal=get_data(temp_cal)\n",
        "humedad_cal=get_data(humedad_cal)\n",
        "precipitacion_cal=get_data(precipitacion_cal)\n",
        "presion_cal=get_data(presion_cal)\n",
        "vientos_cal=get_data(vientos_cal)\n",
        "\n",
        "\n",
        "# Datos de temperatura,presion,humedad,precipitacion y vientos estacion aranjuez 86\n",
        "temp_aranj='86_Aranjuez/temperatura/estacion_data_temperatura_68__20240201_20240229.csv'\n",
        "humedad_aranj='86_Aranjuez/humedad/estacion_data_humedad_68__20240201_20240229.csv'\n",
        "precipitacion_aranj='86_Aranjuez/precipitacion/estacion_data_precipitacion_68__20240201_20240229.csv'\n",
        "presion_aranj='86_Aranjuez/presion/estacion_data_presion_68__20240201_20240229.csv'\n",
        "vientos_aranj='86_Aranjuez/vientos/estacion_data_vientos_68__20240201_20240229.csv'\n",
        "\n",
        "temp_aranj=get_data(temp_aranj)\n",
        "humedad_aranj=get_data(humedad_aranj)\n",
        "precipitacion_aranj=get_data(precipitacion_aranj)\n",
        "presion_aranj=get_data(presion_aranj)\n",
        "vientos_aranj=get_data(vientos_aranj)\n",
        "\n",
        "\n",
        "# Datos de temperatura,presion,humedad,precipitacion y vientos estación 83 Belén\n",
        "temp_bel='83_Belen/Temperatura/estacion_data_temperatura_198__20240101_20240131.csv'\n",
        "humedad_bel='83_Belen/humedad/estacion_data_humedad_198__20240101_20240131.csv'\n",
        "presion_bel='83_Belen/presion/estacion_data_presion_198__20240101_20240131.csv'\n",
        "precipitacion_bel='83_Belen/precipitacion/estacion_data_precipitacion_9__20240101_20240131.csv'\n",
        "vientos_bel = '83_Belen/vientos/estacion_data_vientos_198__20240101_20240131.csv'\n",
        "\n",
        "temp_bel=get_data(temp_bel)\n",
        "humedad_bel=get_data(humedad_bel)\n",
        "precipitacion_bel=get_data(precipitacion_bel)\n",
        "presion_bel=get_data(presion_bel)\n",
        "vientos_bel=get_data(vientos_bel)\n",
        "\n",
        "\n",
        "# nombres de caracteristicas en minusculas calidad aire\n",
        "cal_aire_ita.columns = cal_aire_ita.columns.str.lower()\n",
        "cal_aire_cal.columns = cal_aire_cal.columns.str.lower()\n",
        "cal_aire_ara.columns = cal_aire_ara.columns.str.lower()\n",
        "cal_aire_bel.columns = cal_aire_bel.columns.str.lower()\n",
        "#nombres de caracteristicas en minusculas Itagui\n",
        "temp_ita.columns = temp_ita.columns.str.lower()\n",
        "humedad_ita.columns = humedad_ita.columns.str.lower()\n",
        "presion_ita.columns = presion_ita.columns.str.lower()\n",
        "vientos_ita.columns = vientos_ita.columns.str.lower()\n",
        "precipitacion_ita.columns = precipitacion_ita.columns.str.lower()\n",
        "\n",
        "#nombres de caracteristicas en minusculas Aranjuez\n",
        "temp_aranj.columns = temp_aranj.columns.str.lower()\n",
        "humedad_aranj.columns = humedad_aranj.columns.str.lower()\n",
        "precipitacion_aranj.columns = precipitacion_aranj.columns.str.lower()\n",
        "presion_aranj.columns = presion_aranj.columns.str.lower()\n",
        "vientos_aranj.columns = vientos_aranj.columns.str.lower()\n",
        "\n",
        "#nombres de caracteristicas en minusculas Caldas\n",
        "temp_cal.columns = temp_cal.columns.str.lower()\n",
        "humedad_cal.columns = humedad_cal.columns.str.lower()\n",
        "precipitacion_cal.columns = precipitacion_cal.columns.str.lower()\n",
        "presion_cal.columns = presion_cal.columns.str.lower()\n",
        "vientos_cal.columns = vientos_cal.columns.str.lower()\n",
        "\n",
        "\n",
        "#nombres de caracteristicas en minusculas Belen\n",
        "temp_bel.columns = temp_bel.columns.str.lower()\n",
        "humedad_bel.columns = humedad_bel.columns.str.lower()\n",
        "precipitacion_bel.columns = precipitacion_bel.columns.str.lower()\n",
        "presion_bel.columns = presion_bel.columns.str.lower()\n",
        "vientos_bel.columns = vientos_bel.columns.str.lower()"
      ]
    },
    {
      "cell_type": "markdown",
      "metadata": {
        "id": "uFpaORBTEBJT"
      },
      "source": [
        "### Eliminación de la columnas de calidad ya que no influye"
      ]
    },
    {
      "cell_type": "markdown",
      "metadata": {
        "id": "SC-azZC5teZb"
      },
      "source": [
        "Puesto que los datos extraidos de la red SIATA presenta semejanza en el nombre de la columna \"Calidad\" se procede a eliminar esas columnas"
      ]
    },
    {
      "cell_type": "code",
      "execution_count": 79,
      "metadata": {
        "id": "cEdNi3d2ECgi"
      },
      "outputs": [],
      "source": [
        "def eliminarColumnas(data, nombresColumnas):\n",
        "    \"\"\"\n",
        "    Función para eliminar columnas en un dataframe\n",
        "    \"\"\"\n",
        "    # Eliminar columnas que no sean necesarias\n",
        "    data = data.drop(columns=nombresColumnas)\n",
        "    return data\n",
        "\n",
        "#-----------------------------------------------------------------\n",
        "# Eliminar columna calidad de los diferentes dataframes de Itagui\n",
        "columnasAEliminar = ['calidad_pm25','calidad_pm10','calidad_pm1','calidad_no','calidad_p_ssr',\n",
        "                     'calidad_pliquida_ssr','calidad_rglobal_ssr','calidad_taire10_ssr',\n",
        "                     'calidad_vviento_ssr','calidad_no2','calidad_nox','calidad_pst','calidad_dviento_ssr',\n",
        "                     'calidad_haire10_ssr','calidad_ozono','calidad_so2','calidad_co']\n",
        "\n",
        "\n",
        "# cal_aire_ita = eliminarColumnas(cal_aire_ita,columnasAEliminar)\n",
        "# temp_ita = eliminarColumnas(temp_ita,'calidad')\n",
        "# humedad_ita = eliminarColumnas(humedad_ita,'calidad')\n",
        "# presion_ita = eliminarColumnas(presion_ita,'calidad')\n",
        "# vientos_ita = eliminarColumnas(vientos_ita,'calidad')\n",
        "# precipitacion_ita = eliminarColumnas(precipitacion_ita,'calidad')\n",
        "\n",
        "# Eliminar columna calidad de los diferentes dataframes de Caldas\n",
        "cal_aire_cal = eliminarColumnas(cal_aire_cal, columnasAEliminar)\n",
        "temp_cal = eliminarColumnas(temp_cal,'calidad')\n",
        "humedad_cal = eliminarColumnas(humedad_cal,'calidad')\n",
        "precipitacion_cal = eliminarColumnas(precipitacion_cal,'calidad')\n",
        "presion_cal = eliminarColumnas(presion_cal,'calidad')\n",
        "vientos_cal = eliminarColumnas(vientos_cal,'calidad')\n",
        "\n",
        "# Eliminar columna calidad de los diferentes dataframes de Aranjuez\n",
        "cal_aire_ara = eliminarColumnas(cal_aire_ara ,columnasAEliminar)\n",
        "temp_aranj = eliminarColumnas(temp_aranj,'calidad')\n",
        "humedad_aranj = eliminarColumnas(humedad_aranj,'calidad')\n",
        "precipitacion_aranj = eliminarColumnas(precipitacion_aranj,'calidad')\n",
        "presion_aranj = eliminarColumnas(presion_aranj,'calidad')\n",
        "vientos_aranj = eliminarColumnas(vientos_aranj,'calidad')\n",
        "\n",
        "# Eliminar columna calidad de los diferentes dataframes de Belen\n",
        "cal_aire_bel = eliminarColumnas(cal_aire_bel ,columnasAEliminar)\n",
        "temp_bel = eliminarColumnas(temp_bel,'calidad')\n",
        "humedad_bel = eliminarColumnas(humedad_bel,'calidad')\n",
        "precipitacion_bel = eliminarColumnas(precipitacion_bel,'calidad')\n",
        "presion_bel = eliminarColumnas(presion_bel,'calidad')\n",
        "vientos_bel = eliminarColumnas(vientos_bel,'calidad')\n",
        "\n"
      ]
    },
    {
      "cell_type": "markdown",
      "metadata": {
        "id": "bMcEK9QgEIeu"
      },
      "source": [
        "Se muestra uno de los dataframes ya sin las columnas de calidad"
      ]
    },
    {
      "cell_type": "code",
      "execution_count": 80,
      "metadata": {
        "colab": {
          "base_uri": "https://localhost:8080/",
          "height": 216
        },
        "id": "ilW1cDQzEJUW",
        "outputId": "5074b6fc-1038-47ce-9532-3c4fd36c57ad"
      },
      "outputs": [
        {
          "data": {
            "text/html": [
              "<div>\n",
              "<style scoped>\n",
              "    .dataframe tbody tr th:only-of-type {\n",
              "        vertical-align: middle;\n",
              "    }\n",
              "\n",
              "    .dataframe tbody tr th {\n",
              "        vertical-align: top;\n",
              "    }\n",
              "\n",
              "    .dataframe thead th {\n",
              "        text-align: right;\n",
              "    }\n",
              "</style>\n",
              "<table border=\"1\" class=\"dataframe\">\n",
              "  <thead>\n",
              "    <tr style=\"text-align: right;\">\n",
              "      <th></th>\n",
              "      <th>fecha_hora</th>\n",
              "      <th>codigoserial</th>\n",
              "      <th>pm25</th>\n",
              "      <th>pm10</th>\n",
              "      <th>pm1</th>\n",
              "      <th>no</th>\n",
              "      <th>no2</th>\n",
              "      <th>nox</th>\n",
              "      <th>ozono</th>\n",
              "      <th>co</th>\n",
              "      <th>so2</th>\n",
              "      <th>pst</th>\n",
              "      <th>dviento_ssr</th>\n",
              "      <th>haire10_ssr</th>\n",
              "      <th>p_ssr</th>\n",
              "      <th>pliquida_ssr</th>\n",
              "      <th>rglobal_ssr</th>\n",
              "      <th>taire10_ssr</th>\n",
              "      <th>vviento_ssr</th>\n",
              "    </tr>\n",
              "  </thead>\n",
              "  <tbody>\n",
              "    <tr>\n",
              "      <th>0</th>\n",
              "      <td>2024-01-01 00:00:00</td>\n",
              "      <td>69</td>\n",
              "      <td>36.4093</td>\n",
              "      <td>-9999.0</td>\n",
              "      <td>-9999.0</td>\n",
              "      <td>-9999.0</td>\n",
              "      <td>-9999.0</td>\n",
              "      <td>-9999.0</td>\n",
              "      <td>-9999.0</td>\n",
              "      <td>-9999.0</td>\n",
              "      <td>-9999.0</td>\n",
              "      <td>-9999.0</td>\n",
              "      <td>-9999.0</td>\n",
              "      <td>-9999.0</td>\n",
              "      <td>-9999.0</td>\n",
              "      <td>-9999.0</td>\n",
              "      <td>-9999.0</td>\n",
              "      <td>-9999.0</td>\n",
              "      <td>-9999.0</td>\n",
              "    </tr>\n",
              "    <tr>\n",
              "      <th>1</th>\n",
              "      <td>2024-01-01 01:00:00</td>\n",
              "      <td>69</td>\n",
              "      <td>68.4104</td>\n",
              "      <td>-9999.0</td>\n",
              "      <td>-9999.0</td>\n",
              "      <td>-9999.0</td>\n",
              "      <td>-9999.0</td>\n",
              "      <td>-9999.0</td>\n",
              "      <td>-9999.0</td>\n",
              "      <td>-9999.0</td>\n",
              "      <td>-9999.0</td>\n",
              "      <td>-9999.0</td>\n",
              "      <td>-9999.0</td>\n",
              "      <td>-9999.0</td>\n",
              "      <td>-9999.0</td>\n",
              "      <td>-9999.0</td>\n",
              "      <td>-9999.0</td>\n",
              "      <td>-9999.0</td>\n",
              "      <td>-9999.0</td>\n",
              "    </tr>\n",
              "    <tr>\n",
              "      <th>2</th>\n",
              "      <td>2024-01-01 02:00:00</td>\n",
              "      <td>69</td>\n",
              "      <td>64.5992</td>\n",
              "      <td>-9999.0</td>\n",
              "      <td>-9999.0</td>\n",
              "      <td>-9999.0</td>\n",
              "      <td>-9999.0</td>\n",
              "      <td>-9999.0</td>\n",
              "      <td>-9999.0</td>\n",
              "      <td>-9999.0</td>\n",
              "      <td>-9999.0</td>\n",
              "      <td>-9999.0</td>\n",
              "      <td>-9999.0</td>\n",
              "      <td>-9999.0</td>\n",
              "      <td>-9999.0</td>\n",
              "      <td>-9999.0</td>\n",
              "      <td>-9999.0</td>\n",
              "      <td>-9999.0</td>\n",
              "      <td>-9999.0</td>\n",
              "    </tr>\n",
              "  </tbody>\n",
              "</table>\n",
              "</div>"
            ],
            "text/plain": [
              "            fecha_hora  codigoserial     pm25    pm10     pm1      no     no2  \\\n",
              "0  2024-01-01 00:00:00            69  36.4093 -9999.0 -9999.0 -9999.0 -9999.0   \n",
              "1  2024-01-01 01:00:00            69  68.4104 -9999.0 -9999.0 -9999.0 -9999.0   \n",
              "2  2024-01-01 02:00:00            69  64.5992 -9999.0 -9999.0 -9999.0 -9999.0   \n",
              "\n",
              "      nox   ozono      co     so2     pst  dviento_ssr  haire10_ssr   p_ssr  \\\n",
              "0 -9999.0 -9999.0 -9999.0 -9999.0 -9999.0      -9999.0      -9999.0 -9999.0   \n",
              "1 -9999.0 -9999.0 -9999.0 -9999.0 -9999.0      -9999.0      -9999.0 -9999.0   \n",
              "2 -9999.0 -9999.0 -9999.0 -9999.0 -9999.0      -9999.0      -9999.0 -9999.0   \n",
              "\n",
              "   pliquida_ssr  rglobal_ssr  taire10_ssr  vviento_ssr  \n",
              "0       -9999.0      -9999.0      -9999.0      -9999.0  \n",
              "1       -9999.0      -9999.0      -9999.0      -9999.0  \n",
              "2       -9999.0      -9999.0      -9999.0      -9999.0  "
            ]
          },
          "execution_count": 80,
          "metadata": {},
          "output_type": "execute_result"
        }
      ],
      "source": [
        "# Dataframe de la calidad del aire estación Itagui sin columnas Calidad\n",
        "cal_aire_cal.head(3)\n",
        "\n"
      ]
    },
    {
      "cell_type": "markdown",
      "metadata": {},
      "source": [
        "Eliminación registros donde nuestra variable pm25 tenga valores -9999.0 que esto significa dato nulo\n",
        "o que sean valores menores que 0"
      ]
    },
    {
      "cell_type": "code",
      "execution_count": 81,
      "metadata": {},
      "outputs": [],
      "source": [
        "def eliminarRegistrosNulos(data,columna, valor):\n",
        "    \"\"\"\n",
        "    Función para eliminar los valores nulos en una columna \n",
        "    estos son valores -999.0\n",
        "    \"\"\"\n",
        "    # Nos quedamos con los valores que sean mayores a 0\n",
        "    data = data[data[columna] > valor].reset_index(drop=True)\n",
        "    return data"
      ]
    },
    {
      "cell_type": "code",
      "execution_count": 82,
      "metadata": {},
      "outputs": [],
      "source": [
        "#Se considero que para la variable pm25 se eliminaban ya que no deberia existir valores menores a 0 de esta variable\n",
        "cal_aire_cal = eliminarRegistrosNulos(cal_aire_cal,'pm25', 0) # valores menor que 0\n",
        "cal_aire_ara = eliminarRegistrosNulos(cal_aire_ara,'pm25', 0)\n",
        "cal_aire_bel = eliminarRegistrosNulos(cal_aire_bel,'pm25', 0)\n"
      ]
    },
    {
      "cell_type": "code",
      "execution_count": 83,
      "metadata": {},
      "outputs": [
        {
          "data": {
            "text/plain": [
              "np.float64(0.5)"
            ]
          },
          "execution_count": 83,
          "metadata": {},
          "output_type": "execute_result"
        }
      ],
      "source": [
        "#Corroboramos que ya nuestra columna pm25 que es la que necesitabamos cerciorarnos que no tuviera datos nulos\n",
        "cal_aire_cal['pm25'].min()"
      ]
    },
    {
      "cell_type": "markdown",
      "metadata": {},
      "source": [
        "### Eliminar registros nulos de las variables metereologicas"
      ]
    },
    {
      "cell_type": "markdown",
      "metadata": {},
      "source": [
        "\n",
        "Se realiza la muestra del proceso en la variable Presión"
      ]
    },
    {
      "cell_type": "code",
      "execution_count": 84,
      "metadata": {},
      "outputs": [
        {
          "data": {
            "text/plain": [
              "fecha_hora    60337\n",
              "presion       60337\n",
              "dtype: int64"
            ]
          },
          "execution_count": 84,
          "metadata": {},
          "output_type": "execute_result"
        }
      ],
      "source": [
        "presion_cal[presion_cal['presion'] == -999.0].count()"
      ]
    },
    {
      "cell_type": "markdown",
      "metadata": {},
      "source": [
        "Función para convertir nuestro valores -999.0 o -9999.0 a nulos ya que estos no fueron tomados por los sensores del SIATA"
      ]
    },
    {
      "cell_type": "code",
      "execution_count": 85,
      "metadata": {},
      "outputs": [],
      "source": [
        "#Función apra pasar esos valores -999.0 o -9999.0 a NaN\n",
        "def pasarDatosANulos(data,valor):\n",
        "    \"\"\"\n",
        "    Función para pasar datos a valores nulos en un dataframe\n",
        "    \"\"\"\n",
        "    # Reemplazamos los valores -999.0  u otro con NaN\n",
        "    data = data.replace(valor, np.nan)\n",
        "    return data"
      ]
    },
    {
      "cell_type": "markdown",
      "metadata": {},
      "source": [
        "Remplazar valores -999.0 o -9999.0 a nulos (NaN)"
      ]
    },
    {
      "cell_type": "code",
      "execution_count": 86,
      "metadata": {},
      "outputs": [],
      "source": [
        "#Presion de las estaciones\n",
        "presion_cal = pasarDatosANulos(presion_cal,-999.0)\n",
        "presion_aranj = pasarDatosANulos(presion_aranj, -999.0)\n",
        "presion_bel = pasarDatosANulos(presion_bel, -999.0)\n",
        "\n",
        "#Temperatura de las estaciones\n",
        "temp_cal = pasarDatosANulos(temp_cal,-999.0)\n",
        "temp_aranj = pasarDatosANulos(temp_aranj, -999.0)\n",
        "temp_bel = pasarDatosANulos(temp_bel, -999.0)\n",
        "\n",
        "#Humedad de las estaciones\n",
        "humedad_cal = pasarDatosANulos(humedad_cal,-999.0)\n",
        "humedad_aranj = pasarDatosANulos(humedad_aranj, -999.0)\n",
        "humedad_bel= pasarDatosANulos(humedad_bel, -999.0)\n",
        "\n",
        "# Precipitación de las estaciones\n",
        "precipitacion_cal = pasarDatosANulos(precipitacion_cal,-999.0)\n",
        "precipitacion_aranj = pasarDatosANulos(precipitacion_aranj, -999.0)\n",
        "precipitacion_bel = pasarDatosANulos(precipitacion_bel, -999.0)\n",
        "\n",
        "# Viento de las estaciones\n",
        "vientos_cal = pasarDatosANulos(vientos_cal,-999.0)\n",
        "vientos_aranj = pasarDatosANulos(vientos_aranj, -999.0)\n",
        "vientos_bel = pasarDatosANulos(vientos_bel, -999.0)"
      ]
    },
    {
      "cell_type": "code",
      "execution_count": 87,
      "metadata": {},
      "outputs": [
        {
          "name": "stdout",
          "output_type": "stream",
          "text": [
            "Cantidad de registros en mi dataframe Presion Caldas con los nulos : 394560\n"
          ]
        }
      ],
      "source": [
        "print(f\"Cantidad de registros en mi dataframe Presion Caldas con los nulos : {len(presion_cal)}\")"
      ]
    },
    {
      "cell_type": "code",
      "execution_count": 88,
      "metadata": {},
      "outputs": [
        {
          "name": "stdout",
          "output_type": "stream",
          "text": [
            "Revisión de nulos en Presion Caldas \n",
            "fecha_hora    0\n",
            "presion       0\n",
            "dtype: int64\n",
            "Revisión de cantidad registros en Presion Caldas con la eliminación nulos:334223\n"
          ]
        }
      ],
      "source": [
        "##-------Eliminación registros dataframe Presion de las estaciones ---------\n",
        "presion_cal = presion_cal.dropna()\n",
        "presion_aranj = presion_aranj.dropna()\n",
        "presion_bel = presion_bel.dropna()\n",
        "\n",
        "##-------Eliminación registros dataframe Temperatura de las estaciones ---------\n",
        "temp_cal = temp_cal.dropna()\n",
        "temp_aranj = temp_aranj.dropna()\n",
        "temp_bel = temp_bel.dropna()\n",
        "\n",
        "##-------Eliminación registros dataframe Humedad de las estaciones ---------\n",
        "humedad_cal = humedad_cal.dropna()\n",
        "humedad_aranj = humedad_aranj.dropna()\n",
        "humedad_bel = humedad_bel.dropna()\n",
        "\n",
        "##-------Eliminación registros dataframe Preciptacion de las estaciones ---------\n",
        "precipitacion_cal = precipitacion_cal.dropna()\n",
        "precipitacion_aranj = precipitacion_aranj.dropna()\n",
        "precipitacion_bel = precipitacion_bel.dropna()\n",
        "\n",
        "##-------Eliminación registros dataframe Viento de las estaciones ---------\n",
        "vientos_cal = vientos_cal.dropna()\n",
        "vientos_aranj = vientos_aranj.dropna()\n",
        "vientos_bel = vientos_bel.dropna()\n",
        "\n",
        "\n",
        "#Se corrobora que se hayan eliminado los nulos.\n",
        "print(f\"Revisión de nulos en Presion Caldas \\n{presion_cal.isnull().sum()}\")\n",
        "print(f\"Revisión de cantidad registros en Presion Caldas con la eliminación nulos:{len(presion_cal)}\")\n",
        "\n"
      ]
    },
    {
      "cell_type": "markdown",
      "metadata": {},
      "source": [
        "### Imputación de los datos metereologicos"
      ]
    },
    {
      "cell_type": "code",
      "execution_count": 89,
      "metadata": {},
      "outputs": [],
      "source": [
        "#Esta es la imputación para que cada uno de las columnas de nuestros datos metereologicas tengan mayor congruencia \n",
        "# por el método knn-imputer\n",
        "def inputacionDatos(data,columna):\n",
        "\n",
        "    # Construimos el modelo con 15 vecinos y el peso es uniform\n",
        "    imputer = KNNImputer(n_neighbors=15, weights=\"uniform\")\n",
        "\n",
        "    # Ajustamos el modelo e imputamos los missing values\n",
        "    imputer.fit(data[[columna]])\n",
        "    data[columna] = imputer.transform(data[[columna]]).ravel()\n",
        "    # Se rectifica que esos datos NaN ya no existan para rectificar la imputación\n",
        "    print(\"Valores perdidos en normalized-losses: \" + \n",
        "        str(data[columna].isnull().sum()))\n",
        "    return data"
      ]
    },
    {
      "cell_type": "markdown",
      "metadata": {},
      "source": [
        "### Proceso Imputación \n"
      ]
    },
    {
      "cell_type": "markdown",
      "metadata": {},
      "source": [
        "#### Proceso comentado por temas de tiempo de ejecución\n",
        "\n"
      ]
    },
    {
      "cell_type": "markdown",
      "metadata": {},
      "source": [
        "Dejamos el codigo de abajo comentado por temas que la inputación se demora mucho, para eso guardamos la inputación en archivos csv"
      ]
    },
    {
      "cell_type": "code",
      "execution_count": 90,
      "metadata": {},
      "outputs": [],
      "source": [
        "##-------Presion imputación en las estaciones ---------\n",
        "\n",
        "# presion_cal = inputacionDatos(presion_cal,'presion')\n",
        "# presion_aranj = inputacionDatos(presion_aranj,'presion')\n",
        "\n",
        "##-------Temperatura imputación en las estaciones ---------\n",
        "\n",
        "#temp_cal = inputacionDatos(temp_cal,'temperatura')\n",
        "#temp_aranj = inputacionDatos(temp_aranj,'temperatura')\n",
        "\n",
        "# humedad_aranj = eliminarColumnas(humedad_aranj,'calidad')\n",
        "# precipitacion_aranj = eliminarColumnas(precipitacion_aranj,'calidad')\n",
        "# vientos_aranj = eliminarColumnas(vientos_aranj,'calidad')\n",
        "\n",
        "##-------Humedad imputación en las estaciones ---------\n",
        "#humedad_cal = inputacionDatos(humedad_cal,'humedad')\n",
        "#humedad_aranj = inputacionDatos(humedad_aranj,'humedad')\n",
        "\n",
        "##-------precipitaciones imputación en las estaciones ---------\n",
        "\n",
        "# precipitacion_cal = inputacionDatos(precipitacion_cal,'p1')\n",
        "#precipitacion_aranj = inputacionDatos(precipitacion_aranj,'p1')\n",
        "\n",
        "\n",
        "##-------Vientos imputación en las estaciones ---------\n",
        "\n",
        "# vientos_cal = inputacionDatos(vientos_cal,'velocidad_prom')\n",
        "# vientos_cal = inputacionDatos(vientos_cal,'velocidad_max')\n",
        "# vientos_cal = inputacionDatos(vientos_cal,'direccion_prom')\n",
        "# vientos_cal = inputacionDatos(vientos_cal,'direccion_max')\n",
        "\n",
        "# vientos_aranj = inputacionDatos(vientos_aranj,'velocidad_prom')\n",
        "# vientos_aranj = inputacionDatos(vientos_aranj,'velocidad_max')\n",
        "# vientos_aranj = inputacionDatos(vientos_aranj,'direccion_prom')\n",
        "# vientos_aranj = inputacionDatos(vientos_aranj,'direccion_max')\n",
        "\n"
      ]
    },
    {
      "cell_type": "markdown",
      "metadata": {},
      "source": [
        "Se guarda esas imputaciones en archivos csv"
      ]
    },
    {
      "cell_type": "code",
      "execution_count": 91,
      "metadata": {},
      "outputs": [],
      "source": [
        "## Guardar en csv la inputación\n",
        "#Presion \n",
        "# presion_cal.to_csv('data/stage/presion_cal.csv', index=False)\n",
        "# presion_aranj.to_csv('data/stage/presion_aranj.csv', index=False)\n",
        "\n",
        "#Temperatura\n",
        "#temp_cal.to_csv('data/stage/temp_cal.csv', index=False)\n",
        "#temp_aranj.to_csv('data/stage/temp_aranj.csv', index=False)\n",
        "\n",
        "#Humedad\n",
        "#humedad_cal.to_csv('data/stage/humedad_cal.csv', index=False)\n",
        "#humedad_aranj.to_csv('data/stage/humedad_aranj.csv', index=False)\n",
        "\n",
        "#Precipitaciones\n",
        "#precipitacion_cal.to_csv('data/stage/precipitacion_cal.csv', index=False)\n",
        "#precipitacion_aranj.to_csv('data/stage/precipitacion_aranj.csv', index=False)\n",
        "\n",
        "#Vientos\n",
        "\n",
        "#vientos_cal.to_csv('data/stage/vientos_cal.csv', index=False)\n",
        "#vientos_aranj.to_csv('data/stage/vientos_aranj.csv', index=False)\n"
      ]
    },
    {
      "cell_type": "markdown",
      "metadata": {},
      "source": [
        "### Se importan archivos de la imputación"
      ]
    },
    {
      "cell_type": "code",
      "execution_count": 92,
      "metadata": {},
      "outputs": [
        {
          "data": {
            "text/plain": [
              "fecha_hora    0\n",
              "presion       0\n",
              "dtype: int64"
            ]
          },
          "execution_count": 92,
          "metadata": {},
          "output_type": "execute_result"
        }
      ],
      "source": [
        "#Se importa la inputacion\n",
        "\n",
        "#Presion de las estaciones\n",
        "presion_cal_inputado = pd.read_csv('data/stage/presion_cal.csv')\n",
        "presion_aranj_inputado = pd.read_csv('data/stage/presion_aranj.csv')\n",
        "\n",
        "#Temperatura de las estaciones\n",
        "\n",
        "temp_cal_inputado = pd.read_csv('data/stage/temp_cal.csv')\n",
        "temp_aranj_inputado = pd.read_csv('data/stage/temp_aranj.csv')\n",
        "\n",
        "#Humedad de las estaciones\n",
        "\n",
        "humedad_cal_inputado = pd.read_csv('data/stage/humedad_cal.csv')\n",
        "humedad_aranj_inputado = pd.read_csv('data/stage/humedad_aranj.csv')\n",
        "\n",
        "# Precipitación de las estaciones\n",
        "\n",
        "precipitacion_cal_inputado = pd.read_csv('data/stage/precipitacion_cal.csv')\n",
        "precipitacion_aranj_inputado = pd.read_csv('data/stage/precipitacion_aranj.csv')\n",
        "\n",
        "# Viento de las estaciones\n",
        "\n",
        "vientos_cal_inputado = pd.read_csv('data/stage/vientos_cal.csv')\n",
        "vientos_aranj_inputado = pd.read_csv('data/stage/vientos_aranj.csv')\n",
        "\n",
        "#Comprobamos que los valores nulos esten sustituidos\n",
        "\n",
        "presion_cal_inputado.isnull().sum()"
      ]
    },
    {
      "cell_type": "markdown",
      "metadata": {},
      "source": [
        "Comparar la imputación con proceso sin imputar"
      ]
    },
    {
      "cell_type": "code",
      "execution_count": 93,
      "metadata": {},
      "outputs": [
        {
          "name": "stdout",
          "output_type": "stream",
          "text": [
            "El tamaño del archivo de presión con proceso de imputacion es de: 394560\n",
            "El tamaño del archivo de presión sin proceso de imputacion pero de eliminación nulos: 334223\n",
            "El valor maximo de la presión imputado es de: 829.9\n",
            "El valor minimo de la presión imputado es de: 821.0\n",
            "El valor maximo de la presión sin nulos es de: 829.9\n",
            "El valor minimo de la presión sin nulos es de: 821.0\n"
          ]
        }
      ],
      "source": [
        "# Revisar si cambio tamaño del dataframe\n",
        "print (f\"El tamaño del archivo de presión con proceso de imputacion es de: {len(presion_cal_inputado)}\")\n",
        "print (f\"El tamaño del archivo de presión sin proceso de imputacion pero de eliminación nulos: {len(presion_cal)}\")\n",
        "print (f\"El valor maximo de la presión imputado es de: {presion_cal_inputado['presion'].max()}\")\n",
        "print (f\"El valor minimo de la presión imputado es de: {presion_cal_inputado['presion'].min()}\")\n",
        "print (f\"El valor maximo de la presión sin nulos es de: {presion_cal['presion'].max()}\")\n",
        "print (f\"El valor minimo de la presión sin nulos es de: {presion_cal['presion'].min()}\")"
      ]
    },
    {
      "cell_type": "markdown",
      "metadata": {},
      "source": [
        "### Evaluar variables de calidad del aire"
      ]
    },
    {
      "cell_type": "code",
      "execution_count": 94,
      "metadata": {},
      "outputs": [
        {
          "name": "stdout",
          "output_type": "stream",
          "text": [
            "Ver valores maximo por todas las variables de nuestro dataset :\n",
            "fecha_hora      2024-09-30 23:00:00\n",
            "codigoserial                     69\n",
            "pm25                     99999000.0\n",
            "pm10                        -9999.0\n",
            "pm1                         -9999.0\n",
            "no                          -9999.0\n",
            "no2                         -9999.0\n",
            "nox                         -9999.0\n",
            "ozono                       -9999.0\n",
            "co                          -9999.0\n",
            "so2                         -9999.0\n",
            "pst                         -9999.0\n",
            "dviento_ssr                 -9999.0\n",
            "haire10_ssr                 -9999.0\n",
            "p_ssr                       -9999.0\n",
            "pliquida_ssr                -9999.0\n",
            "rglobal_ssr                 -9999.0\n",
            "taire10_ssr                 -9999.0\n",
            "vviento_ssr                 -9999.0\n",
            "dtype: object\n",
            "\n",
            "Ver valores minimos por todas las variables de nuestro dataset :\n",
            "fecha_hora      2024-01-01 00:00:00\n",
            "codigoserial                     69\n",
            "pm25                            0.5\n",
            "pm10                        -9999.0\n",
            "pm1                         -9999.0\n",
            "no                          -9999.0\n",
            "no2                         -9999.0\n",
            "nox                         -9999.0\n",
            "ozono                       -9999.0\n",
            "co                          -9999.0\n",
            "so2                         -9999.0\n",
            "pst                         -9999.0\n",
            "dviento_ssr                 -9999.0\n",
            "haire10_ssr                 -9999.0\n",
            "p_ssr                       -9999.0\n",
            "pliquida_ssr                -9999.0\n",
            "rglobal_ssr                 -9999.0\n",
            "taire10_ssr                 -9999.0\n",
            "vviento_ssr                 -9999.0\n",
            "dtype: object\n"
          ]
        }
      ],
      "source": [
        "# se mira los calores maximos de cada columna de los dataframes\n",
        "print(f\"Ver valores maximo por todas las variables de nuestro dataset :\\n{cal_aire_cal.max()}\\n\")\n",
        "print(f\"Ver valores minimos por todas las variables de nuestro dataset :\\n{cal_aire_cal.min()}\")"
      ]
    },
    {
      "cell_type": "markdown",
      "metadata": {
        "id": "AEyNDp2jteZd"
      },
      "source": [
        "Filtrar el dataframe calidad aire para tomar las columnas objetivo ya que observamos que los datos del SIATA solo toma los valores de la particula pm25"
      ]
    },
    {
      "cell_type": "code",
      "execution_count": 95,
      "metadata": {
        "colab": {
          "base_uri": "https://localhost:8080/",
          "height": 424
        },
        "id": "yVcJjNscteZe",
        "outputId": "ba8209e8-36c5-40b8-faf0-fc894aaaadd6"
      },
      "outputs": [
        {
          "data": {
            "text/html": [
              "<div>\n",
              "<style scoped>\n",
              "    .dataframe tbody tr th:only-of-type {\n",
              "        vertical-align: middle;\n",
              "    }\n",
              "\n",
              "    .dataframe tbody tr th {\n",
              "        vertical-align: top;\n",
              "    }\n",
              "\n",
              "    .dataframe thead th {\n",
              "        text-align: right;\n",
              "    }\n",
              "</style>\n",
              "<table border=\"1\" class=\"dataframe\">\n",
              "  <thead>\n",
              "    <tr style=\"text-align: right;\">\n",
              "      <th></th>\n",
              "      <th>fecha_hora</th>\n",
              "      <th>codigoserial</th>\n",
              "      <th>pm25</th>\n",
              "    </tr>\n",
              "  </thead>\n",
              "  <tbody>\n",
              "    <tr>\n",
              "      <th>0</th>\n",
              "      <td>2024-01-01 00:00:00</td>\n",
              "      <td>69</td>\n",
              "      <td>36.4093</td>\n",
              "    </tr>\n",
              "    <tr>\n",
              "      <th>1</th>\n",
              "      <td>2024-01-01 01:00:00</td>\n",
              "      <td>69</td>\n",
              "      <td>68.4104</td>\n",
              "    </tr>\n",
              "    <tr>\n",
              "      <th>2</th>\n",
              "      <td>2024-01-01 02:00:00</td>\n",
              "      <td>69</td>\n",
              "      <td>64.5992</td>\n",
              "    </tr>\n",
              "  </tbody>\n",
              "</table>\n",
              "</div>"
            ],
            "text/plain": [
              "            fecha_hora  codigoserial     pm25\n",
              "0  2024-01-01 00:00:00            69  36.4093\n",
              "1  2024-01-01 01:00:00            69  68.4104\n",
              "2  2024-01-01 02:00:00            69  64.5992"
            ]
          },
          "execution_count": 95,
          "metadata": {},
          "output_type": "execute_result"
        }
      ],
      "source": [
        "def filtro_data_peque(data):\n",
        "    \"\"\"\"\n",
        "    Función para tomar columnas de estudio en archivos de calidad del aire en las diferentes estaciones\n",
        "\n",
        "    In[0]: dataset\n",
        "    Out[0]: dataset filtrado hasta columna de estudio\n",
        "    \"\"\"\n",
        "    # Filtrar los datos segun el indice\n",
        "    tamColumnas = data.shape\n",
        "    if (tamColumnas[1]>6):\n",
        "        datosFiltrados = data.iloc[:,:3]\n",
        "    return datosFiltrados\n",
        "\n",
        "def filtro_data(data,nombreColumna,condicion):\n",
        "    \"\"\"\"\n",
        "    Función para tomar calidad de datos en tiempo real establecidos desde datos crudos\n",
        "\n",
        "    In[0]: dataset, 'calidad_pm25', 1\n",
        "    Out[0]: dataset filtrado con datos en calidad\n",
        "    \"\"\"\n",
        "    # Filtrar los datos segun el indice y la condicion\n",
        "    tamColumnas = data.shape\n",
        "    if (tamColumnas[1]>6):\n",
        "        datosFiltrados = data.iloc[:,:4]\n",
        "        return datosFiltrados[datosFiltrados.loc[:, nombreColumna] == condicion]\n",
        "    else:\n",
        "       return data.loc[data.loc[:, nombreColumna] == condicion]\n",
        "\n",
        "# #Se tiene el filtrado estación Itagui\n",
        "# dataCalidadFiltradaItagui = filtro_data_peque(cal_aire_ita)\n",
        "\n",
        "#Se tiene el filtrado estación Caldas\n",
        "dataCalidadFiltradaCaldas = filtro_data_peque(cal_aire_cal)\n",
        "\n",
        "#Se tiene el filtrado estación Aranjuez\n",
        "dataCalidadFiltradaAranjuez = filtro_data_peque(cal_aire_ara)\n",
        "\n",
        "#Se tiene el filtrado estación Belen\n",
        "dataCalidadFiltradaBelen= filtro_data_peque(cal_aire_bel)\n",
        "\n",
        "#Visualizar datos calidad aire itagui\n",
        "dataCalidadFiltradaCaldas.head(3)"
      ]
    },
    {
      "cell_type": "markdown",
      "metadata": {
        "id": "m-8Y6B5xteZf"
      },
      "source": [
        "Dado que los registros que se tienen por las características metereológicas se encuentran por minuto, debemos llevarlos a la estructura o base del dataset que almacena la calidad del aire bajo registros por dia, por ende, se realiza el promedio de los dataframes (Temperatura , precipitación, Vientos, Humedad, Presion) de las diferentes estaciones para homogeneizar la base final"
      ]
    },
    {
      "cell_type": "code",
      "execution_count": 96,
      "metadata": {
        "id": "oP3dORT-teZf"
      },
      "outputs": [],
      "source": [
        "\n",
        "def agregarColumnas(data):\n",
        "    \"\"\"\"\n",
        "    Función para agregar columnas\n",
        "    In[0]: dataset\n",
        "    Out[0]: dataset con columnas día , mes\n",
        "    \"\"\"\n",
        "    dataTemporal = data.copy()\n",
        "    dataTemporal['anio'] = pd.to_datetime(dataTemporal['fecha_hora']).dt.year\n",
        "    dataTemporal['dia']= pd.to_datetime(dataTemporal['fecha_hora']).dt.day\n",
        "    dataTemporal['mes']= pd.to_datetime(dataTemporal['fecha_hora']).dt.month\n",
        "    return dataTemporal\n",
        "\n",
        "\n",
        "\n",
        "def sacarPromedio(data,nombreColumna,revision):\n",
        "    \"\"\"\"\n",
        "    Función para calcular el promedio de todas las columnas de un dataframe\n",
        "\n",
        "    args:   data =  dataframe a utilizar\n",
        "            nombrecolumna = característica a la cual se le realiza el promedio\n",
        "            revision = indicador de revision (1,2,3) según las columnas de los dataframes\n",
        "            1 si el dataframe contiene únicamente para nombre de columna y calidad\n",
        "            2 si el dataframe contiene las columnas nombre de columna, calidad y codigo serial\n",
        "            3 si el dataframe contiene las columnas nombre de columna, calidad y se aplican las demas características en este caso del viento\n",
        "\n",
        "    In[0]: dataset\n",
        "    Out[0]: promedio de cada columna\n",
        "    \"\"\"\n",
        "    #Llamamos a la funcion agregarColumnas\n",
        "    dataNuevo = agregarColumnas(data)\n",
        "    #return dataNuevo\n",
        "    #se saca el promedio de temperatura de la columna Temperatura\n",
        "\n",
        "    if (revision ==1):\n",
        "        registroPromedio = dataNuevo.groupby(['anio','mes','dia']).agg({\n",
        "            f'{nombreColumna}':'median'\n",
        "        }).reset_index()\n",
        "        return registroPromedio\n",
        "    elif(revision ==2):\n",
        "        registroPromedio = dataNuevo.groupby(['anio','mes','dia']).agg({\n",
        "            f'{nombreColumna}':'median',\n",
        "            'codigoserial': lambda x: stats.mode(x)[0]\n",
        "        }).reset_index()\n",
        "        return registroPromedio\n",
        "    elif(revision == 3):\n",
        "        registroPromedio = dataNuevo.groupby(['anio','mes','dia']).agg({\n",
        "            f'{nombreColumna}':'median',\n",
        "            'velocidad_max':'median',\n",
        "            'direccion_prom':'median',\n",
        "            'direccion_max':'median'\n",
        "        }).reset_index()\n",
        "        return registroPromedio\n"
      ]
    },
    {
      "cell_type": "code",
      "execution_count": 97,
      "metadata": {
        "id": "2zQ1FWIsteZg"
      },
      "outputs": [],
      "source": [
        "# #Sacar promedio Itagui\n",
        "# temperaturaItaguiPromedio = sacarPromedio(temp_ita, 'temperatura',1)\n",
        "# humedadItaguiPromedio = sacarPromedio(humedad_ita, 'humedad',1)\n",
        "# presionItaguiPromedio = sacarPromedio(presion_ita, 'presion',1)\n",
        "# precipitacionItaguiPromedio = sacarPromedio(precipitacion_ita, 'p1',1)\n",
        "# vientosItaguiPromedio = sacarPromedio(vientos_ita,'velocidad_prom',3)\n",
        "\n",
        "#Sacar promedio Caldas\n",
        "temperaturaCaldasPromedio = sacarPromedio(temp_cal, 'temperatura', 1)\n",
        "humedadCaldasPromedio = sacarPromedio(humedad_cal,'humedad',1)\n",
        "precipitacionCaldasPromedio = sacarPromedio(precipitacion_cal, 'p1',1)\n",
        "presionCaldasPromedio = sacarPromedio(presion_cal, 'presion',1)\n",
        "vientosCaldasPromedio = sacarPromedio(vientos_cal,'velocidad_prom',3)\n",
        "\n",
        "#Sacar promedio Aranjuez\n",
        "temperaturaAranjuezPromedio = sacarPromedio(temp_aranj, 'temperatura', 1)\n",
        "humedadAranjuezPromedio = sacarPromedio(humedad_aranj,'humedad',1)\n",
        "precipitacionAranjuezPromedio = sacarPromedio(precipitacion_aranj, 'p1',1)\n",
        "presionAranjuezPromedio = sacarPromedio(presion_aranj, 'presion',1)\n",
        "vientosAranjuezPromedio = sacarPromedio(vientos_aranj,'velocidad_prom',3)\n",
        "\n",
        "#Sacar promedio Belen\n",
        "temperaturaBelenPromedio = sacarPromedio(temp_bel, 'temperatura', 1)\n",
        "humedadBelenPromedio = sacarPromedio(humedad_bel,'humedad',1)\n",
        "precipitacionBelenPromedio = sacarPromedio(precipitacion_bel, 'p1',1)\n",
        "presionBelenPromedio = sacarPromedio(presion_bel, 'presion',1)\n",
        "vientosBelenPromedio = sacarPromedio(vientos_bel,'velocidad_prom',3)\n"
      ]
    },
    {
      "cell_type": "markdown",
      "metadata": {
        "id": "33zCdrfMteZh"
      },
      "source": [
        "Al dataframe dataCalidadFiltrada se necesita sacar el promedio por dia para después concatanar las demas variables con el dataframe"
      ]
    },
    {
      "cell_type": "code",
      "execution_count": 98,
      "metadata": {
        "colab": {
          "base_uri": "https://localhost:8080/",
          "height": 144
        },
        "id": "RAKWZAuateZh",
        "outputId": "9723d563-5d2d-4c96-a986-0e640beb500f"
      },
      "outputs": [
        {
          "data": {
            "text/html": [
              "<div>\n",
              "<style scoped>\n",
              "    .dataframe tbody tr th:only-of-type {\n",
              "        vertical-align: middle;\n",
              "    }\n",
              "\n",
              "    .dataframe tbody tr th {\n",
              "        vertical-align: top;\n",
              "    }\n",
              "\n",
              "    .dataframe thead th {\n",
              "        text-align: right;\n",
              "    }\n",
              "</style>\n",
              "<table border=\"1\" class=\"dataframe\">\n",
              "  <thead>\n",
              "    <tr style=\"text-align: right;\">\n",
              "      <th></th>\n",
              "      <th>anio</th>\n",
              "      <th>mes</th>\n",
              "      <th>dia</th>\n",
              "      <th>pm25</th>\n",
              "      <th>codigoserial</th>\n",
              "    </tr>\n",
              "  </thead>\n",
              "  <tbody>\n",
              "    <tr>\n",
              "      <th>0</th>\n",
              "      <td>2024</td>\n",
              "      <td>1</td>\n",
              "      <td>1</td>\n",
              "      <td>19.82980</td>\n",
              "      <td>69</td>\n",
              "    </tr>\n",
              "    <tr>\n",
              "      <th>1</th>\n",
              "      <td>2024</td>\n",
              "      <td>1</td>\n",
              "      <td>2</td>\n",
              "      <td>12.33775</td>\n",
              "      <td>69</td>\n",
              "    </tr>\n",
              "    <tr>\n",
              "      <th>2</th>\n",
              "      <td>2024</td>\n",
              "      <td>1</td>\n",
              "      <td>3</td>\n",
              "      <td>15.04940</td>\n",
              "      <td>69</td>\n",
              "    </tr>\n",
              "  </tbody>\n",
              "</table>\n",
              "</div>"
            ],
            "text/plain": [
              "   anio  mes  dia      pm25  codigoserial\n",
              "0  2024    1    1  19.82980            69\n",
              "1  2024    1    2  12.33775            69\n",
              "2  2024    1    3  15.04940            69"
            ]
          },
          "execution_count": 98,
          "metadata": {},
          "output_type": "execute_result"
        }
      ],
      "source": [
        "# calidadAireItagui = sacarPromedio(dataCalidadFiltradaItagui, 'pm25',2)\n",
        "calidadAireCaldas = sacarPromedio(dataCalidadFiltradaCaldas, 'pm25', 2)\n",
        "calidadAireAranjuez = sacarPromedio(dataCalidadFiltradaAranjuez, 'pm25', 2)\n",
        "calidadAireBelen = sacarPromedio(dataCalidadFiltradaBelen, 'pm25', 2)\n",
        "calidadAireCaldas.iloc[:3]"
      ]
    },
    {
      "cell_type": "markdown",
      "metadata": {},
      "source": [
        "### Creación de columnas pertinentes para el estudio"
      ]
    },
    {
      "cell_type": "markdown",
      "metadata": {
        "id": "RZvhfy4V89ea"
      },
      "source": [
        "##### Crear función para tener el día de la semana en una columna en cada dataframe"
      ]
    },
    {
      "cell_type": "code",
      "execution_count": 99,
      "metadata": {},
      "outputs": [],
      "source": [
        "def definirDia(anio, mes, dia):\n",
        "    \"\"\"\n",
        "    Función para definir el día de la semana\n",
        "    args:   anio = año del dato\n",
        "            mes = mes del dato\n",
        "            dia = día del dato\n",
        "    In[0]: año, mes, dia\n",
        "    Out[0]: día de la semana en español\n",
        "    \"\"\"\n",
        "    dias_semana = ['Domingo', 'Lunes', 'Martes', 'Miercoles', 'Jueves', 'Viernes', 'Sabado']\n",
        "    # se crea un objeto de la fecha\n",
        "    objetoFecha = datetime.date(int(anio), int(mes), int(dia))\n",
        "    # obtener el índice del día de la semana %W -> Weekday (0 es Domingo, 6 es Sábado)\n",
        "    indice_dia = int(objetoFecha.strftime(\"%w\"))\n",
        "    # obtener el nombre del día en español\n",
        "\n",
        "    nombreDia = dias_semana[indice_dia]\n",
        "        #Condicion para agrupar dias\n",
        "    if  nombreDia == \"Lunes\" or nombreDia == \"Martes\" or nombreDia == \"Miercoles\":\n",
        "        return \"Inicio Semana\"\n",
        "    elif nombreDia == \"Jueves\" or nombreDia == \"Viernes\" :\n",
        "        return \"Media semana\"\n",
        "    elif nombreDia == \"Sabado\" or nombreDia == \"Domingo\":\n",
        "        return \"Fin de Semana\"\n",
        "        \n"
      ]
    },
    {
      "cell_type": "code",
      "execution_count": 100,
      "metadata": {},
      "outputs": [],
      "source": [
        "# # Aplicar la función a cada fila del DataFrame estación Itagui\n",
        "# calidadAireItagui['dia_semana'] = calidadAireItagui.apply(lambda row: definirDia(row['anio'], row['mes'], row['dia']), axis=1)\n",
        "# temperaturaItaguiPromedio['dia_semana'] = temperaturaItaguiPromedio.apply(lambda row: definirDia(row['anio'], row['mes'], row['dia']), axis=1)\n",
        "# vientosItaguiPromedio['dia_semana'] = vientosItaguiPromedio.apply(lambda row: definirDia(row['anio'], row['mes'], row['dia']), axis=1)\n",
        "# humedadItaguiPromedio['dia_semana'] = humedadItaguiPromedio.apply(lambda row: definirDia(row['anio'], row['mes'], row['dia']), axis=1)\n",
        "# precipitacionItaguiPromedio['dia_semana'] = precipitacionItaguiPromedio.apply(lambda row: definirDia(row['anio'], row['mes'], row['dia']), axis=1)\n",
        "# presionItaguiPromedio['dia_semana'] = presionItaguiPromedio.apply(lambda row: definirDia(row['anio'], row['mes'], row['dia']), axis=1)\n",
        "\n",
        "# Aplicar la función a cada fila del DataFrame estación Caldas\n",
        "calidadAireCaldas['dia_semana'] = calidadAireCaldas.apply(lambda row: definirDia(row['anio'], row['mes'], row['dia']), axis=1)\n",
        "temperaturaCaldasPromedio['dia_semana'] = temperaturaCaldasPromedio.apply(lambda row: definirDia(row['anio'], row['mes'], row['dia']), axis=1)\n",
        "vientosCaldasPromedio['dia_semana'] = vientosCaldasPromedio.apply(lambda row: definirDia(row['anio'], row['mes'], row['dia']), axis=1)\n",
        "humedadCaldasPromedio['dia_semana'] = humedadCaldasPromedio.apply(lambda row: definirDia(row['anio'], row['mes'], row['dia']), axis=1)\n",
        "precipitacionCaldasPromedio['dia_semana'] = precipitacionCaldasPromedio.apply(lambda row: definirDia(row['anio'], row['mes'], row['dia']), axis=1)\n",
        "presionCaldasPromedio['dia_semana'] = presionCaldasPromedio.apply(lambda row: definirDia(row['anio'], row['mes'], row['dia']), axis=1)\n",
        "\n",
        "# Aplicar la función a cada fila del Dataframe estacion Aranjuez\n",
        "\n",
        "calidadAireAranjuez['dia_semana'] = calidadAireAranjuez.apply(lambda row: definirDia(row['anio'], row['mes'], row['dia']), axis=1)\n",
        "temperaturaAranjuezPromedio['dia_semana'] = temperaturaAranjuezPromedio.apply(lambda row: definirDia(row['anio'], row['mes'], row['dia']), axis=1)\n",
        "vientosAranjuezPromedio['dia_semana'] = vientosAranjuezPromedio.apply(lambda row: definirDia(row['anio'], row['mes'], row['dia']), axis=1)\n",
        "humedadAranjuezPromedio['dia_semana'] = humedadAranjuezPromedio.apply(lambda row: definirDia(row['anio'], row['mes'], row['dia']), axis=1)\n",
        "precipitacionAranjuezPromedio['dia_semana'] = precipitacionAranjuezPromedio.apply(lambda row: definirDia(row['anio'], row['mes'], row['dia']), axis=1)\n",
        "presionAranjuezPromedio['dia_semana'] = presionAranjuezPromedio.apply(lambda row: definirDia(row['anio'], row['mes'], row['dia']), axis=1)\n",
        "\n",
        "# Aplicar la función a cada fila del Dataframe estacion belen\n",
        "\n",
        "calidadAireBelen['dia_semana'] = calidadAireBelen.apply(lambda row: definirDia(row['anio'], row['mes'], row['dia']), axis=1)\n",
        "temperaturaBelenPromedio['dia_semana'] = temperaturaBelenPromedio.apply(lambda row: definirDia(row['anio'], row['mes'], row['dia']), axis=1)\n",
        "vientosBelenPromedio['dia_semana'] = vientosBelenPromedio.apply(lambda row: definirDia(row['anio'], row['mes'], row['dia']), axis=1)\n",
        "humedadBelenPromedio['dia_semana'] = humedadBelenPromedio.apply(lambda row: definirDia(row['anio'], row['mes'], row['dia']), axis=1)\n",
        "precipitacionBelenPromedio['dia_semana'] = precipitacionBelenPromedio.apply(lambda row: definirDia(row['anio'], row['mes'], row['dia']), axis=1)\n",
        "presionBelenPromedio['dia_semana'] = presionBelenPromedio.apply(lambda row: definirDia(row['anio'], row['mes'], row['dia']), axis=1)\n",
        "\n"
      ]
    },
    {
      "cell_type": "markdown",
      "metadata": {},
      "source": [
        "### Se detalla uno de los dataframes sobre esta nueva columna dia_semana"
      ]
    },
    {
      "cell_type": "code",
      "execution_count": 101,
      "metadata": {},
      "outputs": [
        {
          "data": {
            "text/html": [
              "<div>\n",
              "<style scoped>\n",
              "    .dataframe tbody tr th:only-of-type {\n",
              "        vertical-align: middle;\n",
              "    }\n",
              "\n",
              "    .dataframe tbody tr th {\n",
              "        vertical-align: top;\n",
              "    }\n",
              "\n",
              "    .dataframe thead th {\n",
              "        text-align: right;\n",
              "    }\n",
              "</style>\n",
              "<table border=\"1\" class=\"dataframe\">\n",
              "  <thead>\n",
              "    <tr style=\"text-align: right;\">\n",
              "      <th></th>\n",
              "      <th>anio</th>\n",
              "      <th>mes</th>\n",
              "      <th>dia</th>\n",
              "      <th>pm25</th>\n",
              "      <th>codigoserial</th>\n",
              "      <th>dia_semana</th>\n",
              "    </tr>\n",
              "  </thead>\n",
              "  <tbody>\n",
              "    <tr>\n",
              "      <th>0</th>\n",
              "      <td>2024</td>\n",
              "      <td>1</td>\n",
              "      <td>1</td>\n",
              "      <td>19.82980</td>\n",
              "      <td>69</td>\n",
              "      <td>Inicio Semana</td>\n",
              "    </tr>\n",
              "    <tr>\n",
              "      <th>1</th>\n",
              "      <td>2024</td>\n",
              "      <td>1</td>\n",
              "      <td>2</td>\n",
              "      <td>12.33775</td>\n",
              "      <td>69</td>\n",
              "      <td>Inicio Semana</td>\n",
              "    </tr>\n",
              "    <tr>\n",
              "      <th>2</th>\n",
              "      <td>2024</td>\n",
              "      <td>1</td>\n",
              "      <td>3</td>\n",
              "      <td>15.04940</td>\n",
              "      <td>69</td>\n",
              "      <td>Inicio Semana</td>\n",
              "    </tr>\n",
              "  </tbody>\n",
              "</table>\n",
              "</div>"
            ],
            "text/plain": [
              "   anio  mes  dia      pm25  codigoserial     dia_semana\n",
              "0  2024    1    1  19.82980            69  Inicio Semana\n",
              "1  2024    1    2  12.33775            69  Inicio Semana\n",
              "2  2024    1    3  15.04940            69  Inicio Semana"
            ]
          },
          "execution_count": 101,
          "metadata": {},
          "output_type": "execute_result"
        }
      ],
      "source": [
        "calidadAireCaldas.head(3)"
      ]
    },
    {
      "cell_type": "markdown",
      "metadata": {},
      "source": [
        "### Se agrega columna  categorica dependiendo del codigo serial \n"
      ]
    },
    {
      "cell_type": "code",
      "execution_count": 102,
      "metadata": {},
      "outputs": [
        {
          "data": {
            "text/html": [
              "<div>\n",
              "<style scoped>\n",
              "    .dataframe tbody tr th:only-of-type {\n",
              "        vertical-align: middle;\n",
              "    }\n",
              "\n",
              "    .dataframe tbody tr th {\n",
              "        vertical-align: top;\n",
              "    }\n",
              "\n",
              "    .dataframe thead th {\n",
              "        text-align: right;\n",
              "    }\n",
              "</style>\n",
              "<table border=\"1\" class=\"dataframe\">\n",
              "  <thead>\n",
              "    <tr style=\"text-align: right;\">\n",
              "      <th></th>\n",
              "      <th>anio</th>\n",
              "      <th>mes</th>\n",
              "      <th>dia</th>\n",
              "      <th>pm25</th>\n",
              "      <th>codigoserial</th>\n",
              "      <th>dia_semana</th>\n",
              "      <th>estacion</th>\n",
              "    </tr>\n",
              "  </thead>\n",
              "  <tbody>\n",
              "    <tr>\n",
              "      <th>0</th>\n",
              "      <td>2024</td>\n",
              "      <td>1</td>\n",
              "      <td>1</td>\n",
              "      <td>19.82980</td>\n",
              "      <td>69</td>\n",
              "      <td>Inicio Semana</td>\n",
              "      <td>Estacion Caldas</td>\n",
              "    </tr>\n",
              "    <tr>\n",
              "      <th>1</th>\n",
              "      <td>2024</td>\n",
              "      <td>1</td>\n",
              "      <td>2</td>\n",
              "      <td>12.33775</td>\n",
              "      <td>69</td>\n",
              "      <td>Inicio Semana</td>\n",
              "      <td>Estacion Caldas</td>\n",
              "    </tr>\n",
              "    <tr>\n",
              "      <th>2</th>\n",
              "      <td>2024</td>\n",
              "      <td>1</td>\n",
              "      <td>3</td>\n",
              "      <td>15.04940</td>\n",
              "      <td>69</td>\n",
              "      <td>Inicio Semana</td>\n",
              "      <td>Estacion Caldas</td>\n",
              "    </tr>\n",
              "  </tbody>\n",
              "</table>\n",
              "</div>"
            ],
            "text/plain": [
              "   anio  mes  dia      pm25  codigoserial     dia_semana         estacion\n",
              "0  2024    1    1  19.82980            69  Inicio Semana  Estacion Caldas\n",
              "1  2024    1    2  12.33775            69  Inicio Semana  Estacion Caldas\n",
              "2  2024    1    3  15.04940            69  Inicio Semana  Estacion Caldas"
            ]
          },
          "execution_count": 102,
          "metadata": {},
          "output_type": "execute_result"
        }
      ],
      "source": [
        "\n",
        "def categoriaCodigoSerial(codigo):\n",
        "    \"\"\"\n",
        "    Función para definir la categoría de calidad del aire\n",
        "    args:   codigo = código serial de calidad del aire\n",
        "    In[0]: código serial\n",
        "    Out[0]: categoría de calidad del aire\n",
        "    \"\"\"\n",
        "    if codigo == 28:\n",
        "        return 'Estacion Itagui'\n",
        "    elif codigo == 69:\n",
        "        return 'Estacion Caldas'\n",
        "    elif codigo == 86:\n",
        "        return 'Estacion Aranjuez'\n",
        "    elif codigo == 83:\n",
        "        return 'Estacion Belen'\n",
        "\n",
        "# # Aplicar la función a cada fila del DataFrame estación Itagui\n",
        "# calidadAireItagui['estacion'] = calidadAireItagui.apply(lambda row: categoriaCodigoSerial(row['codigoserial']), axis=1)\n",
        "\n",
        "# Aplicar la función a cada fila del DataFrame estación Caldas\n",
        "calidadAireCaldas['estacion'] = calidadAireCaldas.apply(lambda row: categoriaCodigoSerial(row['codigoserial']), axis=1)\n",
        "\n",
        "# Aplicar la función a cada fila del DataFrame estación Aranjuez\n",
        "calidadAireAranjuez['estacion'] = calidadAireAranjuez.apply(lambda row: categoriaCodigoSerial(row['codigoserial']), axis=1)\n",
        "\n",
        "# Aplicar la función a cada fila del DataFrame estación Belen\n",
        "calidadAireBelen['estacion'] = calidadAireBelen.apply(lambda row: categoriaCodigoSerial(row['codigoserial']), axis=1)\n",
        "\n",
        "# Se muestran los primeros 3 registros de los dataframes con la nueva columna\n",
        "calidadAireCaldas.head(3)"
      ]
    },
    {
      "cell_type": "markdown",
      "metadata": {},
      "source": [
        "### Se crea una columna binaria sobre si ese dia fue festivo o no"
      ]
    },
    {
      "cell_type": "code",
      "execution_count": 103,
      "metadata": {},
      "outputs": [
        {
          "data": {
            "text/html": [
              "<div>\n",
              "<style scoped>\n",
              "    .dataframe tbody tr th:only-of-type {\n",
              "        vertical-align: middle;\n",
              "    }\n",
              "\n",
              "    .dataframe tbody tr th {\n",
              "        vertical-align: top;\n",
              "    }\n",
              "\n",
              "    .dataframe thead th {\n",
              "        text-align: right;\n",
              "    }\n",
              "</style>\n",
              "<table border=\"1\" class=\"dataframe\">\n",
              "  <thead>\n",
              "    <tr style=\"text-align: right;\">\n",
              "      <th></th>\n",
              "      <th>anio</th>\n",
              "      <th>mes</th>\n",
              "      <th>dia</th>\n",
              "      <th>pm25</th>\n",
              "      <th>codigoserial</th>\n",
              "      <th>dia_semana</th>\n",
              "      <th>estacion</th>\n",
              "      <th>festivo</th>\n",
              "    </tr>\n",
              "  </thead>\n",
              "  <tbody>\n",
              "    <tr>\n",
              "      <th>83</th>\n",
              "      <td>2024</td>\n",
              "      <td>3</td>\n",
              "      <td>24</td>\n",
              "      <td>29.47960</td>\n",
              "      <td>69</td>\n",
              "      <td>Fin de Semana</td>\n",
              "      <td>Estacion Caldas</td>\n",
              "      <td>0</td>\n",
              "    </tr>\n",
              "    <tr>\n",
              "      <th>84</th>\n",
              "      <td>2024</td>\n",
              "      <td>3</td>\n",
              "      <td>25</td>\n",
              "      <td>19.64160</td>\n",
              "      <td>69</td>\n",
              "      <td>Inicio Semana</td>\n",
              "      <td>Estacion Caldas</td>\n",
              "      <td>1</td>\n",
              "    </tr>\n",
              "    <tr>\n",
              "      <th>85</th>\n",
              "      <td>2024</td>\n",
              "      <td>3</td>\n",
              "      <td>26</td>\n",
              "      <td>17.95095</td>\n",
              "      <td>69</td>\n",
              "      <td>Inicio Semana</td>\n",
              "      <td>Estacion Caldas</td>\n",
              "      <td>0</td>\n",
              "    </tr>\n",
              "    <tr>\n",
              "      <th>86</th>\n",
              "      <td>2024</td>\n",
              "      <td>3</td>\n",
              "      <td>27</td>\n",
              "      <td>21.78910</td>\n",
              "      <td>69</td>\n",
              "      <td>Inicio Semana</td>\n",
              "      <td>Estacion Caldas</td>\n",
              "      <td>0</td>\n",
              "    </tr>\n",
              "    <tr>\n",
              "      <th>87</th>\n",
              "      <td>2024</td>\n",
              "      <td>3</td>\n",
              "      <td>28</td>\n",
              "      <td>20.24185</td>\n",
              "      <td>69</td>\n",
              "      <td>Media semana</td>\n",
              "      <td>Estacion Caldas</td>\n",
              "      <td>1</td>\n",
              "    </tr>\n",
              "    <tr>\n",
              "      <th>88</th>\n",
              "      <td>2024</td>\n",
              "      <td>3</td>\n",
              "      <td>29</td>\n",
              "      <td>22.16985</td>\n",
              "      <td>69</td>\n",
              "      <td>Media semana</td>\n",
              "      <td>Estacion Caldas</td>\n",
              "      <td>1</td>\n",
              "    </tr>\n",
              "    <tr>\n",
              "      <th>89</th>\n",
              "      <td>2024</td>\n",
              "      <td>3</td>\n",
              "      <td>30</td>\n",
              "      <td>21.31010</td>\n",
              "      <td>69</td>\n",
              "      <td>Fin de Semana</td>\n",
              "      <td>Estacion Caldas</td>\n",
              "      <td>0</td>\n",
              "    </tr>\n",
              "  </tbody>\n",
              "</table>\n",
              "</div>"
            ],
            "text/plain": [
              "    anio  mes  dia      pm25  codigoserial     dia_semana         estacion  \\\n",
              "83  2024    3   24  29.47960            69  Fin de Semana  Estacion Caldas   \n",
              "84  2024    3   25  19.64160            69  Inicio Semana  Estacion Caldas   \n",
              "85  2024    3   26  17.95095            69  Inicio Semana  Estacion Caldas   \n",
              "86  2024    3   27  21.78910            69  Inicio Semana  Estacion Caldas   \n",
              "87  2024    3   28  20.24185            69   Media semana  Estacion Caldas   \n",
              "88  2024    3   29  22.16985            69   Media semana  Estacion Caldas   \n",
              "89  2024    3   30  21.31010            69  Fin de Semana  Estacion Caldas   \n",
              "\n",
              "    festivo  \n",
              "83        0  \n",
              "84        1  \n",
              "85        0  \n",
              "86        0  \n",
              "87        1  \n",
              "88        1  \n",
              "89        0  "
            ]
          },
          "execution_count": 103,
          "metadata": {},
          "output_type": "execute_result"
        }
      ],
      "source": [
        "# Obtener los festivos de Colombia con el indicador CO\n",
        "festivosColombia = holidays.CO()\n",
        "\n",
        "# Función para verificar si es festivo\n",
        "def es_festivo(anio, mes, dia):\n",
        "   \n",
        "    fecha = datetime.date(int(anio), int(mes), int(dia))\n",
        "    festivo = fecha in festivosColombia\n",
        "    if festivo == True :\n",
        "        return 1\n",
        "    elif festivo == False :\n",
        "        return 0\n",
        "\n",
        "# # Aplicamos la función es_festivo\n",
        "# calidadAireItagui['festivo'] = calidadAireItagui.apply(lambda row: es_festivo(row['anio'], row['mes'], row['dia']), axis=1)\n",
        "calidadAireCaldas['festivo'] = calidadAireCaldas.apply(lambda row: es_festivo(row['anio'], row['mes'], row['dia']), axis=1)\n",
        "calidadAireAranjuez['festivo'] = calidadAireAranjuez.apply(lambda row: es_festivo(row['anio'], row['mes'], row['dia']), axis=1)\n",
        "calidadAireBelen['festivo'] = calidadAireBelen.apply(lambda row: es_festivo(row['anio'], row['mes'], row['dia']), axis=1)\n",
        "\n",
        "# resultado para ver que el 25 de marzo fue festivo igual que el 29 y 29 representando el jueves y viernes santo\n",
        "calidadAireCaldas.iloc[83:90]\n"
      ]
    },
    {
      "cell_type": "markdown",
      "metadata": {
        "id": "2dIrCx8gteZh"
      },
      "source": [
        "Unión de dataFrames"
      ]
    },
    {
      "cell_type": "code",
      "execution_count": 104,
      "metadata": {
        "id": "EVChD9m2teZh"
      },
      "outputs": [
        {
          "data": {
            "text/html": [
              "<div>\n",
              "<style scoped>\n",
              "    .dataframe tbody tr th:only-of-type {\n",
              "        vertical-align: middle;\n",
              "    }\n",
              "\n",
              "    .dataframe tbody tr th {\n",
              "        vertical-align: top;\n",
              "    }\n",
              "\n",
              "    .dataframe thead th {\n",
              "        text-align: right;\n",
              "    }\n",
              "</style>\n",
              "<table border=\"1\" class=\"dataframe\">\n",
              "  <thead>\n",
              "    <tr style=\"text-align: right;\">\n",
              "      <th></th>\n",
              "      <th>anio</th>\n",
              "      <th>mes</th>\n",
              "      <th>dia</th>\n",
              "      <th>pm25</th>\n",
              "      <th>codigoserial</th>\n",
              "      <th>dia_semana</th>\n",
              "      <th>estacion</th>\n",
              "      <th>festivo</th>\n",
              "      <th>temperatura</th>\n",
              "      <th>humedad</th>\n",
              "      <th>p1</th>\n",
              "      <th>presion</th>\n",
              "      <th>velocidad_prom</th>\n",
              "      <th>velocidad_max</th>\n",
              "      <th>direccion_prom</th>\n",
              "      <th>direccion_max</th>\n",
              "    </tr>\n",
              "  </thead>\n",
              "  <tbody>\n",
              "    <tr>\n",
              "      <th>0</th>\n",
              "      <td>2024</td>\n",
              "      <td>1</td>\n",
              "      <td>1</td>\n",
              "      <td>19.82980</td>\n",
              "      <td>69</td>\n",
              "      <td>Inicio Semana</td>\n",
              "      <td>Estacion Caldas</td>\n",
              "      <td>1</td>\n",
              "      <td>19.9</td>\n",
              "      <td>72.15</td>\n",
              "      <td>0.0</td>\n",
              "      <td>827.2</td>\n",
              "      <td>1.1</td>\n",
              "      <td>1.60</td>\n",
              "      <td>156.0</td>\n",
              "      <td>156.0</td>\n",
              "    </tr>\n",
              "    <tr>\n",
              "      <th>1</th>\n",
              "      <td>2024</td>\n",
              "      <td>1</td>\n",
              "      <td>2</td>\n",
              "      <td>12.33775</td>\n",
              "      <td>69</td>\n",
              "      <td>Inicio Semana</td>\n",
              "      <td>Estacion Caldas</td>\n",
              "      <td>0</td>\n",
              "      <td>19.6</td>\n",
              "      <td>76.10</td>\n",
              "      <td>0.0</td>\n",
              "      <td>826.3</td>\n",
              "      <td>1.6</td>\n",
              "      <td>2.60</td>\n",
              "      <td>128.0</td>\n",
              "      <td>130.5</td>\n",
              "    </tr>\n",
              "    <tr>\n",
              "      <th>2</th>\n",
              "      <td>2024</td>\n",
              "      <td>1</td>\n",
              "      <td>3</td>\n",
              "      <td>15.04940</td>\n",
              "      <td>69</td>\n",
              "      <td>Inicio Semana</td>\n",
              "      <td>Estacion Caldas</td>\n",
              "      <td>0</td>\n",
              "      <td>17.8</td>\n",
              "      <td>73.50</td>\n",
              "      <td>0.0</td>\n",
              "      <td>826.6</td>\n",
              "      <td>1.5</td>\n",
              "      <td>2.25</td>\n",
              "      <td>155.0</td>\n",
              "      <td>153.0</td>\n",
              "    </tr>\n",
              "  </tbody>\n",
              "</table>\n",
              "</div>"
            ],
            "text/plain": [
              "   anio  mes  dia      pm25  codigoserial     dia_semana         estacion  \\\n",
              "0  2024    1    1  19.82980            69  Inicio Semana  Estacion Caldas   \n",
              "1  2024    1    2  12.33775            69  Inicio Semana  Estacion Caldas   \n",
              "2  2024    1    3  15.04940            69  Inicio Semana  Estacion Caldas   \n",
              "\n",
              "   festivo  temperatura  humedad   p1  presion  velocidad_prom  velocidad_max  \\\n",
              "0        1         19.9    72.15  0.0    827.2             1.1           1.60   \n",
              "1        0         19.6    76.10  0.0    826.3             1.6           2.60   \n",
              "2        0         17.8    73.50  0.0    826.6             1.5           2.25   \n",
              "\n",
              "   direccion_prom  direccion_max  \n",
              "0           156.0          156.0  \n",
              "1           128.0          130.5  \n",
              "2           155.0          153.0  "
            ]
          },
          "execution_count": 104,
          "metadata": {},
          "output_type": "execute_result"
        }
      ],
      "source": [
        "#Unir los dataframes\n",
        "def unirDatos(data1, data2):\n",
        "    \"\"\"\"\n",
        "    Función para unir dos dataframes\n",
        "    In[0]: dataset1, dataset2\n",
        "    Out[0]: dataset unido\n",
        "    \"\"\"\n",
        "    return pd.merge(data1,data2,on=['anio','mes','dia','dia_semana'],how='inner')\n",
        "\n",
        "# #Unir los dataframes de la estación Itagui\n",
        "# calidadAireItaguiUnido = unirDatos(calidadAireItagui,temperaturaItaguiPromedio)\n",
        "# calidadAireItaguiUnido = unirDatos(calidadAireItaguiUnido,humedadItaguiPromedio)\n",
        "# calidadAireItaguiUnido = unirDatos(calidadAireItaguiUnido,presionItaguiPromedio)\n",
        "# calidadAireItaguiUnido = unirDatos(calidadAireItaguiUnido,precipitacionItaguiPromedio)\n",
        "# calidadAireItaguiUnido = unirDatos(calidadAireItaguiUnido,vientosItaguiPromedio)\n",
        "\n",
        "#Unir los dataframes de la estación Caldas\n",
        "calidadAireCaldasUnido = unirDatos(calidadAireCaldas,temperaturaCaldasPromedio)\n",
        "calidadAireCaldasUnido = unirDatos(calidadAireCaldasUnido,humedadCaldasPromedio)\n",
        "calidadAireCaldasUnido = unirDatos(calidadAireCaldasUnido,precipitacionCaldasPromedio)\n",
        "calidadAireCaldasUnido = unirDatos(calidadAireCaldasUnido,presionCaldasPromedio)\n",
        "calidadAireCaldasUnido = unirDatos(calidadAireCaldasUnido,vientosCaldasPromedio)\n",
        "\n",
        "#Unir los dataframes de la estación Aranjuez\n",
        "calidadAireAranjuezUnido = unirDatos(calidadAireAranjuez,temperaturaAranjuezPromedio)\n",
        "calidadAireAranjuezUnido = unirDatos(calidadAireAranjuezUnido,humedadAranjuezPromedio)\n",
        "calidadAireAranjuezUnido = unirDatos(calidadAireAranjuezUnido,precipitacionAranjuezPromedio)\n",
        "calidadAireAranjuezUnido = unirDatos(calidadAireAranjuezUnido,presionAranjuezPromedio)\n",
        "calidadAireAranjuezUnido = unirDatos(calidadAireAranjuezUnido,vientosAranjuezPromedio)\n",
        "\n",
        "#Unir los dataframes de la estación Belen\n",
        "calidadAireBelenUnido = unirDatos(calidadAireBelen,temperaturaBelenPromedio)\n",
        "calidadAireBelenUnido = unirDatos(calidadAireBelenUnido,humedadBelenPromedio)\n",
        "calidadAireBelenUnido = unirDatos(calidadAireBelenUnido,precipitacionBelenPromedio)\n",
        "calidadAireBelenUnido = unirDatos(calidadAireBelenUnido,presionBelenPromedio)\n",
        "calidadAireBelenUnido = unirDatos(calidadAireBelenUnido,vientosBelenPromedio)\n",
        "\n",
        "calidadAireCaldasUnido.iloc[:3]"
      ]
    },
    {
      "cell_type": "code",
      "execution_count": 105,
      "metadata": {
        "id": "ZjgBkaJ8teZi"
      },
      "outputs": [
        {
          "data": {
            "text/html": [
              "<div>\n",
              "<style scoped>\n",
              "    .dataframe tbody tr th:only-of-type {\n",
              "        vertical-align: middle;\n",
              "    }\n",
              "\n",
              "    .dataframe tbody tr th {\n",
              "        vertical-align: top;\n",
              "    }\n",
              "\n",
              "    .dataframe thead th {\n",
              "        text-align: right;\n",
              "    }\n",
              "</style>\n",
              "<table border=\"1\" class=\"dataframe\">\n",
              "  <thead>\n",
              "    <tr style=\"text-align: right;\">\n",
              "      <th></th>\n",
              "      <th>anio</th>\n",
              "      <th>mes</th>\n",
              "      <th>dia</th>\n",
              "      <th>pm25</th>\n",
              "      <th>codigoserial</th>\n",
              "      <th>dia_semana</th>\n",
              "      <th>estacion</th>\n",
              "      <th>festivo</th>\n",
              "      <th>temperatura</th>\n",
              "      <th>humedad</th>\n",
              "      <th>p1</th>\n",
              "      <th>presion</th>\n",
              "      <th>velocidad_prom</th>\n",
              "      <th>velocidad_max</th>\n",
              "      <th>direccion_prom</th>\n",
              "      <th>direccion_max</th>\n",
              "    </tr>\n",
              "  </thead>\n",
              "  <tbody>\n",
              "    <tr>\n",
              "      <th>0</th>\n",
              "      <td>2024</td>\n",
              "      <td>1</td>\n",
              "      <td>1</td>\n",
              "      <td>19.82980</td>\n",
              "      <td>69</td>\n",
              "      <td>Inicio Semana</td>\n",
              "      <td>Estacion Caldas</td>\n",
              "      <td>1</td>\n",
              "      <td>19.9</td>\n",
              "      <td>72.15</td>\n",
              "      <td>0.0</td>\n",
              "      <td>827.2</td>\n",
              "      <td>1.1</td>\n",
              "      <td>1.60</td>\n",
              "      <td>156.0</td>\n",
              "      <td>156.0</td>\n",
              "    </tr>\n",
              "    <tr>\n",
              "      <th>1</th>\n",
              "      <td>2024</td>\n",
              "      <td>1</td>\n",
              "      <td>2</td>\n",
              "      <td>12.33775</td>\n",
              "      <td>69</td>\n",
              "      <td>Inicio Semana</td>\n",
              "      <td>Estacion Caldas</td>\n",
              "      <td>0</td>\n",
              "      <td>19.6</td>\n",
              "      <td>76.10</td>\n",
              "      <td>0.0</td>\n",
              "      <td>826.3</td>\n",
              "      <td>1.6</td>\n",
              "      <td>2.60</td>\n",
              "      <td>128.0</td>\n",
              "      <td>130.5</td>\n",
              "    </tr>\n",
              "    <tr>\n",
              "      <th>2</th>\n",
              "      <td>2024</td>\n",
              "      <td>1</td>\n",
              "      <td>3</td>\n",
              "      <td>15.04940</td>\n",
              "      <td>69</td>\n",
              "      <td>Inicio Semana</td>\n",
              "      <td>Estacion Caldas</td>\n",
              "      <td>0</td>\n",
              "      <td>17.8</td>\n",
              "      <td>73.50</td>\n",
              "      <td>0.0</td>\n",
              "      <td>826.6</td>\n",
              "      <td>1.5</td>\n",
              "      <td>2.25</td>\n",
              "      <td>155.0</td>\n",
              "      <td>153.0</td>\n",
              "    </tr>\n",
              "  </tbody>\n",
              "</table>\n",
              "</div>"
            ],
            "text/plain": [
              "   anio  mes  dia      pm25  codigoserial     dia_semana         estacion  \\\n",
              "0  2024    1    1  19.82980            69  Inicio Semana  Estacion Caldas   \n",
              "1  2024    1    2  12.33775            69  Inicio Semana  Estacion Caldas   \n",
              "2  2024    1    3  15.04940            69  Inicio Semana  Estacion Caldas   \n",
              "\n",
              "   festivo  temperatura  humedad   p1  presion  velocidad_prom  velocidad_max  \\\n",
              "0        1         19.9    72.15  0.0    827.2             1.1           1.60   \n",
              "1        0         19.6    76.10  0.0    826.3             1.6           2.60   \n",
              "2        0         17.8    73.50  0.0    826.6             1.5           2.25   \n",
              "\n",
              "   direccion_prom  direccion_max  \n",
              "0           156.0          156.0  \n",
              "1           128.0          130.5  \n",
              "2           155.0          153.0  "
            ]
          },
          "execution_count": 105,
          "metadata": {},
          "output_type": "execute_result"
        }
      ],
      "source": [
        "def ConcatenadoRegistros(*data):\n",
        "    \"\"\"\"\n",
        "    Función para concatenar dataframes\n",
        "    In[0]: (dataset1, dataset2, dataset3, ..., datasetn)\n",
        "    Out[0]: dataset concatenado\n",
        "    \"\"\"\n",
        "\n",
        "    return pd.concat([*data], axis=0)\n",
        "\n",
        "# Si queremos unir el de itagui calidadAireItaguiUnido\n",
        "dataSetCalidadAire = ConcatenadoRegistros( calidadAireCaldasUnido, calidadAireAranjuezUnido, calidadAireBelenUnido)\n",
        "\n",
        "dataSetCalidadAire.head(3)"
      ]
    },
    {
      "cell_type": "markdown",
      "metadata": {},
      "source": [
        "### Exploración dataset concatenado por las estaciones escogidas"
      ]
    },
    {
      "cell_type": "code",
      "execution_count": 106,
      "metadata": {},
      "outputs": [
        {
          "name": "stdout",
          "output_type": "stream",
          "text": [
            "<class 'pandas.core.frame.DataFrame'>\n",
            "Index: 675 entries, 0 to 167\n",
            "Data columns (total 16 columns):\n",
            " #   Column          Non-Null Count  Dtype  \n",
            "---  ------          --------------  -----  \n",
            " 0   anio            675 non-null    int32  \n",
            " 1   mes             675 non-null    int32  \n",
            " 2   dia             675 non-null    int32  \n",
            " 3   pm25            675 non-null    float64\n",
            " 4   codigoserial    675 non-null    int64  \n",
            " 5   dia_semana      675 non-null    object \n",
            " 6   estacion        675 non-null    object \n",
            " 7   festivo         675 non-null    int64  \n",
            " 8   temperatura     675 non-null    float64\n",
            " 9   humedad         675 non-null    float64\n",
            " 10  p1              675 non-null    float64\n",
            " 11  presion         675 non-null    float64\n",
            " 12  velocidad_prom  675 non-null    float64\n",
            " 13  velocidad_max   675 non-null    float64\n",
            " 14  direccion_prom  675 non-null    float64\n",
            " 15  direccion_max   675 non-null    float64\n",
            "dtypes: float64(9), int32(3), int64(2), object(2)\n",
            "memory usage: 81.7+ KB\n"
          ]
        }
      ],
      "source": [
        "dataSetCalidadAire.info()"
      ]
    },
    {
      "cell_type": "markdown",
      "metadata": {},
      "source": [
        "Mirar si existen datos nulos"
      ]
    },
    {
      "cell_type": "code",
      "execution_count": 107,
      "metadata": {},
      "outputs": [
        {
          "data": {
            "text/plain": [
              "anio              0\n",
              "mes               0\n",
              "dia               0\n",
              "pm25              0\n",
              "codigoserial      0\n",
              "dia_semana        0\n",
              "estacion          0\n",
              "festivo           0\n",
              "temperatura       0\n",
              "humedad           0\n",
              "p1                0\n",
              "presion           0\n",
              "velocidad_prom    0\n",
              "velocidad_max     0\n",
              "direccion_prom    0\n",
              "direccion_max     0\n",
              "dtype: int64"
            ]
          },
          "execution_count": 107,
          "metadata": {},
          "output_type": "execute_result"
        }
      ],
      "source": [
        "#Se mira nularidad en las variables \n",
        "dataSetCalidadAire.isnull().sum()\n"
      ]
    },
    {
      "cell_type": "markdown",
      "metadata": {},
      "source": [
        "### Listado de nuestras variables "
      ]
    },
    {
      "cell_type": "markdown",
      "metadata": {},
      "source": [
        "Variables Categoricas"
      ]
    },
    {
      "cell_type": "code",
      "execution_count": 108,
      "metadata": {},
      "outputs": [
        {
          "data": {
            "text/html": [
              "<div>\n",
              "<style scoped>\n",
              "    .dataframe tbody tr th:only-of-type {\n",
              "        vertical-align: middle;\n",
              "    }\n",
              "\n",
              "    .dataframe tbody tr th {\n",
              "        vertical-align: top;\n",
              "    }\n",
              "\n",
              "    .dataframe thead th {\n",
              "        text-align: right;\n",
              "    }\n",
              "</style>\n",
              "<table border=\"1\" class=\"dataframe\">\n",
              "  <thead>\n",
              "    <tr style=\"text-align: right;\">\n",
              "      <th></th>\n",
              "      <th>dia_semana</th>\n",
              "      <th>estacion</th>\n",
              "    </tr>\n",
              "  </thead>\n",
              "  <tbody>\n",
              "    <tr>\n",
              "      <th>0</th>\n",
              "      <td>Inicio Semana</td>\n",
              "      <td>Estacion Caldas</td>\n",
              "    </tr>\n",
              "    <tr>\n",
              "      <th>1</th>\n",
              "      <td>Inicio Semana</td>\n",
              "      <td>Estacion Caldas</td>\n",
              "    </tr>\n",
              "    <tr>\n",
              "      <th>2</th>\n",
              "      <td>Inicio Semana</td>\n",
              "      <td>Estacion Caldas</td>\n",
              "    </tr>\n",
              "  </tbody>\n",
              "</table>\n",
              "</div>"
            ],
            "text/plain": [
              "      dia_semana         estacion\n",
              "0  Inicio Semana  Estacion Caldas\n",
              "1  Inicio Semana  Estacion Caldas\n",
              "2  Inicio Semana  Estacion Caldas"
            ]
          },
          "execution_count": 108,
          "metadata": {},
          "output_type": "execute_result"
        }
      ],
      "source": [
        "#Lista de variables categóricas\n",
        "columnasCategoricas = dataSetCalidadAire.select_dtypes(include = [\"object\", 'category']).columns.tolist()\n",
        "\n",
        "dataSetCalidadAire[columnasCategoricas].head(3)"
      ]
    },
    {
      "cell_type": "markdown",
      "metadata": {},
      "source": [
        "Variables Númericas"
      ]
    },
    {
      "cell_type": "code",
      "execution_count": 109,
      "metadata": {},
      "outputs": [
        {
          "data": {
            "text/html": [
              "<div>\n",
              "<style scoped>\n",
              "    .dataframe tbody tr th:only-of-type {\n",
              "        vertical-align: middle;\n",
              "    }\n",
              "\n",
              "    .dataframe tbody tr th {\n",
              "        vertical-align: top;\n",
              "    }\n",
              "\n",
              "    .dataframe thead th {\n",
              "        text-align: right;\n",
              "    }\n",
              "</style>\n",
              "<table border=\"1\" class=\"dataframe\">\n",
              "  <thead>\n",
              "    <tr style=\"text-align: right;\">\n",
              "      <th></th>\n",
              "      <th>anio</th>\n",
              "      <th>mes</th>\n",
              "      <th>dia</th>\n",
              "      <th>pm25</th>\n",
              "      <th>festivo</th>\n",
              "      <th>temperatura</th>\n",
              "      <th>humedad</th>\n",
              "      <th>p1</th>\n",
              "      <th>presion</th>\n",
              "      <th>velocidad_prom</th>\n",
              "      <th>velocidad_max</th>\n",
              "      <th>direccion_prom</th>\n",
              "      <th>direccion_max</th>\n",
              "    </tr>\n",
              "  </thead>\n",
              "  <tbody>\n",
              "    <tr>\n",
              "      <th>0</th>\n",
              "      <td>2024</td>\n",
              "      <td>1</td>\n",
              "      <td>1</td>\n",
              "      <td>19.82980</td>\n",
              "      <td>1</td>\n",
              "      <td>19.9</td>\n",
              "      <td>72.15</td>\n",
              "      <td>0.0</td>\n",
              "      <td>827.2</td>\n",
              "      <td>1.1</td>\n",
              "      <td>1.60</td>\n",
              "      <td>156.0</td>\n",
              "      <td>156.0</td>\n",
              "    </tr>\n",
              "    <tr>\n",
              "      <th>1</th>\n",
              "      <td>2024</td>\n",
              "      <td>1</td>\n",
              "      <td>2</td>\n",
              "      <td>12.33775</td>\n",
              "      <td>0</td>\n",
              "      <td>19.6</td>\n",
              "      <td>76.10</td>\n",
              "      <td>0.0</td>\n",
              "      <td>826.3</td>\n",
              "      <td>1.6</td>\n",
              "      <td>2.60</td>\n",
              "      <td>128.0</td>\n",
              "      <td>130.5</td>\n",
              "    </tr>\n",
              "    <tr>\n",
              "      <th>2</th>\n",
              "      <td>2024</td>\n",
              "      <td>1</td>\n",
              "      <td>3</td>\n",
              "      <td>15.04940</td>\n",
              "      <td>0</td>\n",
              "      <td>17.8</td>\n",
              "      <td>73.50</td>\n",
              "      <td>0.0</td>\n",
              "      <td>826.6</td>\n",
              "      <td>1.5</td>\n",
              "      <td>2.25</td>\n",
              "      <td>155.0</td>\n",
              "      <td>153.0</td>\n",
              "    </tr>\n",
              "  </tbody>\n",
              "</table>\n",
              "</div>"
            ],
            "text/plain": [
              "   anio  mes  dia      pm25  festivo  temperatura  humedad   p1  presion  \\\n",
              "0  2024    1    1  19.82980        1         19.9    72.15  0.0    827.2   \n",
              "1  2024    1    2  12.33775        0         19.6    76.10  0.0    826.3   \n",
              "2  2024    1    3  15.04940        0         17.8    73.50  0.0    826.6   \n",
              "\n",
              "   velocidad_prom  velocidad_max  direccion_prom  direccion_max  \n",
              "0             1.1           1.60           156.0          156.0  \n",
              "1             1.6           2.60           128.0          130.5  \n",
              "2             1.5           2.25           155.0          153.0  "
            ]
          },
          "execution_count": 109,
          "metadata": {},
          "output_type": "execute_result"
        }
      ],
      "source": [
        "#Lista de variables numéricas\n",
        "dataSetCalidadAire = eliminarColumnas(dataSetCalidadAire, \"codigoserial\")\n",
        "columnasNumericas=dataSetCalidadAire.select_dtypes(include = ['float64','int32','int64']).columns.tolist()\n",
        "dataSetCalidadAire[columnasNumericas].head(3)"
      ]
    },
    {
      "cell_type": "markdown",
      "metadata": {},
      "source": [
        "Visualización variables categoricas"
      ]
    },
    {
      "cell_type": "code",
      "execution_count": 110,
      "metadata": {},
      "outputs": [
        {
          "data": {
            "image/png": "[encoded data removed]",
            "text/plain": [
              "<Figure size 640x480 with 1 Axes>"
            ]
          },
          "metadata": {},
          "output_type": "display_data"
        },
        {
          "data": {
            "image/png": "[encoded data removed]",
            "text/plain": [
              "<Figure size 640x480 with 1 Axes>"
            ]
          },
          "metadata": {},
          "output_type": "display_data"
        }
      ],
      "source": [
        "#Se recorre las columnas categoricas\n",
        "for columna in columnasCategoricas:\n",
        "    sns.countplot(x=dataSetCalidadAire[columna])\n",
        "    plt.title(f\"Distribución de {columna}\")\n",
        "    plt.show()\n"
      ]
    },
    {
      "cell_type": "markdown",
      "metadata": {},
      "source": [
        "Visualización variables númericas"
      ]
    },
    {
      "cell_type": "code",
      "execution_count": 111,
      "metadata": {},
      "outputs": [],
      "source": [
        "# Graficar las variables númericas con respecto a nuestra avriable objetivo que es pm25\n",
        "\n",
        "# Histogramas de las variables númericas\n",
        "\n",
        "# for columna in columnasNumericas:\n",
        "#     sns.histplot(dataSetCalidadAire[columna], kde=True)\n",
        "#     plt.title(f\"Distribución de {columna}\")\n",
        "#     plt.show()"
      ]
    },
    {
      "cell_type": "markdown",
      "metadata": {},
      "source": [
        "Box Plot de nuestra variable PM25"
      ]
    },
    {
      "cell_type": "code",
      "execution_count": 112,
      "metadata": {},
      "outputs": [
        {
          "data": {
            "image/png": "[encoded data removed]",
            "text/plain": [
              "<Figure size 640x480 with 1 Axes>"
            ]
          },
          "metadata": {},
          "output_type": "display_data"
        }
      ],
      "source": [
        "# Box Plot PM2.5 agrupado por estaciones\n",
        "ax = sns.boxplot(x=dataSetCalidadAire['estacion'], y= dataSetCalidadAire['pm25'],  linewidth=0.9)\n",
        "ax.set_title(\"Niveles de PM2.5 por estación\")\n",
        "plt.ylabel(\"$\\mu$g/$m^3$\")\n",
        "plt.setp(ax.artists, edgecolor = 'k', facecolor='w')\n",
        "plt.setp(ax.lines, color='blue')\n",
        "plt.show()"
      ]
    },
    {
      "cell_type": "markdown",
      "metadata": {},
      "source": [
        "### Eliminación de valores atípicos"
      ]
    },
    {
      "cell_type": "code",
      "execution_count": 113,
      "metadata": {},
      "outputs": [
        {
          "name": "stdout",
          "output_type": "stream",
          "text": [
            "Valor atípico leve inferior:-2.0034375000000004\n",
            "Valor atípico leve superior:41.0736625\n"
          ]
        }
      ],
      "source": [
        "#Calculo de valores atípicos\n",
        "\n",
        "#Calculo de Q1 t Q3\n",
        "Q1 = np.percentile(dataSetCalidadAire['pm25'], 25, interpolation = 'midpoint')\n",
        "Q3 = np.percentile(dataSetCalidadAire['pm25'], 75, interpolation = 'midpoint')\n",
        "\n",
        "#Cálculo del rango intercuartil\n",
        "IQR = Q3 - Q1\n",
        "\n",
        "#Cálculo de valor mínimo y máximo para los valores atípicos\n",
        "valorInferior = Q1 - 1.5*IQR\n",
        "valorSuperior = Q3 + 1.5*IQR\n",
        "\n",
        "print(f'Valor atípico leve inferior:{valorInferior}')\n",
        "print(f'Valor atípico leve superior:{valorSuperior}')"
      ]
    },
    {
      "cell_type": "code",
      "execution_count": 114,
      "metadata": {},
      "outputs": [
        {
          "data": {
            "text/html": [
              "<div>\n",
              "<style scoped>\n",
              "    .dataframe tbody tr th:only-of-type {\n",
              "        vertical-align: middle;\n",
              "    }\n",
              "\n",
              "    .dataframe tbody tr th {\n",
              "        vertical-align: top;\n",
              "    }\n",
              "\n",
              "    .dataframe thead th {\n",
              "        text-align: right;\n",
              "    }\n",
              "</style>\n",
              "<table border=\"1\" class=\"dataframe\">\n",
              "  <thead>\n",
              "    <tr style=\"text-align: right;\">\n",
              "      <th></th>\n",
              "      <th>anio</th>\n",
              "      <th>mes</th>\n",
              "      <th>dia</th>\n",
              "      <th>pm25</th>\n",
              "      <th>dia_semana</th>\n",
              "      <th>estacion</th>\n",
              "      <th>festivo</th>\n",
              "      <th>temperatura</th>\n",
              "      <th>humedad</th>\n",
              "      <th>p1</th>\n",
              "      <th>presion</th>\n",
              "      <th>velocidad_prom</th>\n",
              "      <th>velocidad_max</th>\n",
              "      <th>direccion_prom</th>\n",
              "      <th>direccion_max</th>\n",
              "    </tr>\n",
              "  </thead>\n",
              "  <tbody>\n",
              "    <tr>\n",
              "      <th>0</th>\n",
              "      <td>2024</td>\n",
              "      <td>1</td>\n",
              "      <td>1</td>\n",
              "      <td>19.82980</td>\n",
              "      <td>Inicio Semana</td>\n",
              "      <td>Estacion Caldas</td>\n",
              "      <td>1</td>\n",
              "      <td>19.9</td>\n",
              "      <td>72.15</td>\n",
              "      <td>0.0</td>\n",
              "      <td>827.2</td>\n",
              "      <td>1.1</td>\n",
              "      <td>1.60</td>\n",
              "      <td>156.0</td>\n",
              "      <td>156.0</td>\n",
              "    </tr>\n",
              "    <tr>\n",
              "      <th>1</th>\n",
              "      <td>2024</td>\n",
              "      <td>1</td>\n",
              "      <td>2</td>\n",
              "      <td>12.33775</td>\n",
              "      <td>Inicio Semana</td>\n",
              "      <td>Estacion Caldas</td>\n",
              "      <td>0</td>\n",
              "      <td>19.6</td>\n",
              "      <td>76.10</td>\n",
              "      <td>0.0</td>\n",
              "      <td>826.3</td>\n",
              "      <td>1.6</td>\n",
              "      <td>2.60</td>\n",
              "      <td>128.0</td>\n",
              "      <td>130.5</td>\n",
              "    </tr>\n",
              "    <tr>\n",
              "      <th>2</th>\n",
              "      <td>2024</td>\n",
              "      <td>1</td>\n",
              "      <td>3</td>\n",
              "      <td>15.04940</td>\n",
              "      <td>Inicio Semana</td>\n",
              "      <td>Estacion Caldas</td>\n",
              "      <td>0</td>\n",
              "      <td>17.8</td>\n",
              "      <td>73.50</td>\n",
              "      <td>0.0</td>\n",
              "      <td>826.6</td>\n",
              "      <td>1.5</td>\n",
              "      <td>2.25</td>\n",
              "      <td>155.0</td>\n",
              "      <td>153.0</td>\n",
              "    </tr>\n",
              "    <tr>\n",
              "      <th>3</th>\n",
              "      <td>2024</td>\n",
              "      <td>1</td>\n",
              "      <td>4</td>\n",
              "      <td>17.34030</td>\n",
              "      <td>Media semana</td>\n",
              "      <td>Estacion Caldas</td>\n",
              "      <td>0</td>\n",
              "      <td>20.0</td>\n",
              "      <td>69.10</td>\n",
              "      <td>0.0</td>\n",
              "      <td>827.0</td>\n",
              "      <td>1.4</td>\n",
              "      <td>2.10</td>\n",
              "      <td>160.0</td>\n",
              "      <td>158.0</td>\n",
              "    </tr>\n",
              "    <tr>\n",
              "      <th>4</th>\n",
              "      <td>2024</td>\n",
              "      <td>1</td>\n",
              "      <td>5</td>\n",
              "      <td>16.80595</td>\n",
              "      <td>Media semana</td>\n",
              "      <td>Estacion Caldas</td>\n",
              "      <td>0</td>\n",
              "      <td>19.3</td>\n",
              "      <td>71.05</td>\n",
              "      <td>0.0</td>\n",
              "      <td>826.9</td>\n",
              "      <td>1.5</td>\n",
              "      <td>2.30</td>\n",
              "      <td>147.0</td>\n",
              "      <td>147.0</td>\n",
              "    </tr>\n",
              "  </tbody>\n",
              "</table>\n",
              "</div>"
            ],
            "text/plain": [
              "   anio  mes  dia      pm25     dia_semana         estacion  festivo  \\\n",
              "0  2024    1    1  19.82980  Inicio Semana  Estacion Caldas        1   \n",
              "1  2024    1    2  12.33775  Inicio Semana  Estacion Caldas        0   \n",
              "2  2024    1    3  15.04940  Inicio Semana  Estacion Caldas        0   \n",
              "3  2024    1    4  17.34030   Media semana  Estacion Caldas        0   \n",
              "4  2024    1    5  16.80595   Media semana  Estacion Caldas        0   \n",
              "\n",
              "   temperatura  humedad   p1  presion  velocidad_prom  velocidad_max  \\\n",
              "0         19.9    72.15  0.0    827.2             1.1           1.60   \n",
              "1         19.6    76.10  0.0    826.3             1.6           2.60   \n",
              "2         17.8    73.50  0.0    826.6             1.5           2.25   \n",
              "3         20.0    69.10  0.0    827.0             1.4           2.10   \n",
              "4         19.3    71.05  0.0    826.9             1.5           2.30   \n",
              "\n",
              "   direccion_prom  direccion_max  \n",
              "0           156.0          156.0  \n",
              "1           128.0          130.5  \n",
              "2           155.0          153.0  \n",
              "3           160.0          158.0  \n",
              "4           147.0          147.0  "
            ]
          },
          "execution_count": 114,
          "metadata": {},
          "output_type": "execute_result"
        }
      ],
      "source": [
        "limpiaDataSetCalidadAire = dataSetCalidadAire.copy()\n",
        "\n",
        "#Se tiene en cuenta los datos que se encuentren mayores a los valores de pm25 mayores al valor inferior\n",
        "# y tambien lso que se encuentren menores al valor superior\n",
        "\n",
        "limpiaDataSetCalidadAire = limpiaDataSetCalidadAire[(limpiaDataSetCalidadAire['pm25'] > valorInferior) & (limpiaDataSetCalidadAire['pm25'] < valorSuperior)]\n",
        "limpiaDataSetCalidadAire.head()"
      ]
    },
    {
      "cell_type": "markdown",
      "metadata": {},
      "source": [
        "### Encontrar valores atipicos en las variables de entrada"
      ]
    },
    {
      "cell_type": "code",
      "execution_count": 115,
      "metadata": {},
      "outputs": [
        {
          "name": "stdout",
          "output_type": "stream",
          "text": [
            "Indices de valores atípicos:  [31, 32, 38, 61, 127, 172, 1, 16, 25, 28, 37, 50, 60, 82, 89, 90, 91, 94, 99, 100, 104, 105, 149, 180, 212, 238, 241, 251, 15, 113, 115, 116, 128]\n"
          ]
        },
        {
          "data": {
            "text/html": [
              "<div>\n",
              "<style scoped>\n",
              "    .dataframe tbody tr th:only-of-type {\n",
              "        vertical-align: middle;\n",
              "    }\n",
              "\n",
              "    .dataframe tbody tr th {\n",
              "        vertical-align: top;\n",
              "    }\n",
              "\n",
              "    .dataframe thead th {\n",
              "        text-align: right;\n",
              "    }\n",
              "</style>\n",
              "<table border=\"1\" class=\"dataframe\">\n",
              "  <thead>\n",
              "    <tr style=\"text-align: right;\">\n",
              "      <th></th>\n",
              "      <th>anio</th>\n",
              "      <th>mes</th>\n",
              "      <th>dia</th>\n",
              "      <th>pm25</th>\n",
              "      <th>dia_semana</th>\n",
              "      <th>estacion</th>\n",
              "      <th>festivo</th>\n",
              "      <th>temperatura</th>\n",
              "      <th>humedad</th>\n",
              "      <th>p1</th>\n",
              "      <th>presion</th>\n",
              "      <th>velocidad_prom</th>\n",
              "      <th>velocidad_max</th>\n",
              "      <th>direccion_prom</th>\n",
              "      <th>direccion_max</th>\n",
              "    </tr>\n",
              "  </thead>\n",
              "  <tbody>\n",
              "    <tr>\n",
              "      <th>0</th>\n",
              "      <td>2024</td>\n",
              "      <td>1</td>\n",
              "      <td>1</td>\n",
              "      <td>19.82980</td>\n",
              "      <td>Inicio Semana</td>\n",
              "      <td>Estacion Caldas</td>\n",
              "      <td>1</td>\n",
              "      <td>19.9</td>\n",
              "      <td>72.15</td>\n",
              "      <td>0.0</td>\n",
              "      <td>827.2</td>\n",
              "      <td>1.1</td>\n",
              "      <td>1.60</td>\n",
              "      <td>156.0</td>\n",
              "      <td>156.0</td>\n",
              "    </tr>\n",
              "    <tr>\n",
              "      <th>1</th>\n",
              "      <td>2024</td>\n",
              "      <td>1</td>\n",
              "      <td>2</td>\n",
              "      <td>12.33775</td>\n",
              "      <td>Inicio Semana</td>\n",
              "      <td>Estacion Caldas</td>\n",
              "      <td>0</td>\n",
              "      <td>19.6</td>\n",
              "      <td>76.10</td>\n",
              "      <td>0.0</td>\n",
              "      <td>826.3</td>\n",
              "      <td>1.6</td>\n",
              "      <td>2.60</td>\n",
              "      <td>128.0</td>\n",
              "      <td>130.5</td>\n",
              "    </tr>\n",
              "    <tr>\n",
              "      <th>2</th>\n",
              "      <td>2024</td>\n",
              "      <td>1</td>\n",
              "      <td>3</td>\n",
              "      <td>15.04940</td>\n",
              "      <td>Inicio Semana</td>\n",
              "      <td>Estacion Caldas</td>\n",
              "      <td>0</td>\n",
              "      <td>17.8</td>\n",
              "      <td>73.50</td>\n",
              "      <td>0.0</td>\n",
              "      <td>826.6</td>\n",
              "      <td>1.5</td>\n",
              "      <td>2.25</td>\n",
              "      <td>155.0</td>\n",
              "      <td>153.0</td>\n",
              "    </tr>\n",
              "  </tbody>\n",
              "</table>\n",
              "</div>"
            ],
            "text/plain": [
              "   anio  mes  dia      pm25     dia_semana         estacion  festivo  \\\n",
              "0  2024    1    1  19.82980  Inicio Semana  Estacion Caldas        1   \n",
              "1  2024    1    2  12.33775  Inicio Semana  Estacion Caldas        0   \n",
              "2  2024    1    3  15.04940  Inicio Semana  Estacion Caldas        0   \n",
              "\n",
              "   temperatura  humedad   p1  presion  velocidad_prom  velocidad_max  \\\n",
              "0         19.9    72.15  0.0    827.2             1.1           1.60   \n",
              "1         19.6    76.10  0.0    826.3             1.6           2.60   \n",
              "2         17.8    73.50  0.0    826.6             1.5           2.25   \n",
              "\n",
              "   direccion_prom  direccion_max  \n",
              "0           156.0          156.0  \n",
              "1           128.0          130.5  \n",
              "2           155.0          153.0  "
            ]
          },
          "execution_count": 115,
          "metadata": {},
          "output_type": "execute_result"
        }
      ],
      "source": [
        "#utilización de LocalOutlierFactor con 8 vecinos para identificar valores atípicos en las variables de entrada\n",
        "\n",
        "\n",
        "# crear un objeto LocalOutlierFactor con n_neighbors=15 y el contaminante lo vamos a hacer con un porcentaje más 0.3\n",
        "lof = LocalOutlierFactor(n_neighbors=5, contamination=0.05)\n",
        "\n",
        "\n",
        "# identificar los valores atípicos por medio de lof\n",
        "y_pred = lof.fit_predict(limpiaDataSetCalidadAire[columnasNumericas])\n",
        "\n",
        "# Identificar los índices de los valores atípicos\n",
        "outliers = y_pred == -1\n",
        "\n",
        "print('Indices de valores atípicos: ', limpiaDataSetCalidadAire[outliers].index.tolist())\n",
        "# Eliminar los valores atípicos del dataframe original\n",
        "limpiaDataSetCalidadAire = limpiaDataSetCalidadAire.loc[~outliers]\n",
        "limpiaDataSetCalidadAire.head(3)"
      ]
    },
    {
      "cell_type": "code",
      "execution_count": 116,
      "metadata": {},
      "outputs": [
        {
          "name": "stdout",
          "output_type": "stream",
          "text": [
            "DataSet sin eliminación de valores atipicos es de  : 675\n",
            "DataSet con eliminación de valores atipicos es de  : 627\n"
          ]
        }
      ],
      "source": [
        "#Cantidad de registros después de eliminar los valores atípicos del dataframe\n",
        "print(f\"DataSet sin eliminación de valores atipicos es de  : {len(dataSetCalidadAire)}\")\n",
        "print(f\"DataSet con eliminación de valores atipicos es de  : {len(limpiaDataSetCalidadAire)}\")\n"
      ]
    },
    {
      "cell_type": "markdown",
      "metadata": {},
      "source": [
        "### Realizamos proceso de estandarización de nuestro dataset"
      ]
    },
    {
      "cell_type": "markdown",
      "metadata": {},
      "source": [
        "### Correlación variables con nuestra variable pm25"
      ]
    },
    {
      "cell_type": "code",
      "execution_count": 117,
      "metadata": {},
      "outputs": [],
      "source": [
        "#Se crea una copia de nuestro datasetCalidad limpia sin atipicos\n",
        "datosCorrelacion = limpiaDataSetCalidadAire.copy()\n",
        "#Elimina variables categoricas para poder ver correlación \n",
        "columnas  = ['dia_semana', 'estacion']\n",
        "datosCorrelacion = eliminarColumnas(datosCorrelacion,columnas)\n"
      ]
    },
    {
      "cell_type": "markdown",
      "metadata": {
        "id": "wF-G-uH3teZk"
      },
      "source": [
        "Visualizamos la correlacion que tienen las caracteristicas sobre la variable de respuesta pm25"
      ]
    },
    {
      "cell_type": "code",
      "execution_count": 118,
      "metadata": {
        "id": "YfNAkN7QteZk"
      },
      "outputs": [
        {
          "data": {
            "image/png": "[encoded data removed]",
            "text/plain": [
              "<Figure size 1000x600 with 1 Axes>"
            ]
          },
          "metadata": {},
          "output_type": "display_data"
        }
      ],
      "source": [
        "\n",
        "# Calcular la correlación de todas las variables con \"pm25\"\n",
        "correlation = datosCorrelacion.corr()['pm25'].sort_values(ascending=False)\n",
        "\n",
        "# Graficar las correlaciones\n",
        "plt.figure(figsize=(10, 6))\n",
        "sns.barplot(x=correlation.index, y=correlation.values, palette='viridis')\n",
        "plt.title('Correlación de Variables con pm25')\n",
        "plt.xlabel('Variables')\n",
        "plt.ylabel('Correlación')\n",
        "plt.xticks(rotation=90)\n",
        "plt.show()"
      ]
    },
    {
      "cell_type": "code",
      "execution_count": 119,
      "metadata": {
        "id": "rmBH-KSSteZl"
      },
      "outputs": [
        {
          "data": {
            "image/png": "[encoded data removed]",
            "text/plain": [
              "<Figure size 1000x900 with 2 Axes>"
            ]
          },
          "metadata": {},
          "output_type": "display_data"
        }
      ],
      "source": [
        "# Calcular la matriz de correlación\n",
        "correlation_matrix = datosCorrelacion.corr()\n",
        "\n",
        "# Filtrar para incluir solo la fila y columna de \"pm25\"\n",
        "correlation_pm25 = correlation_matrix[['pm25']].sort_values(by='pm25', ascending=False)\n",
        "\n",
        "# Crear el heatmap\n",
        "plt.figure(figsize=(10, 9))\n",
        "sns.heatmap(correlation_pm25, annot=True, cmap='coolwarm', center=0, cbar_kws={'label': 'Correlación'})\n",
        "plt.title('Mapa de Calor de la Correlación con pm25')\n",
        "plt.show()"
      ]
    },
    {
      "cell_type": "markdown",
      "metadata": {
        "id": "rXmMiDGKteZl"
      },
      "source": [
        "Análisis final de nuestra limpieza"
      ]
    },
    {
      "cell_type": "code",
      "execution_count": 120,
      "metadata": {
        "id": "qAjLXOQtteZm"
      },
      "outputs": [
        {
          "data": {
            "text/html": [
              "<div>\n",
              "<style scoped>\n",
              "    .dataframe tbody tr th:only-of-type {\n",
              "        vertical-align: middle;\n",
              "    }\n",
              "\n",
              "    .dataframe tbody tr th {\n",
              "        vertical-align: top;\n",
              "    }\n",
              "\n",
              "    .dataframe thead th {\n",
              "        text-align: right;\n",
              "    }\n",
              "</style>\n",
              "<table border=\"1\" class=\"dataframe\">\n",
              "  <thead>\n",
              "    <tr style=\"text-align: right;\">\n",
              "      <th></th>\n",
              "      <th>anio</th>\n",
              "      <th>mes</th>\n",
              "      <th>dia</th>\n",
              "      <th>pm25</th>\n",
              "      <th>festivo</th>\n",
              "      <th>temperatura</th>\n",
              "      <th>humedad</th>\n",
              "      <th>p1</th>\n",
              "      <th>presion</th>\n",
              "      <th>velocidad_prom</th>\n",
              "      <th>velocidad_max</th>\n",
              "      <th>direccion_prom</th>\n",
              "      <th>direccion_max</th>\n",
              "    </tr>\n",
              "  </thead>\n",
              "  <tbody>\n",
              "    <tr>\n",
              "      <th>count</th>\n",
              "      <td>627.0</td>\n",
              "      <td>627.000000</td>\n",
              "      <td>627.000000</td>\n",
              "      <td>627.000000</td>\n",
              "      <td>627.000000</td>\n",
              "      <td>627.000000</td>\n",
              "      <td>627.000000</td>\n",
              "      <td>627.0</td>\n",
              "      <td>627.000000</td>\n",
              "      <td>627.000000</td>\n",
              "      <td>627.000000</td>\n",
              "      <td>627.000000</td>\n",
              "      <td>627.000000</td>\n",
              "    </tr>\n",
              "    <tr>\n",
              "      <th>mean</th>\n",
              "      <td>2024.0</td>\n",
              "      <td>5.165869</td>\n",
              "      <td>15.934609</td>\n",
              "      <td>19.535882</td>\n",
              "      <td>0.047847</td>\n",
              "      <td>21.714242</td>\n",
              "      <td>72.630702</td>\n",
              "      <td>0.0</td>\n",
              "      <td>842.672687</td>\n",
              "      <td>1.270614</td>\n",
              "      <td>2.204067</td>\n",
              "      <td>140.870016</td>\n",
              "      <td>144.874003</td>\n",
              "    </tr>\n",
              "    <tr>\n",
              "      <th>std</th>\n",
              "      <td>0.0</td>\n",
              "      <td>2.629626</td>\n",
              "      <td>8.729912</td>\n",
              "      <td>7.259532</td>\n",
              "      <td>0.213613</td>\n",
              "      <td>2.308017</td>\n",
              "      <td>8.538587</td>\n",
              "      <td>0.0</td>\n",
              "      <td>12.066783</td>\n",
              "      <td>0.475305</td>\n",
              "      <td>0.770883</td>\n",
              "      <td>69.458473</td>\n",
              "      <td>66.284320</td>\n",
              "    </tr>\n",
              "    <tr>\n",
              "      <th>min</th>\n",
              "      <td>2024.0</td>\n",
              "      <td>1.000000</td>\n",
              "      <td>1.000000</td>\n",
              "      <td>2.383460</td>\n",
              "      <td>0.000000</td>\n",
              "      <td>16.100000</td>\n",
              "      <td>51.000000</td>\n",
              "      <td>0.0</td>\n",
              "      <td>824.100000</td>\n",
              "      <td>0.280000</td>\n",
              "      <td>0.500000</td>\n",
              "      <td>29.000000</td>\n",
              "      <td>39.000000</td>\n",
              "    </tr>\n",
              "    <tr>\n",
              "      <th>25%</th>\n",
              "      <td>2024.0</td>\n",
              "      <td>3.000000</td>\n",
              "      <td>8.500000</td>\n",
              "      <td>14.034075</td>\n",
              "      <td>0.000000</td>\n",
              "      <td>20.100000</td>\n",
              "      <td>65.550000</td>\n",
              "      <td>0.0</td>\n",
              "      <td>826.800000</td>\n",
              "      <td>0.910000</td>\n",
              "      <td>1.700000</td>\n",
              "      <td>82.000000</td>\n",
              "      <td>83.000000</td>\n",
              "    </tr>\n",
              "    <tr>\n",
              "      <th>50%</th>\n",
              "      <td>2024.0</td>\n",
              "      <td>5.000000</td>\n",
              "      <td>16.000000</td>\n",
              "      <td>17.777350</td>\n",
              "      <td>0.000000</td>\n",
              "      <td>21.900000</td>\n",
              "      <td>72.300000</td>\n",
              "      <td>0.0</td>\n",
              "      <td>850.500000</td>\n",
              "      <td>1.280000</td>\n",
              "      <td>2.100000</td>\n",
              "      <td>137.000000</td>\n",
              "      <td>147.500000</td>\n",
              "    </tr>\n",
              "    <tr>\n",
              "      <th>75%</th>\n",
              "      <td>2024.0</td>\n",
              "      <td>7.500000</td>\n",
              "      <td>24.000000</td>\n",
              "      <td>23.701225</td>\n",
              "      <td>0.000000</td>\n",
              "      <td>23.400000</td>\n",
              "      <td>80.050000</td>\n",
              "      <td>0.0</td>\n",
              "      <td>852.000000</td>\n",
              "      <td>1.500000</td>\n",
              "      <td>2.700000</td>\n",
              "      <td>189.000000</td>\n",
              "      <td>195.500000</td>\n",
              "    </tr>\n",
              "    <tr>\n",
              "      <th>max</th>\n",
              "      <td>2024.0</td>\n",
              "      <td>9.000000</td>\n",
              "      <td>31.000000</td>\n",
              "      <td>40.834800</td>\n",
              "      <td>1.000000</td>\n",
              "      <td>28.299999</td>\n",
              "      <td>91.000000</td>\n",
              "      <td>0.0</td>\n",
              "      <td>854.600000</td>\n",
              "      <td>3.500000</td>\n",
              "      <td>5.000000</td>\n",
              "      <td>345.500000</td>\n",
              "      <td>333.000000</td>\n",
              "    </tr>\n",
              "  </tbody>\n",
              "</table>\n",
              "</div>"
            ],
            "text/plain": [
              "         anio         mes         dia        pm25     festivo  temperatura  \\\n",
              "count   627.0  627.000000  627.000000  627.000000  627.000000   627.000000   \n",
              "mean   2024.0    5.165869   15.934609   19.535882    0.047847    21.714242   \n",
              "std       0.0    2.629626    8.729912    7.259532    0.213613     2.308017   \n",
              "min    2024.0    1.000000    1.000000    2.383460    0.000000    16.100000   \n",
              "25%    2024.0    3.000000    8.500000   14.034075    0.000000    20.100000   \n",
              "50%    2024.0    5.000000   16.000000   17.777350    0.000000    21.900000   \n",
              "75%    2024.0    7.500000   24.000000   23.701225    0.000000    23.400000   \n",
              "max    2024.0    9.000000   31.000000   40.834800    1.000000    28.299999   \n",
              "\n",
              "          humedad     p1     presion  velocidad_prom  velocidad_max  \\\n",
              "count  627.000000  627.0  627.000000      627.000000     627.000000   \n",
              "mean    72.630702    0.0  842.672687        1.270614       2.204067   \n",
              "std      8.538587    0.0   12.066783        0.475305       0.770883   \n",
              "min     51.000000    0.0  824.100000        0.280000       0.500000   \n",
              "25%     65.550000    0.0  826.800000        0.910000       1.700000   \n",
              "50%     72.300000    0.0  850.500000        1.280000       2.100000   \n",
              "75%     80.050000    0.0  852.000000        1.500000       2.700000   \n",
              "max     91.000000    0.0  854.600000        3.500000       5.000000   \n",
              "\n",
              "       direccion_prom  direccion_max  \n",
              "count      627.000000     627.000000  \n",
              "mean       140.870016     144.874003  \n",
              "std         69.458473      66.284320  \n",
              "min         29.000000      39.000000  \n",
              "25%         82.000000      83.000000  \n",
              "50%        137.000000     147.500000  \n",
              "75%        189.000000     195.500000  \n",
              "max        345.500000     333.000000  "
            ]
          },
          "execution_count": 120,
          "metadata": {},
          "output_type": "execute_result"
        }
      ],
      "source": [
        "limpiaDataSetCalidadAire.describe()"
      ]
    },
    {
      "cell_type": "markdown",
      "metadata": {},
      "source": [
        "### One Hot de nuestras variables"
      ]
    },
    {
      "cell_type": "code",
      "execution_count": 121,
      "metadata": {},
      "outputs": [
        {
          "data": {
            "text/html": [
              "<div>\n",
              "<style scoped>\n",
              "    .dataframe tbody tr th:only-of-type {\n",
              "        vertical-align: middle;\n",
              "    }\n",
              "\n",
              "    .dataframe tbody tr th {\n",
              "        vertical-align: top;\n",
              "    }\n",
              "\n",
              "    .dataframe thead th {\n",
              "        text-align: right;\n",
              "    }\n",
              "</style>\n",
              "<table border=\"1\" class=\"dataframe\">\n",
              "  <thead>\n",
              "    <tr style=\"text-align: right;\">\n",
              "      <th></th>\n",
              "      <th>anio</th>\n",
              "      <th>mes</th>\n",
              "      <th>dia</th>\n",
              "      <th>pm25</th>\n",
              "      <th>festivo</th>\n",
              "      <th>temperatura</th>\n",
              "      <th>humedad</th>\n",
              "      <th>p1</th>\n",
              "      <th>presion</th>\n",
              "      <th>velocidad_prom</th>\n",
              "      <th>velocidad_max</th>\n",
              "      <th>direccion_prom</th>\n",
              "      <th>direccion_max</th>\n",
              "      <th>dia_semana_Fin de Semana</th>\n",
              "      <th>dia_semana_Inicio Semana</th>\n",
              "      <th>dia_semana_Media semana</th>\n",
              "      <th>estacion_Estacion Aranjuez</th>\n",
              "      <th>estacion_Estacion Belen</th>\n",
              "      <th>estacion_Estacion Caldas</th>\n",
              "    </tr>\n",
              "  </thead>\n",
              "  <tbody>\n",
              "    <tr>\n",
              "      <th>0</th>\n",
              "      <td>2024</td>\n",
              "      <td>1</td>\n",
              "      <td>1</td>\n",
              "      <td>19</td>\n",
              "      <td>1</td>\n",
              "      <td>19</td>\n",
              "      <td>72</td>\n",
              "      <td>0</td>\n",
              "      <td>827</td>\n",
              "      <td>1</td>\n",
              "      <td>1</td>\n",
              "      <td>156</td>\n",
              "      <td>156</td>\n",
              "      <td>0</td>\n",
              "      <td>1</td>\n",
              "      <td>0</td>\n",
              "      <td>0</td>\n",
              "      <td>0</td>\n",
              "      <td>1</td>\n",
              "    </tr>\n",
              "    <tr>\n",
              "      <th>1</th>\n",
              "      <td>2024</td>\n",
              "      <td>1</td>\n",
              "      <td>2</td>\n",
              "      <td>12</td>\n",
              "      <td>0</td>\n",
              "      <td>19</td>\n",
              "      <td>76</td>\n",
              "      <td>0</td>\n",
              "      <td>826</td>\n",
              "      <td>1</td>\n",
              "      <td>2</td>\n",
              "      <td>128</td>\n",
              "      <td>130</td>\n",
              "      <td>0</td>\n",
              "      <td>1</td>\n",
              "      <td>0</td>\n",
              "      <td>0</td>\n",
              "      <td>0</td>\n",
              "      <td>1</td>\n",
              "    </tr>\n",
              "    <tr>\n",
              "      <th>2</th>\n",
              "      <td>2024</td>\n",
              "      <td>1</td>\n",
              "      <td>3</td>\n",
              "      <td>15</td>\n",
              "      <td>0</td>\n",
              "      <td>17</td>\n",
              "      <td>73</td>\n",
              "      <td>0</td>\n",
              "      <td>826</td>\n",
              "      <td>1</td>\n",
              "      <td>2</td>\n",
              "      <td>155</td>\n",
              "      <td>153</td>\n",
              "      <td>0</td>\n",
              "      <td>1</td>\n",
              "      <td>0</td>\n",
              "      <td>0</td>\n",
              "      <td>0</td>\n",
              "      <td>1</td>\n",
              "    </tr>\n",
              "    <tr>\n",
              "      <th>3</th>\n",
              "      <td>2024</td>\n",
              "      <td>1</td>\n",
              "      <td>4</td>\n",
              "      <td>17</td>\n",
              "      <td>0</td>\n",
              "      <td>20</td>\n",
              "      <td>69</td>\n",
              "      <td>0</td>\n",
              "      <td>827</td>\n",
              "      <td>1</td>\n",
              "      <td>2</td>\n",
              "      <td>160</td>\n",
              "      <td>158</td>\n",
              "      <td>0</td>\n",
              "      <td>0</td>\n",
              "      <td>1</td>\n",
              "      <td>0</td>\n",
              "      <td>0</td>\n",
              "      <td>1</td>\n",
              "    </tr>\n",
              "    <tr>\n",
              "      <th>4</th>\n",
              "      <td>2024</td>\n",
              "      <td>1</td>\n",
              "      <td>5</td>\n",
              "      <td>16</td>\n",
              "      <td>0</td>\n",
              "      <td>19</td>\n",
              "      <td>71</td>\n",
              "      <td>0</td>\n",
              "      <td>826</td>\n",
              "      <td>1</td>\n",
              "      <td>2</td>\n",
              "      <td>147</td>\n",
              "      <td>147</td>\n",
              "      <td>0</td>\n",
              "      <td>0</td>\n",
              "      <td>1</td>\n",
              "      <td>0</td>\n",
              "      <td>0</td>\n",
              "      <td>1</td>\n",
              "    </tr>\n",
              "  </tbody>\n",
              "</table>\n",
              "</div>"
            ],
            "text/plain": [
              "   anio  mes  dia  pm25  festivo  temperatura  humedad  p1  presion  \\\n",
              "0  2024    1    1    19        1           19       72   0      827   \n",
              "1  2024    1    2    12        0           19       76   0      826   \n",
              "2  2024    1    3    15        0           17       73   0      826   \n",
              "3  2024    1    4    17        0           20       69   0      827   \n",
              "4  2024    1    5    16        0           19       71   0      826   \n",
              "\n",
              "   velocidad_prom  velocidad_max  direccion_prom  direccion_max  \\\n",
              "0               1              1             156            156   \n",
              "1               1              2             128            130   \n",
              "2               1              2             155            153   \n",
              "3               1              2             160            158   \n",
              "4               1              2             147            147   \n",
              "\n",
              "   dia_semana_Fin de Semana  dia_semana_Inicio Semana  \\\n",
              "0                         0                         1   \n",
              "1                         0                         1   \n",
              "2                         0                         1   \n",
              "3                         0                         0   \n",
              "4                         0                         0   \n",
              "\n",
              "   dia_semana_Media semana  estacion_Estacion Aranjuez  \\\n",
              "0                        0                           0   \n",
              "1                        0                           0   \n",
              "2                        0                           0   \n",
              "3                        1                           0   \n",
              "4                        1                           0   \n",
              "\n",
              "   estacion_Estacion Belen  estacion_Estacion Caldas  \n",
              "0                        0                         1  \n",
              "1                        0                         1  \n",
              "2                        0                         1  \n",
              "3                        0                         1  \n",
              "4                        0                         1  "
            ]
          },
          "execution_count": 121,
          "metadata": {},
          "output_type": "execute_result"
        }
      ],
      "source": [
        "limpiaDataSetCalidadAire= pd.get_dummies(limpiaDataSetCalidadAire)\n",
        "limpiaDataSetCalidadAire = limpiaDataSetCalidadAire.astype(int)\n",
        "limpiaDataSetCalidadAire.head()"
      ]
    },
    {
      "cell_type": "markdown",
      "metadata": {},
      "source": [
        "### Archivo de nuestro dataset limpio"
      ]
    },
    {
      "cell_type": "code",
      "execution_count": 122,
      "metadata": {},
      "outputs": [],
      "source": [
        "#limpiaDataSetCalidadAire.to_csv(\"data/stage/dataSetLimpio.csv\", index=False)\n",
        "#Sin Imputación\n",
        "limpiaDataSetCalidadAire.to_csv(\"data/stage/dataSetLimpio4.csv\", index=False)"
      ]
    },
    {
      "cell_type": "markdown",
      "metadata": {},
      "source": [
        "### Dividimos nuestro Dataset"
      ]
    },
    {
      "cell_type": "code",
      "execution_count": 123,
      "metadata": {},
      "outputs": [],
      "source": [
        "X = limpiaDataSetCalidadAire.drop(columns ='pm25')\n",
        "y = limpiaDataSetCalidadAire['pm25']"
      ]
    },
    {
      "cell_type": "code",
      "execution_count": 124,
      "metadata": {},
      "outputs": [],
      "source": [
        "# División de los datos\n",
        "X_train, X_test, y_train, y_test = train_test_split(\n",
        "    X,\n",
        "    y,\n",
        "    train_size=0.7, #70 % de nuestros datos en entrenamiento\n",
        "    random_state=1234,\n",
        "    shuffle=True\n",
        ")\n",
        "\n",
        "#Se guardan los Y test para después evaluar nuestros modelos\n",
        "#y_test.to_csv(\"data/stage/datosYtest.csv\", index=False)\n",
        "y_test.to_csv(\"data/stage/datosYtest4.csv\", index=False)\n"
      ]
    },
    {
      "cell_type": "markdown",
      "metadata": {},
      "source": [
        "### Estandarización de nuestras variables"
      ]
    },
    {
      "cell_type": "code",
      "execution_count": 125,
      "metadata": {},
      "outputs": [
        {
          "data": {
            "text/plain": [
              "['anio',\n",
              " 'mes',\n",
              " 'dia',\n",
              " 'festivo',\n",
              " 'temperatura',\n",
              " 'humedad',\n",
              " 'p1',\n",
              " 'presion',\n",
              " 'velocidad_prom',\n",
              " 'velocidad_max',\n",
              " 'direccion_prom',\n",
              " 'direccion_max',\n",
              " 'dia_semana_Fin de Semana',\n",
              " 'dia_semana_Inicio Semana',\n",
              " 'dia_semana_Media semana',\n",
              " 'estacion_Estacion Aranjuez',\n",
              " 'estacion_Estacion Belen',\n",
              " 'estacion_Estacion Caldas']"
            ]
          },
          "execution_count": 125,
          "metadata": {},
          "output_type": "execute_result"
        }
      ],
      "source": [
        "columnasModelo = X.columns.tolist()\n",
        "columnasModelo "
      ]
    },
    {
      "cell_type": "code",
      "execution_count": 126,
      "metadata": {},
      "outputs": [
        {
          "data": {
            "text/html": [
              "<div>\n",
              "<style scoped>\n",
              "    .dataframe tbody tr th:only-of-type {\n",
              "        vertical-align: middle;\n",
              "    }\n",
              "\n",
              "    .dataframe tbody tr th {\n",
              "        vertical-align: top;\n",
              "    }\n",
              "\n",
              "    .dataframe thead th {\n",
              "        text-align: right;\n",
              "    }\n",
              "</style>\n",
              "<table border=\"1\" class=\"dataframe\">\n",
              "  <thead>\n",
              "    <tr style=\"text-align: right;\">\n",
              "      <th></th>\n",
              "      <th>anio</th>\n",
              "      <th>mes</th>\n",
              "      <th>dia</th>\n",
              "      <th>festivo</th>\n",
              "      <th>temperatura</th>\n",
              "      <th>humedad</th>\n",
              "      <th>p1</th>\n",
              "      <th>presion</th>\n",
              "      <th>velocidad_prom</th>\n",
              "      <th>velocidad_max</th>\n",
              "      <th>direccion_prom</th>\n",
              "      <th>direccion_max</th>\n",
              "      <th>dia_semana_Fin de Semana</th>\n",
              "      <th>dia_semana_Inicio Semana</th>\n",
              "      <th>dia_semana_Media semana</th>\n",
              "      <th>estacion_Estacion Aranjuez</th>\n",
              "      <th>estacion_Estacion Belen</th>\n",
              "      <th>estacion_Estacion Caldas</th>\n",
              "    </tr>\n",
              "  </thead>\n",
              "  <tbody>\n",
              "    <tr>\n",
              "      <th>50</th>\n",
              "      <td>0.0</td>\n",
              "      <td>0.25</td>\n",
              "      <td>0.433333</td>\n",
              "      <td>0.0</td>\n",
              "      <td>0.833333</td>\n",
              "      <td>0.307692</td>\n",
              "      <td>0.0</td>\n",
              "      <td>0.827586</td>\n",
              "      <td>0.333333</td>\n",
              "      <td>0.4</td>\n",
              "      <td>0.123810</td>\n",
              "      <td>0.111111</td>\n",
              "      <td>0.0</td>\n",
              "      <td>0.0</td>\n",
              "      <td>1.0</td>\n",
              "      <td>0.0</td>\n",
              "      <td>1.0</td>\n",
              "      <td>0.0</td>\n",
              "    </tr>\n",
              "    <tr>\n",
              "      <th>106</th>\n",
              "      <td>0.0</td>\n",
              "      <td>0.75</td>\n",
              "      <td>0.266667</td>\n",
              "      <td>0.0</td>\n",
              "      <td>0.750000</td>\n",
              "      <td>0.282051</td>\n",
              "      <td>0.0</td>\n",
              "      <td>0.862069</td>\n",
              "      <td>0.000000</td>\n",
              "      <td>0.2</td>\n",
              "      <td>0.387302</td>\n",
              "      <td>0.551971</td>\n",
              "      <td>0.0</td>\n",
              "      <td>1.0</td>\n",
              "      <td>0.0</td>\n",
              "      <td>0.0</td>\n",
              "      <td>1.0</td>\n",
              "      <td>0.0</td>\n",
              "    </tr>\n",
              "    <tr>\n",
              "      <th>258</th>\n",
              "      <td>0.0</td>\n",
              "      <td>1.00</td>\n",
              "      <td>0.500000</td>\n",
              "      <td>0.0</td>\n",
              "      <td>0.666667</td>\n",
              "      <td>0.256410</td>\n",
              "      <td>0.0</td>\n",
              "      <td>0.896552</td>\n",
              "      <td>0.333333</td>\n",
              "      <td>0.4</td>\n",
              "      <td>0.463492</td>\n",
              "      <td>0.501792</td>\n",
              "      <td>0.0</td>\n",
              "      <td>1.0</td>\n",
              "      <td>0.0</td>\n",
              "      <td>1.0</td>\n",
              "      <td>0.0</td>\n",
              "      <td>0.0</td>\n",
              "    </tr>\n",
              "  </tbody>\n",
              "</table>\n",
              "</div>"
            ],
            "text/plain": [
              "     anio   mes       dia  festivo  temperatura   humedad   p1   presion  \\\n",
              "50    0.0  0.25  0.433333      0.0     0.833333  0.307692  0.0  0.827586   \n",
              "106   0.0  0.75  0.266667      0.0     0.750000  0.282051  0.0  0.862069   \n",
              "258   0.0  1.00  0.500000      0.0     0.666667  0.256410  0.0  0.896552   \n",
              "\n",
              "     velocidad_prom  velocidad_max  direccion_prom  direccion_max  \\\n",
              "50         0.333333            0.4        0.123810       0.111111   \n",
              "106        0.000000            0.2        0.387302       0.551971   \n",
              "258        0.333333            0.4        0.463492       0.501792   \n",
              "\n",
              "     dia_semana_Fin de Semana  dia_semana_Inicio Semana  \\\n",
              "50                        0.0                       0.0   \n",
              "106                       0.0                       1.0   \n",
              "258                       0.0                       1.0   \n",
              "\n",
              "     dia_semana_Media semana  estacion_Estacion Aranjuez  \\\n",
              "50                       1.0                         0.0   \n",
              "106                      0.0                         0.0   \n",
              "258                      0.0                         1.0   \n",
              "\n",
              "     estacion_Estacion Belen  estacion_Estacion Caldas  \n",
              "50                       1.0                       0.0  \n",
              "106                      1.0                       0.0  \n",
              "258                      0.0                       0.0  "
            ]
          },
          "execution_count": 126,
          "metadata": {},
          "output_type": "execute_result"
        }
      ],
      "source": [
        "# Se crea un objeto MinMaxScaler\n",
        "scaler = MinMaxScaler()\n",
        "\n",
        "# Se escalan los valores del dataset entrenamiento y prueba de las columnas numéricas\n",
        "X_train[columnasModelo] = scaler.fit_transform(X_train[columnasModelo])\n",
        "X_test[columnasModelo] = scaler.transform(X_test[columnasModelo])\n",
        "\n",
        "X_train[columnasModelo].head(3)"
      ]
    },
    {
      "cell_type": "markdown",
      "metadata": {},
      "source": [
        "Guardamos el escalamiento para futuras entrada de nuestros modelos"
      ]
    },
    {
      "cell_type": "code",
      "execution_count": 127,
      "metadata": {},
      "outputs": [
        {
          "data": {
            "text/plain": [
              "['data/stage/estandarizacionDataSet4.pkl']"
            ]
          },
          "execution_count": 127,
          "metadata": {},
          "output_type": "execute_result"
        }
      ],
      "source": [
        "#Con imputación\n",
        "#joblib.dump(scaler, 'data/stage/estandarizacionDataSet.pkl')\n",
        "# #Sin imputación\n",
        "joblib.dump(scaler, 'data/stage/estandarizacionDataSet4.pkl')"
      ]
    }
  ],
  "metadata": {
    "colab": {
      "provenance": []
    },
    "kernelspec": {
      "display_name": "monografia",
      "language": "python",
      "name": "python3"
    },
    "language_info": {
      "codemirror_mode": {
        "name": "ipython",
        "version": 3
      },
      "file_extension": ".py",
      "mimetype": "text/x-python",
      "name": "python",
      "nbconvert_exporter": "python",
      "pygments_lexer": "ipython3",
      "version": "3.12.7"
    }
  },
  "nbformat": 4,
  "nbformat_minor": 0
}
