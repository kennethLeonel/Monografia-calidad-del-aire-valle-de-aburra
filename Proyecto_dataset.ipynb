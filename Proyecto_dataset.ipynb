{
  "cells": [
    {
      "cell_type": "markdown",
      "metadata": {
        "id": "O4VpEBQPteZM"
      },
      "source": [
        "Nombre de los participantes Proyecto\n",
        "Juan José Naranjo Velásquez CC : 1039474689\n",
        "Alejandro Mora Suarez CC: 1128437044\n",
        "Kenneth David Leonel Triana CC: 1192817456"
      ]
    },
    {
      "cell_type": "markdown",
      "metadata": {
        "id": "0MkEw0zmteZS"
      },
      "source": [
        "[Problemática](https://www.elcolombiano.com/medellin/con-tos-y-gripa-viven-en-las-zonas-con-la-peor-calidad-del-aire-del-aburra-KB25241931)\n",
        "\n",
        "La calidad del aire en Medellín juega un papel importante para adultos mayores, niños menores de 5 años, mujeres embarazadas y gente con afecciones cardiorrespiratorias, dado que una mala calidad del aire influye con afecciones respiratorias, cardiacas, de la piel y hasta con la aparición de cáncer.\n",
        "\n",
        "Dentro de las métricas que acompaña la calidad del aire, el número de 2.5 micras es de gran relevancia dado que se toma como patrón para medir las partículas con un tamaño minúsculo y penetran más fácil en órganos como los pulmones.\n"
      ]
    },
    {
      "cell_type": "markdown",
      "metadata": {
        "id": "n1uWgPdwteZU"
      },
      "source": [
        "**Objetivo proyecto**: Determinar la incidencia de las variables metereológicas sobre la métrica pm2.5 para la calidad del aire."
      ]
    },
    {
      "cell_type": "code",
      "execution_count": 347,
      "metadata": {
        "id": "GXLkorWLteZV"
      },
      "outputs": [],
      "source": [
        "#Instalar librerias\n",
        "\n",
        "#%pip install pandas numpy ydata-profiling ipywidgets numba"
      ]
    },
    {
      "cell_type": "code",
      "execution_count": 348,
      "metadata": {
        "id": "wblNH77hteZX"
      },
      "outputs": [],
      "source": [
        "# importar librerias\n",
        "import pandas as pd\n",
        "import numpy as np\n",
        "from datetime import datetime\n",
        "import datetime\n",
        "from scipy import stats\n",
        "import holidays\n",
        "import seaborn as sns\n",
        "import matplotlib.pyplot as plt\n",
        "from sklearn.neighbors import LocalOutlierFactor\n",
        "from sklearn.impute import KNNImputer\n",
        "\n",
        "# Configuración warnings\n",
        "# ==============================================================================\n",
        "import warnings\n",
        "warnings.filterwarnings('ignore')\n"
      ]
    },
    {
      "cell_type": "markdown",
      "metadata": {
        "id": "OVYlFjLwteZY"
      },
      "source": [
        "Obtener los datos y dejarlos en dataframes"
      ]
    },
    {
      "cell_type": "code",
      "execution_count": 349,
      "metadata": {
        "id": "VoQEE1NzteZZ"
      },
      "outputs": [],
      "source": [
        "#Extraer datos de calidad del aire en las estaciones  # 69 Caldas, 86 Aranjuez, 28 Itagui\n",
        "def get_data (url):\n",
        "    \"\"\"\n",
        "    Función utilizada para la obtención de datos en tipo DataFrame según las bases de datos del repositorio\n",
        "\n",
        "    In[0]: url del dataset en el repositorio\n",
        "    Out[0]: DataFrame con los datos extraídos\n",
        "    \"\"\"\n",
        "    return pd.read_csv(url)\n",
        "\n",
        "# Datos de la calidad del aire tomados desde red SIATA de monitoreo de calidad del aire en Valle de Aburra\n",
        "cal_aire_ita = 'https://raw.githubusercontent.com/kennethLeonel/Monografia-calidad-del-aire-valle-de-aburra/main/28_itagui/estacion_data_calidadaire_28_20240301_20240331.csv'\n",
        "cal_aire_cal = 'https://raw.githubusercontent.com/kennethLeonel/Monografia-calidad-del-aire-valle-de-aburra/main/69_Caldas/estacion_data_calidadaire_69_20240301_20240331.csv'\n",
        "cal_aire_ara = 'https://raw.githubusercontent.com/kennethLeonel/Monografia-calidad-del-aire-valle-de-aburra/main/86_Aranjuez/estacion_data_calidadaire_86_20240301_20240331.csv'\n",
        "\n",
        "\n",
        "cal_aire_ita = get_data(cal_aire_ita)\n",
        "cal_aire_cal = get_data(cal_aire_cal)\n",
        "cal_aire_ara = get_data(cal_aire_ara)\n",
        "\n",
        "# Datos de temperatura,presion,humedad,precipitacion y vientos estacion itagui 28\n",
        "temp_ita='https://raw.githubusercontent.com/kennethLeonel/Monografia-calidad-del-aire-valle-de-aburra/main/28_itagui/Temperatura/estacion_data_temperatura_252__20240201_20240229.csv'\n",
        "humedad_ita='https://raw.githubusercontent.com/kennethLeonel/Monografia-calidad-del-aire-valle-de-aburra/main/28_itagui/humedad/estacion_data_humedad_252__20240201_20240229.csv'\n",
        "presion_ita='https://raw.githubusercontent.com/kennethLeonel/Monografia-calidad-del-aire-valle-de-aburra/main/28_itagui/presion/estacion_data_presion_252__20240201_20240229.csv'\n",
        "precipitacion_ita='https://raw.githubusercontent.com/kennethLeonel/Monografia-calidad-del-aire-valle-de-aburra/main/69_Caldas/precipitacion/estacion_data_precipitacion_105__20240201_20240229.csv'\n",
        "vientos_ita='https://raw.githubusercontent.com/kennethLeonel/Monografia-calidad-del-aire-valle-de-aburra/main/28_itagui/vientos/estacion_data_vientos_252__20240201_20240229.csv'\n",
        "\n",
        "temp_ita=get_data(temp_ita)\n",
        "humedad_ita=get_data(humedad_ita)\n",
        "presion_ita=get_data(presion_ita)\n",
        "precipitacion_ita=get_data(precipitacion_ita)\n",
        "vientos_ita=get_data(vientos_ita)\n",
        "\n",
        "\n",
        "# Datos de temperatura,presion,humedad,precipitacion y vientos estacion Caldas 69\n",
        "temp_cal='https://raw.githubusercontent.com/kennethLeonel/Monografia-calidad-del-aire-valle-de-aburra/main/69_Caldas/Temperatura/estacion_data_temperatura_105__20240201_20240229.csv'\n",
        "humedad_cal='https://raw.githubusercontent.com/kennethLeonel/Monografia-calidad-del-aire-valle-de-aburra/main/69_Caldas/humedad/estacion_data_humedad_105__20240201_20240229.csv'\n",
        "precipitacion_cal='https://raw.githubusercontent.com/kennethLeonel/Monografia-calidad-del-aire-valle-de-aburra/main/69_Caldas/precipitacion/estacion_data_precipitacion_105__20240201_20240229.csv'\n",
        "presion_cal='https://raw.githubusercontent.com/kennethLeonel/Monografia-calidad-del-aire-valle-de-aburra/main/69_Caldas/presion/estacion_data_presion_105__20240201_20240229.csv'\n",
        "vientos_cal='https://raw.githubusercontent.com/kennethLeonel/Monografia-calidad-del-aire-valle-de-aburra/main/69_Caldas/vientos/estacion_data_vientos_105__20240201_20240229.csv'\n",
        "\n",
        "temp_cal=get_data(temp_cal)\n",
        "humedad_cal=get_data(humedad_cal)\n",
        "precipitacion_cal=get_data(precipitacion_cal)\n",
        "presion_cal=get_data(presion_cal)\n",
        "vientos_cal=get_data(vientos_cal)\n",
        "\n",
        "\n",
        "# Datos de temperatura,presion,humedad,precipitacion y vientos estacion aranjuez 86\n",
        "temp_aranj='https://raw.githubusercontent.com/kennethLeonel/Monografia-calidad-del-aire-valle-de-aburra/main/86_Aranjuez/temperatura/estacion_data_temperatura_68__20240201_20240229.csv'\n",
        "humedad_aranj='https://raw.githubusercontent.com/kennethLeonel/Monografia-calidad-del-aire-valle-de-aburra/main/86_Aranjuez/humedad/estacion_data_humedad_68__20240201_20240229.csv'\n",
        "precipitacion_aranj='https://raw.githubusercontent.com/kennethLeonel/Monografia-calidad-del-aire-valle-de-aburra/main/86_Aranjuez/precipitacion/estacion_data_precipitacion_68__20240201_20240229.csv'\n",
        "presion_aranj='https://raw.githubusercontent.com/kennethLeonel/Monografia-calidad-del-aire-valle-de-aburra/main/86_Aranjuez/presion/estacion_data_presion_68__20240201_20240229.csv'\n",
        "vientos_aranj='https://raw.githubusercontent.com/kennethLeonel/Monografia-calidad-del-aire-valle-de-aburra/main/86_Aranjuez/vientos/estacion_data_vientos_68__20240201_20240229.csv'\n",
        "\n",
        "temp_aranj=get_data(temp_aranj)\n",
        "humedad_aranj=get_data(humedad_aranj)\n",
        "precipitacion_aranj=get_data(precipitacion_aranj)\n",
        "presion_aranj=get_data(presion_aranj)\n",
        "vientos_aranj=get_data(vientos_aranj)\n",
        "\n",
        "# nombres de caracteristicas en minusculas calidad aire\n",
        "cal_aire_ita.columns = cal_aire_ita.columns.str.lower()\n",
        "cal_aire_cal.columns = cal_aire_cal.columns.str.lower()\n",
        "cal_aire_ara.columns = cal_aire_ara.columns.str.lower()\n",
        "\n",
        "#nombres de caracteristicas en minusculas Itagui\n",
        "temp_ita.columns = temp_ita.columns.str.lower()\n",
        "humedad_ita.columns = humedad_ita.columns.str.lower()\n",
        "presion_ita.columns = presion_ita.columns.str.lower()\n",
        "vientos_ita.columns = vientos_ita.columns.str.lower()\n",
        "precipitacion_ita.columns = precipitacion_ita.columns.str.lower()\n",
        "\n",
        "#nombres de caracteristicas en minusculas Aranjuez\n",
        "temp_aranj.columns = temp_aranj.columns.str.lower()\n",
        "humedad_aranj.columns = humedad_aranj.columns.str.lower()\n",
        "precipitacion_aranj.columns = precipitacion_aranj.columns.str.lower()\n",
        "presion_aranj.columns = presion_aranj.columns.str.lower()\n",
        "vientos_aranj.columns = vientos_aranj.columns.str.lower()\n",
        "\n",
        "#nombres de caracteristicas en minusculas Caldas\n",
        "temp_cal.columns = temp_cal.columns.str.lower()\n",
        "humedad_cal.columns = humedad_cal.columns.str.lower()\n",
        "precipitacion_cal.columns = precipitacion_cal.columns.str.lower()\n",
        "presion_cal.columns = presion_cal.columns.str.lower()\n",
        "vientos_cal.columns = vientos_cal.columns.str.lower()"
      ]
    },
    {
      "cell_type": "markdown",
      "metadata": {
        "id": "uFpaORBTEBJT"
      },
      "source": [
        "### Eliminación de la columnas de calidad ya que no influye"
      ]
    },
    {
      "cell_type": "markdown",
      "metadata": {
        "id": "SC-azZC5teZb"
      },
      "source": [
        "Puesto que los datos extraidos de la red SIATA presenta semejanza en el nombre de la columna \"Calidad\" se procede a eliminar esas columnas"
      ]
    },
    {
      "cell_type": "code",
      "execution_count": 350,
      "metadata": {
        "id": "cEdNi3d2ECgi"
      },
      "outputs": [],
      "source": [
        "def eliminarColumnas(data, nombresColumnas):\n",
        "    \"\"\"\n",
        "    Función para eliminar columnas en un dataframe\n",
        "    \"\"\"\n",
        "    # Eliminar columnas que no sean necesarias\n",
        "    data = data.drop(columns=nombresColumnas)\n",
        "    return data\n",
        "\n",
        "#-----------------------------------------------------------------\n",
        "# Eliminar columna calidad de los diferentes dataframes de Itagui\n",
        "columnasAEliminar = ['calidad_pm25','calidad_pm10','calidad_pm1','calidad_no','calidad_p_ssr',\n",
        "                     'calidad_pliquida_ssr','calidad_rglobal_ssr','calidad_taire10_ssr',\n",
        "                     'calidad_vviento_ssr','calidad_no2','calidad_nox','calidad_pst','calidad_dviento_ssr',\n",
        "                     'calidad_haire10_ssr','calidad_ozono','calidad_so2','calidad_co']\n",
        "\n",
        "\n",
        "# cal_aire_ita = eliminarColumnas(cal_aire_ita,columnasAEliminar)\n",
        "# temp_ita = eliminarColumnas(temp_ita,'calidad')\n",
        "# humedad_ita = eliminarColumnas(humedad_ita,'calidad')\n",
        "# presion_ita = eliminarColumnas(presion_ita,'calidad')\n",
        "# vientos_ita = eliminarColumnas(vientos_ita,'calidad')\n",
        "# precipitacion_ita = eliminarColumnas(precipitacion_ita,'calidad')\n",
        "\n",
        "# Eliminar columna calidad de los diferentes dataframes de Caldas\n",
        "cal_aire_cal = eliminarColumnas(cal_aire_cal, columnasAEliminar)\n",
        "temp_cal = eliminarColumnas(temp_cal,'calidad')\n",
        "humedad_cal = eliminarColumnas(humedad_cal,'calidad')\n",
        "precipitacion_cal = eliminarColumnas(precipitacion_cal,'calidad')\n",
        "presion_cal = eliminarColumnas(presion_cal,'calidad')\n",
        "vientos_cal = eliminarColumnas(vientos_cal,'calidad')\n",
        "\n",
        "# Eliminar columna calidad de los diferentes dataframes de Aranjuez\n",
        "cal_aire_ara = eliminarColumnas(cal_aire_ara ,columnasAEliminar)\n",
        "temp_aranj = eliminarColumnas(temp_aranj,'calidad')\n",
        "humedad_aranj = eliminarColumnas(humedad_aranj,'calidad')\n",
        "precipitacion_aranj = eliminarColumnas(precipitacion_aranj,'calidad')\n",
        "presion_aranj = eliminarColumnas(presion_aranj,'calidad')\n",
        "vientos_aranj = eliminarColumnas(vientos_aranj,'calidad')\n",
        "\n"
      ]
    },
    {
      "cell_type": "markdown",
      "metadata": {
        "id": "bMcEK9QgEIeu"
      },
      "source": [
        "Se muestra uno de los dataframes ya sin las columnas de calidad"
      ]
    },
    {
      "cell_type": "code",
      "execution_count": 351,
      "metadata": {
        "colab": {
          "base_uri": "https://localhost:8080/",
          "height": 216
        },
        "id": "ilW1cDQzEJUW",
        "outputId": "5074b6fc-1038-47ce-9532-3c4fd36c57ad"
      },
      "outputs": [
        {
          "data": {
            "text/html": [
              "<div>\n",
              "<style scoped>\n",
              "    .dataframe tbody tr th:only-of-type {\n",
              "        vertical-align: middle;\n",
              "    }\n",
              "\n",
              "    .dataframe tbody tr th {\n",
              "        vertical-align: top;\n",
              "    }\n",
              "\n",
              "    .dataframe thead th {\n",
              "        text-align: right;\n",
              "    }\n",
              "</style>\n",
              "<table border=\"1\" class=\"dataframe\">\n",
              "  <thead>\n",
              "    <tr style=\"text-align: right;\">\n",
              "      <th></th>\n",
              "      <th>fecha_hora</th>\n",
              "      <th>codigoserial</th>\n",
              "      <th>pm25</th>\n",
              "      <th>pm10</th>\n",
              "      <th>pm1</th>\n",
              "      <th>no</th>\n",
              "      <th>no2</th>\n",
              "      <th>nox</th>\n",
              "      <th>ozono</th>\n",
              "      <th>co</th>\n",
              "      <th>so2</th>\n",
              "      <th>pst</th>\n",
              "      <th>dviento_ssr</th>\n",
              "      <th>haire10_ssr</th>\n",
              "      <th>p_ssr</th>\n",
              "      <th>pliquida_ssr</th>\n",
              "      <th>rglobal_ssr</th>\n",
              "      <th>taire10_ssr</th>\n",
              "      <th>vviento_ssr</th>\n",
              "    </tr>\n",
              "  </thead>\n",
              "  <tbody>\n",
              "    <tr>\n",
              "      <th>0</th>\n",
              "      <td>2024-01-01 00:00:00</td>\n",
              "      <td>69</td>\n",
              "      <td>36.4093</td>\n",
              "      <td>-9999.0</td>\n",
              "      <td>-9999.0</td>\n",
              "      <td>-9999.0</td>\n",
              "      <td>-9999.0</td>\n",
              "      <td>-9999.0</td>\n",
              "      <td>-9999.0</td>\n",
              "      <td>-9999.0</td>\n",
              "      <td>-9999.0</td>\n",
              "      <td>-9999.0</td>\n",
              "      <td>-9999.0</td>\n",
              "      <td>-9999.0</td>\n",
              "      <td>-9999.0</td>\n",
              "      <td>-9999.0</td>\n",
              "      <td>-9999.0</td>\n",
              "      <td>-9999.0</td>\n",
              "      <td>-9999.0</td>\n",
              "    </tr>\n",
              "    <tr>\n",
              "      <th>1</th>\n",
              "      <td>2024-01-01 01:00:00</td>\n",
              "      <td>69</td>\n",
              "      <td>68.4104</td>\n",
              "      <td>-9999.0</td>\n",
              "      <td>-9999.0</td>\n",
              "      <td>-9999.0</td>\n",
              "      <td>-9999.0</td>\n",
              "      <td>-9999.0</td>\n",
              "      <td>-9999.0</td>\n",
              "      <td>-9999.0</td>\n",
              "      <td>-9999.0</td>\n",
              "      <td>-9999.0</td>\n",
              "      <td>-9999.0</td>\n",
              "      <td>-9999.0</td>\n",
              "      <td>-9999.0</td>\n",
              "      <td>-9999.0</td>\n",
              "      <td>-9999.0</td>\n",
              "      <td>-9999.0</td>\n",
              "      <td>-9999.0</td>\n",
              "    </tr>\n",
              "    <tr>\n",
              "      <th>2</th>\n",
              "      <td>2024-01-01 02:00:00</td>\n",
              "      <td>69</td>\n",
              "      <td>64.5992</td>\n",
              "      <td>-9999.0</td>\n",
              "      <td>-9999.0</td>\n",
              "      <td>-9999.0</td>\n",
              "      <td>-9999.0</td>\n",
              "      <td>-9999.0</td>\n",
              "      <td>-9999.0</td>\n",
              "      <td>-9999.0</td>\n",
              "      <td>-9999.0</td>\n",
              "      <td>-9999.0</td>\n",
              "      <td>-9999.0</td>\n",
              "      <td>-9999.0</td>\n",
              "      <td>-9999.0</td>\n",
              "      <td>-9999.0</td>\n",
              "      <td>-9999.0</td>\n",
              "      <td>-9999.0</td>\n",
              "      <td>-9999.0</td>\n",
              "    </tr>\n",
              "  </tbody>\n",
              "</table>\n",
              "</div>"
            ],
            "text/plain": [
              "            fecha_hora  codigoserial     pm25    pm10     pm1      no     no2  \\\n",
              "0  2024-01-01 00:00:00            69  36.4093 -9999.0 -9999.0 -9999.0 -9999.0   \n",
              "1  2024-01-01 01:00:00            69  68.4104 -9999.0 -9999.0 -9999.0 -9999.0   \n",
              "2  2024-01-01 02:00:00            69  64.5992 -9999.0 -9999.0 -9999.0 -9999.0   \n",
              "\n",
              "      nox   ozono      co     so2     pst  dviento_ssr  haire10_ssr   p_ssr  \\\n",
              "0 -9999.0 -9999.0 -9999.0 -9999.0 -9999.0      -9999.0      -9999.0 -9999.0   \n",
              "1 -9999.0 -9999.0 -9999.0 -9999.0 -9999.0      -9999.0      -9999.0 -9999.0   \n",
              "2 -9999.0 -9999.0 -9999.0 -9999.0 -9999.0      -9999.0      -9999.0 -9999.0   \n",
              "\n",
              "   pliquida_ssr  rglobal_ssr  taire10_ssr  vviento_ssr  \n",
              "0       -9999.0      -9999.0      -9999.0      -9999.0  \n",
              "1       -9999.0      -9999.0      -9999.0      -9999.0  \n",
              "2       -9999.0      -9999.0      -9999.0      -9999.0  "
            ]
          },
          "execution_count": 351,
          "metadata": {},
          "output_type": "execute_result"
        }
      ],
      "source": [
        "# Dataframe de la calidad del aire estación Itagui sin columnas Calidad\n",
        "cal_aire_cal.head(3)"
      ]
    },
    {
      "cell_type": "markdown",
      "metadata": {},
      "source": [
        "Eliminación registros donde nuestra variable pm25 tenga valores -9999.0 que esto significa dato nulo\n",
        "o que sean valores menores que 0"
      ]
    },
    {
      "cell_type": "code",
      "execution_count": 352,
      "metadata": {},
      "outputs": [],
      "source": [
        "def eliminarRegistrosNulos(data,columna, valor):\n",
        "    \"\"\"\n",
        "    Función para eliminar los valores nulos en una columna \n",
        "    estos son valores -999.0\n",
        "    \"\"\"\n",
        "    # Nos quedamos con los valores que sean mayores a 0\n",
        "    data = data[data[columna] > valor].reset_index(drop=True)\n",
        "    return data"
      ]
    },
    {
      "cell_type": "code",
      "execution_count": 353,
      "metadata": {},
      "outputs": [],
      "source": [
        "cal_aire_cal = eliminarRegistrosNulos(cal_aire_cal,'pm25', 0)\n",
        "cal_aire_ara = eliminarRegistrosNulos(cal_aire_ara,'pm25', 0)\n"
      ]
    },
    {
      "cell_type": "code",
      "execution_count": 354,
      "metadata": {},
      "outputs": [
        {
          "data": {
            "text/plain": [
              "np.float64(0.5)"
            ]
          },
          "execution_count": 354,
          "metadata": {},
          "output_type": "execute_result"
        }
      ],
      "source": [
        "#Corroboramos que ya nuestra columna pm25 que es la que necesitabamos cercioranrnos que no tuviera datos nulos\n",
        "cal_aire_cal['pm25'].min()"
      ]
    },
    {
      "cell_type": "markdown",
      "metadata": {},
      "source": [
        "### Inputación de los datos metereologicos"
      ]
    },
    {
      "cell_type": "code",
      "execution_count": 355,
      "metadata": {},
      "outputs": [],
      "source": [
        "def pasarDatosANulos(data,valor):\n",
        "    \"\"\"\n",
        "    Función para pasar datos a valores nulos en un dataframe\n",
        "    \"\"\"\n",
        "    # Reemplazamos los valores -999.0  u otro con NaN\n",
        "    data = data.replace(valor, np.nan)\n",
        "    return data"
      ]
    },
    {
      "cell_type": "code",
      "execution_count": 356,
      "metadata": {},
      "outputs": [],
      "source": [
        "def inputacionDatos(data,columna):\n",
        "\n",
        "    # Construimos el modelo\n",
        "    imputer = KNNImputer(n_neighbors=15, weights=\"uniform\")\n",
        "\n",
        "    # Ajustamos el modelo e imputamos los missing values\n",
        "    imputer.fit(data[[columna]])\n",
        "    data[columna] = imputer.transform(data[[columna]]).ravel()\n",
        "\n",
        "    print(\"Valores perdidos en normalized-losses: \" + \n",
        "        str(data[columna].isnull().sum()))\n",
        "    return data"
      ]
    },
    {
      "cell_type": "markdown",
      "metadata": {},
      "source": [
        "### Presión"
      ]
    },
    {
      "cell_type": "code",
      "execution_count": 357,
      "metadata": {},
      "outputs": [
        {
          "data": {
            "text/plain": [
              "fecha_hora    60337\n",
              "presion       60337\n",
              "dtype: int64"
            ]
          },
          "execution_count": 357,
          "metadata": {},
          "output_type": "execute_result"
        }
      ],
      "source": [
        "presion_cal[presion_cal['presion'] == -999.0].count()"
      ]
    },
    {
      "cell_type": "markdown",
      "metadata": {},
      "source": [
        "### Proceso cometada por temas de tiempo de ejcución\n",
        "\n",
        "Remplazar valores malos a nulos "
      ]
    },
    {
      "cell_type": "code",
      "execution_count": 358,
      "metadata": {},
      "outputs": [],
      "source": [
        "# #Presion de las estaciones\n",
        "# presion_cal = pasarDatosANulos(presion_cal,-999.0)\n",
        "# presion_aranj = pasarDatosANulos(presion_aranj, -999.0)\n",
        "\n",
        "# #Temperatura de las estaciones\n",
        "\n",
        "# temp_cal = pasarDatosANulos(temp_cal,-999.0)\n",
        "# temp_aranj = pasarDatosANulos(temp_aranj, -999.0)\n",
        "\n",
        "# Humedad de las estaciones\n",
        "\n",
        "# humedad_cal = pasarDatosANulos(humedad_cal,-999.0)\n",
        "# humedad_aranj = pasarDatosANulos(humedad_aranj, -999.0)\n",
        "\n",
        "# # Precipitación de las estaciones\n",
        "\n",
        "# precipitacion_cal = pasarDatosANulos(precipitacion_cal,-999.0)\n",
        "# precipitacion_aranj = pasarDatosANulos(precipitacion_aranj, -999.0)\n",
        "\n",
        "# # Viento de las estaciones\n",
        "\n",
        "# vientos_cal = pasarDatosANulos(vientos_cal,-999.0)\n",
        "# vientos_aranj = pasarDatosANulos(vientos_aranj, -999.0)"
      ]
    },
    {
      "cell_type": "markdown",
      "metadata": {},
      "source": [
        "Dejamos el codigo de abajo comentado por temas que la inputación se demora mucho, para eso guardamos la inputación en archivos csv"
      ]
    },
    {
      "cell_type": "code",
      "execution_count": 359,
      "metadata": {},
      "outputs": [],
      "source": [
        "##-------Presion inputación en las estaciones ---------\n",
        "\n",
        "# presion_cal = inputacionDatos(presion_cal,'presion')\n",
        "# presion_aranj = inputacionDatos(presion_aranj,'presion')\n",
        "\n",
        "##-------Temperatura inputación en las estaciones ---------\n",
        "\n",
        "#temp_cal = inputacionDatos(temp_cal,'temperatura')\n",
        "#temp_aranj = inputacionDatos(temp_aranj,'temperatura')\n",
        "\n",
        "# humedad_aranj = eliminarColumnas(humedad_aranj,'calidad')\n",
        "# precipitacion_aranj = eliminarColumnas(precipitacion_aranj,'calidad')\n",
        "# vientos_aranj = eliminarColumnas(vientos_aranj,'calidad')\n",
        "\n",
        "##-------Humedad inputación en las estaciones ---------\n",
        "#humedad_cal = inputacionDatos(humedad_cal,'humedad')\n",
        "#humedad_aranj = inputacionDatos(humedad_aranj,'humedad')\n",
        "\n",
        "##-------precipitaciones inputación en las estaciones ---------\n",
        "\n",
        "# precipitacion_cal = inputacionDatos(precipitacion_cal,'p1')\n",
        "#precipitacion_aranj = inputacionDatos(precipitacion_aranj,'p1')\n",
        "\n",
        "\n",
        "##-------Vientos inputación en las estaciones ---------\n",
        "\n",
        "# vientos_cal = inputacionDatos(vientos_cal,'velocidad_prom')\n",
        "# vientos_cal = inputacionDatos(vientos_cal,'velocidad_max')\n",
        "# vientos_cal = inputacionDatos(vientos_cal,'direccion_prom')\n",
        "# vientos_cal = inputacionDatos(vientos_cal,'direccion_max')\n",
        "\n",
        "# vientos_aranj = inputacionDatos(vientos_aranj,'velocidad_prom')\n",
        "# vientos_aranj = inputacionDatos(vientos_aranj,'velocidad_max')\n",
        "# vientos_aranj = inputacionDatos(vientos_aranj,'direccion_prom')\n",
        "# vientos_aranj = inputacionDatos(vientos_aranj,'direccion_max')\n",
        "\n"
      ]
    },
    {
      "cell_type": "markdown",
      "metadata": {},
      "source": [
        "Se guarda esas inputaciones en archivos csv"
      ]
    },
    {
      "cell_type": "code",
      "execution_count": 360,
      "metadata": {},
      "outputs": [],
      "source": [
        "## Guardar en csv la inputacion\n",
        "#Presion \n",
        "# presion_cal.to_csv('data/stage/presion_cal.csv', index=False)\n",
        "# presion_aranj.to_csv('data/stage/presion_aranj.csv', index=False)\n",
        "\n",
        "#Temperatura\n",
        "#temp_cal.to_csv('data/stage/temp_cal.csv', index=False)\n",
        "#temp_aranj.to_csv('data/stage/temp_aranj.csv', index=False)\n",
        "\n",
        "#Humedad\n",
        "#humedad_cal.to_csv('data/stage/humedad_cal.csv', index=False)\n",
        "#humedad_aranj.to_csv('data/stage/humedad_aranj.csv', index=False)\n",
        "\n",
        "#Precipitaciones\n",
        "#precipitacion_cal.to_csv('data/stage/precipitacion_cal.csv', index=False)\n",
        "#precipitacion_aranj.to_csv('data/stage/precipitacion_aranj.csv', index=False)\n",
        "\n",
        "#Vientos\n",
        "\n",
        "#vientos_cal.to_csv('data/stage/vientos_cal.csv', index=False)\n",
        "#vientos_aranj.to_csv('data/stage/vientos_aranj.csv', index=False)\n"
      ]
    },
    {
      "cell_type": "code",
      "execution_count": 366,
      "metadata": {},
      "outputs": [
        {
          "data": {
            "text/plain": [
              "fecha_hora    60337\n",
              "presion       60337\n",
              "dtype: int64"
            ]
          },
          "execution_count": 366,
          "metadata": {},
          "output_type": "execute_result"
        }
      ],
      "source": [
        "presion_cal[presion_cal['presion'] == -999.0].count()"
      ]
    },
    {
      "cell_type": "code",
      "execution_count": 367,
      "metadata": {},
      "outputs": [
        {
          "data": {
            "text/plain": [
              "394560"
            ]
          },
          "execution_count": 367,
          "metadata": {},
          "output_type": "execute_result"
        }
      ],
      "source": [
        "len(presion_cal)"
      ]
    },
    {
      "cell_type": "code",
      "execution_count": 369,
      "metadata": {},
      "outputs": [
        {
          "data": {
            "text/plain": [
              "fecha_hora    0\n",
              "presion       0\n",
              "dtype: int64"
            ]
          },
          "execution_count": 369,
          "metadata": {},
          "output_type": "execute_result"
        }
      ],
      "source": [
        "presion_cal.isnull().sum()"
      ]
    },
    {
      "cell_type": "markdown",
      "metadata": {},
      "source": [
        "### Se importan archivos de la inputación"
      ]
    },
    {
      "cell_type": "code",
      "execution_count": 388,
      "metadata": {},
      "outputs": [
        {
          "data": {
            "text/plain": [
              "fecha_hora    0\n",
              "presion       0\n",
              "dtype: int64"
            ]
          },
          "execution_count": 388,
          "metadata": {},
          "output_type": "execute_result"
        }
      ],
      "source": [
        "#Se importa la inputacion\n",
        "\n",
        "#Presion de las estaciones\n",
        "presion_cal_inputado = pd.read_csv('data/stage/presion_cal.csv')\n",
        "presion_aranj_inputado = pd.read_csv('data/stage/presion_aranj.csv')\n",
        "\n",
        "#Temperatura de las estaciones\n",
        "\n",
        "temp_cal_inputado = pd.read_csv('data/stage/temp_cal.csv')\n",
        "temp_aranj_inputado = pd.read_csv('data/stage/temp_aranj.csv')\n",
        "\n",
        "#Humedad de las estaciones\n",
        "\n",
        "humedad_cal_inputado = pd.read_csv('data/stage/humedad_cal.csv')\n",
        "humedad_aranj_inputado = pd.read_csv('data/stage/humedad_aranj.csv')\n",
        "\n",
        "# Precipitación de las estaciones\n",
        "\n",
        "precipitacion_cal_inputado = pd.read_csv('data/stage/precipitacion_cal.csv')\n",
        "precipitacion_aranj_inputado = pd.read_csv('data/stage/precipitacion_aranj.csv')\n",
        "\n",
        "# Viento de las estaciones\n",
        "\n",
        "vientos_cal_inputado = pd.read_csv('data/stage/vientos_cal.csv')\n",
        "vientos_aranj_inputado = pd.read_csv('data/stage/vientos_aranj.csv')\n",
        "\n",
        "#Comprobamos que los valores nulos esten sustituidos\n",
        "\n",
        "presion_cal_inputado.isnull().sum()"
      ]
    },
    {
      "cell_type": "markdown",
      "metadata": {},
      "source": [
        "Comparar la imputación con proceso sin inputar"
      ]
    },
    {
      "cell_type": "code",
      "execution_count": 387,
      "metadata": {},
      "outputs": [
        {
          "name": "stdout",
          "output_type": "stream",
          "text": [
            "El tamaño del archivo de presión con proceso de imputacion es de: 394560\n",
            "El tamaño del archivo de presión sin proceso de imputacion es de: 394560\n",
            "El valor maximo de la presión es de: 829.9\n"
          ]
        }
      ],
      "source": [
        "# Revisar si cambio tamaño del dataframe\n",
        "print (f\"El tamaño del archivo de presión con proceso de imputacion es de: {len(presion_cal_inputado)}\")\n",
        "print (f\"El tamaño del archivo de presión sin proceso de imputacion es de: {len(presion_cal)}\")\n",
        "print (f\"El valor maximo de la presión es de: {presion_cal_inputado['presion'].max()}\")"
      ]
    },
    {
      "cell_type": "code",
      "execution_count": 383,
      "metadata": {},
      "outputs": [
        {
          "name": "stdout",
          "output_type": "stream",
          "text": [
            "-----Sin inputación valores que harían ruido-------\n",
            "                fecha_hora  presion\n",
            "14921  2024-01-11 08:41:00   -999.0\n",
            "14922  2024-01-11 08:42:00   -999.0\n",
            "14923  2024-01-11 08:43:00   -999.0\n",
            "\n",
            "\n",
            "----- Con inputación valores que hacían ruido------\n",
            "                fecha_hora     presion\n",
            "14921  2024-01-11 08:41:00  826.084096\n",
            "14922  2024-01-11 08:42:00  826.084096\n",
            "14923  2024-01-11 08:43:00  826.084096\n"
          ]
        }
      ],
      "source": [
        "print(\"-----Sin inputación valores que harían ruido-------\")\n",
        "print(presion_cal[presion_cal['presion'] == -999.0].head(3))\n",
        "print(\"\\n\")\n",
        "print(\"----- Con inputación valores que hacían ruido------\")\n",
        "print(presion_cal_inputado[presion_cal['presion'] == -999.0].head(3))"
      ]
    },
    {
      "cell_type": "code",
      "execution_count": 365,
      "metadata": {},
      "outputs": [
        {
          "ename": "SyntaxError",
          "evalue": "invalid syntax (2965675060.py, line 1)",
          "output_type": "error",
          "traceback": [
            "\u001b[1;36m  Cell \u001b[1;32mIn[365], line 1\u001b[1;36m\u001b[0m\n\u001b[1;33m    que de queero\u001b[0m\n\u001b[1;37m        ^\u001b[0m\n\u001b[1;31mSyntaxError\u001b[0m\u001b[1;31m:\u001b[0m invalid syntax\n"
          ]
        }
      ],
      "source": [
        "que de queero"
      ]
    },
    {
      "cell_type": "markdown",
      "metadata": {},
      "source": [
        "### Temperatura"
      ]
    },
    {
      "cell_type": "code",
      "execution_count": null,
      "metadata": {},
      "outputs": [],
      "source": [
        "temp_cal['temperatura'].min()"
      ]
    },
    {
      "cell_type": "code",
      "execution_count": null,
      "metadata": {},
      "outputs": [],
      "source": [
        "temp_cal[temp_cal['temperatura'] == -999.0].count()\n"
      ]
    },
    {
      "cell_type": "markdown",
      "metadata": {
        "id": "AEyNDp2jteZd"
      },
      "source": [
        "Filtrar el dataframe calidad aire para tomar las columnas objetivo del proyecto (Puede que esta función ya no la usemos)"
      ]
    },
    {
      "cell_type": "code",
      "execution_count": null,
      "metadata": {
        "colab": {
          "base_uri": "https://localhost:8080/",
          "height": 424
        },
        "id": "yVcJjNscteZe",
        "outputId": "ba8209e8-36c5-40b8-faf0-fc894aaaadd6"
      },
      "outputs": [],
      "source": [
        "def filtro_data_peque(data):\n",
        "    \"\"\"\"\n",
        "    Función para tomar columnas de estudio en archivos de calidad del aire en las diferentes estaciones\n",
        "\n",
        "    In[0]: dataset\n",
        "    Out[0]: dataset filtrado hasta columna de estudio\n",
        "    \"\"\"\n",
        "    # Filtrar los datos segun el indice\n",
        "    tamColumnas = data.shape\n",
        "    if (tamColumnas[1]>6):\n",
        "        datosFiltrados = data.iloc[:,:3]\n",
        "    return datosFiltrados\n",
        "\n",
        "def filtro_data(data,nombreColumna,condicion):\n",
        "    \"\"\"\"\n",
        "    Función para tomar calidad de datos en tiempo real establecidos desde datos crudos\n",
        "\n",
        "    In[0]: dataset, 'calidad_pm25', 1\n",
        "    Out[0]: dataset filtrado con datos en calidad\n",
        "    \"\"\"\n",
        "    # Filtrar los datos segun el indice y la condicion\n",
        "    tamColumnas = data.shape\n",
        "    if (tamColumnas[1]>6):\n",
        "        datosFiltrados = data.iloc[:,:4]\n",
        "        return datosFiltrados[datosFiltrados.loc[:, nombreColumna] == condicion]\n",
        "    else:\n",
        "       return data.loc[data.loc[:, nombreColumna] == condicion]\n",
        "\n",
        "# #Se tiene el filtrado estación Itagui\n",
        "# dataCalidadFiltradaItagui = filtro_data_peque(cal_aire_ita)\n",
        "\n",
        "#Se tiene el filtrado estación Caldas\n",
        "dataCalidadFiltradaCaldas = filtro_data_peque(cal_aire_cal)\n",
        "\n",
        "#Se tiene el filtrado estación Aranjuez\n",
        "dataCalidadFiltradaAranjuez = filtro_data_peque(cal_aire_ara)\n",
        "\n",
        "#Visualizar datos calidad aire itagui\n",
        "dataCalidadFiltradaCaldas"
      ]
    },
    {
      "cell_type": "markdown",
      "metadata": {
        "id": "m-8Y6B5xteZf"
      },
      "source": [
        "Dado que los registros que se tienen por las características metereológicas se encuentran por minuto, debemos llevarlos a la estructura o base del dataset que almacena la calidad del aire bajo registros por dia, por ende, se realiza el promedio de los dataframes (Temperatura , precipitación, Vientos, Humedad, Presion) de las diferentes estaciones para homogeneizar la base final"
      ]
    },
    {
      "cell_type": "code",
      "execution_count": 112,
      "metadata": {
        "id": "oP3dORT-teZf"
      },
      "outputs": [],
      "source": [
        "\n",
        "def agregarColumnas(data):\n",
        "    \"\"\"\"\n",
        "    Función para agregar columnas\n",
        "    In[0]: dataset\n",
        "    Out[0]: dataset con columnas día , mes\n",
        "    \"\"\"\n",
        "    dataTemporal = data.copy()\n",
        "    dataTemporal['anio'] = pd.to_datetime(dataTemporal['fecha_hora']).dt.year\n",
        "    dataTemporal['dia']= pd.to_datetime(dataTemporal['fecha_hora']).dt.day\n",
        "    dataTemporal['mes']= pd.to_datetime(dataTemporal['fecha_hora']).dt.month\n",
        "    return dataTemporal\n",
        "\n",
        "\n",
        "\n",
        "def sacarPromedio(data,nombreColumna,revision):\n",
        "    \"\"\"\"\n",
        "    Función para calcular el promedio de todas las columnas de un dataframe\n",
        "\n",
        "    args:   data =  dataframe a utilizar\n",
        "            nombrecolumna = característica a la cual se le realiza el promedio\n",
        "            revision = indicador de revision (1,2,3) según las columnas de los dataframes\n",
        "            1 si el dataframe contiene únicamente para nombre de columna y calidad\n",
        "            2 si el dataframe contiene las columnas nombre de columna, calidad y codigo serial\n",
        "            3 si el dataframe contiene las columnas nombre de columna, calidad y se aplican las demas características en este caso del viento\n",
        "\n",
        "    In[0]: dataset\n",
        "    Out[0]: promedio de cada columna\n",
        "    \"\"\"\n",
        "    #Llamamos a la funcion agregarColumnas\n",
        "    dataNuevo = agregarColumnas(data)\n",
        "    #return dataNuevo\n",
        "    #se saca el promedio de temperatura de la columna Temperatura\n",
        "\n",
        "    if (revision ==1):\n",
        "        registroPromedio = dataNuevo.groupby(['anio','mes','dia']).agg({\n",
        "            f'{nombreColumna}':'median'\n",
        "        }).reset_index()\n",
        "        return registroPromedio\n",
        "    elif(revision ==2):\n",
        "        registroPromedio = dataNuevo.groupby(['anio','mes','dia']).agg({\n",
        "            f'{nombreColumna}':'median',\n",
        "            'codigoserial': lambda x: stats.mode(x)[0]\n",
        "        }).reset_index()\n",
        "        return registroPromedio\n",
        "    elif(revision == 3):\n",
        "        registroPromedio = dataNuevo.groupby(['anio','mes','dia']).agg({\n",
        "            f'{nombreColumna}':'median',\n",
        "            'velocidad_max':'median',\n",
        "            'direccion_prom':'median',\n",
        "            'direccion_max':'median'\n",
        "        }).reset_index()\n",
        "        return registroPromedio\n"
      ]
    },
    {
      "cell_type": "code",
      "execution_count": 113,
      "metadata": {
        "id": "2zQ1FWIsteZg"
      },
      "outputs": [],
      "source": [
        "# #Sacar promedio Itagui\n",
        "# temperaturaItaguiPromedio = sacarPromedio(temp_ita, 'temperatura',1)\n",
        "# humedadItaguiPromedio = sacarPromedio(humedad_ita, 'humedad',1)\n",
        "# presionItaguiPromedio = sacarPromedio(presion_ita, 'presion',1)\n",
        "# precipitacionItaguiPromedio = sacarPromedio(precipitacion_ita, 'p1',1)\n",
        "# vientosItaguiPromedio = sacarPromedio(vientos_ita,'velocidad_prom',3)\n",
        "\n",
        "#Sacar promedio Caldas\n",
        "temperaturaCaldasPromedio = sacarPromedio(temp_cal, 'temperatura', 1)\n",
        "humedadCaldasPromedio = sacarPromedio(humedad_cal,'humedad',1)\n",
        "precipitacionCaldasPromedio = sacarPromedio(precipitacion_cal, 'p1',1)\n",
        "presionCaldasPromedio = sacarPromedio(presion_cal, 'presion',1)\n",
        "vientosCaldasPromedio = sacarPromedio(vientos_cal,'velocidad_prom',3)\n",
        "\n",
        "#Sacar promedio Aranjuez\n",
        "temperaturaAranjuezPromedio = sacarPromedio(temp_aranj, 'temperatura', 1)\n",
        "humedadAranjuezPromedio = sacarPromedio(humedad_aranj,'humedad',1)\n",
        "precipitacionAranjuezPromedio = sacarPromedio(precipitacion_aranj, 'p1',1)\n",
        "presionAranjuezPromedio = sacarPromedio(presion_aranj, 'presion',1)\n",
        "vientosAranjuezPromedio = sacarPromedio(vientos_aranj,'velocidad_prom',3)\n"
      ]
    },
    {
      "cell_type": "markdown",
      "metadata": {
        "id": "33zCdrfMteZh"
      },
      "source": [
        "Al dataframe dataCalidadFiltrada se necesita sacar el promedio por dia para después concatanar las demas variables con el dataframe"
      ]
    },
    {
      "cell_type": "code",
      "execution_count": null,
      "metadata": {
        "colab": {
          "base_uri": "https://localhost:8080/",
          "height": 144
        },
        "id": "RAKWZAuateZh",
        "outputId": "9723d563-5d2d-4c96-a986-0e640beb500f"
      },
      "outputs": [],
      "source": [
        "# calidadAireItagui = sacarPromedio(dataCalidadFiltradaItagui, 'pm25',2)\n",
        "calidadAireCaldas = sacarPromedio(dataCalidadFiltradaCaldas, 'pm25', 2)\n",
        "calidadAireAranjuez = sacarPromedio(dataCalidadFiltradaAranjuez, 'pm25', 2)\n",
        "calidadAireCaldas.iloc[:3]"
      ]
    },
    {
      "cell_type": "markdown",
      "metadata": {},
      "source": [
        "### Creación de columnas pertinentes para el estudio"
      ]
    },
    {
      "cell_type": "markdown",
      "metadata": {
        "id": "RZvhfy4V89ea"
      },
      "source": [
        "### Crear función para tener el día de la semana en una columna a cada dataframe"
      ]
    },
    {
      "cell_type": "code",
      "execution_count": 115,
      "metadata": {},
      "outputs": [],
      "source": [
        "def definirDia(anio, mes, dia):\n",
        "    \"\"\"\n",
        "    Función para definir el día de la semana\n",
        "    args:   anio = año del dato\n",
        "            mes = mes del dato\n",
        "            dia = día del dato\n",
        "    In[0]: año, mes, dia\n",
        "    Out[0]: día de la semana en español\n",
        "    \"\"\"\n",
        "    dias_semana = ['Domingo', 'Lunes', 'Martes', 'Miercoles', 'Jueves', 'Viernes', 'Sabado']\n",
        "    # se crea un objeto de la fecha\n",
        "    objetoFecha = datetime.date(int(anio), int(mes), int(dia))\n",
        "    # obtener el índice del día de la semana %W -> Weekday (0 es Domingo, 6 es Sábado)\n",
        "    indice_dia = int(objetoFecha.strftime(\"%w\"))\n",
        "    # obtener el nombre del día en español\n",
        "    nombreDia = dias_semana[indice_dia]\n",
        "    print(nombreDia)\n",
        "    return nombreDia"
      ]
    },
    {
      "cell_type": "code",
      "execution_count": null,
      "metadata": {},
      "outputs": [],
      "source": [
        "# # Aplicar la función a cada fila del DataFrame estación Itagui\n",
        "# calidadAireItagui['dia_semana'] = calidadAireItagui.apply(lambda row: definirDia(row['anio'], row['mes'], row['dia']), axis=1)\n",
        "# temperaturaItaguiPromedio['dia_semana'] = temperaturaItaguiPromedio.apply(lambda row: definirDia(row['anio'], row['mes'], row['dia']), axis=1)\n",
        "# vientosItaguiPromedio['dia_semana'] = vientosItaguiPromedio.apply(lambda row: definirDia(row['anio'], row['mes'], row['dia']), axis=1)\n",
        "# humedadItaguiPromedio['dia_semana'] = humedadItaguiPromedio.apply(lambda row: definirDia(row['anio'], row['mes'], row['dia']), axis=1)\n",
        "# precipitacionItaguiPromedio['dia_semana'] = precipitacionItaguiPromedio.apply(lambda row: definirDia(row['anio'], row['mes'], row['dia']), axis=1)\n",
        "# presionItaguiPromedio['dia_semana'] = presionItaguiPromedio.apply(lambda row: definirDia(row['anio'], row['mes'], row['dia']), axis=1)\n",
        "\n",
        "# Aplicar la función a cada fila del DataFrame estación Caldas\n",
        "calidadAireCaldas['dia_semana'] = calidadAireCaldas.apply(lambda row: definirDia(row['anio'], row['mes'], row['dia']), axis=1)\n",
        "temperaturaCaldasPromedio['dia_semana'] = temperaturaCaldasPromedio.apply(lambda row: definirDia(row['anio'], row['mes'], row['dia']), axis=1)\n",
        "vientosCaldasPromedio['dia_semana'] = vientosCaldasPromedio.apply(lambda row: definirDia(row['anio'], row['mes'], row['dia']), axis=1)\n",
        "humedadCaldasPromedio['dia_semana'] = humedadCaldasPromedio.apply(lambda row: definirDia(row['anio'], row['mes'], row['dia']), axis=1)\n",
        "precipitacionCaldasPromedio['dia_semana'] = precipitacionCaldasPromedio.apply(lambda row: definirDia(row['anio'], row['mes'], row['dia']), axis=1)\n",
        "presionCaldasPromedio['dia_semana'] = presionCaldasPromedio.apply(lambda row: definirDia(row['anio'], row['mes'], row['dia']), axis=1)\n",
        "\n",
        "# Aplicar la función a cada fila del Dataframe estacion Aranjuez\n",
        "\n",
        "calidadAireAranjuez['dia_semana'] = calidadAireAranjuez.apply(lambda row: definirDia(row['anio'], row['mes'], row['dia']), axis=1)\n",
        "temperaturaAranjuezPromedio['dia_semana'] = temperaturaAranjuezPromedio.apply(lambda row: definirDia(row['anio'], row['mes'], row['dia']), axis=1)\n",
        "vientosAranjuezPromedio['dia_semana'] = vientosAranjuezPromedio.apply(lambda row: definirDia(row['anio'], row['mes'], row['dia']), axis=1)\n",
        "humedadAranjuezPromedio['dia_semana'] = humedadAranjuezPromedio.apply(lambda row: definirDia(row['anio'], row['mes'], row['dia']), axis=1)\n",
        "precipitacionAranjuezPromedio['dia_semana'] = precipitacionAranjuezPromedio.apply(lambda row: definirDia(row['anio'], row['mes'], row['dia']), axis=1)\n",
        "presionAranjuezPromedio['dia_semana'] = presionAranjuezPromedio.apply(lambda row: definirDia(row['anio'], row['mes'], row['dia']), axis=1)\n"
      ]
    },
    {
      "cell_type": "markdown",
      "metadata": {},
      "source": [
        "### Se detalla uno de los dataframes sobre esta nueva columna dia_semana"
      ]
    },
    {
      "cell_type": "code",
      "execution_count": null,
      "metadata": {},
      "outputs": [],
      "source": [
        "calidadAireCaldas.head(3)"
      ]
    },
    {
      "cell_type": "markdown",
      "metadata": {},
      "source": [
        "### Se agrega columna  categorica dependiendo del codigo serial \n"
      ]
    },
    {
      "cell_type": "code",
      "execution_count": null,
      "metadata": {},
      "outputs": [],
      "source": [
        "\n",
        "def categoriaCodigoSerial(codigo):\n",
        "    \"\"\"\n",
        "    Función para definir la categoría de calidad del aire\n",
        "    args:   codigo = código serial de calidad del aire\n",
        "    In[0]: código serial\n",
        "    Out[0]: categoría de calidad del aire\n",
        "    \"\"\"\n",
        "    if codigo == 28:\n",
        "        return 'Estacion Itagui'\n",
        "    elif codigo == 69:\n",
        "        return 'Estacion Caldas'\n",
        "    elif codigo == 86:\n",
        "        return 'Estacion Aranjuez'\n",
        "\n",
        "# # Aplicar la función a cada fila del DataFrame estación Itagui\n",
        "# calidadAireItagui['estacion'] = calidadAireItagui.apply(lambda row: categoriaCodigoSerial(row['codigoserial']), axis=1)\n",
        "\n",
        "# Aplicar la función a cada fila del DataFrame estación Caldas\n",
        "calidadAireCaldas['estacion'] = calidadAireCaldas.apply(lambda row: categoriaCodigoSerial(row['codigoserial']), axis=1)\n",
        "\n",
        "# Aplicar la función a cada fila del DataFrame estación Aranjuez\n",
        "calidadAireAranjuez['estacion'] = calidadAireAranjuez.apply(lambda row: categoriaCodigoSerial(row['codigoserial']), axis=1)\n",
        "\n",
        "# Se muestran los primeros 3 registros de los dataframes con la nueva columna\n",
        "\n",
        "calidadAireCaldas.head(3)"
      ]
    },
    {
      "cell_type": "markdown",
      "metadata": {},
      "source": [
        "### Se crea una columba binaria sobre si ese dia fue festivo o no"
      ]
    },
    {
      "cell_type": "code",
      "execution_count": null,
      "metadata": {},
      "outputs": [],
      "source": [
        "\n",
        "\n",
        "# Obtener los festivos de Colombia\n",
        "festivosColombia = holidays.CO()\n",
        "\n",
        "# Función para verificar si es festivo\n",
        "def es_festivo(anio, mes, dia):\n",
        "   \n",
        "    fecha = datetime.date(int(anio), int(mes), int(dia))\n",
        "    festivo = fecha in festivosColombia\n",
        "    if festivo == True :\n",
        "        return 1\n",
        "    elif festivo == False :\n",
        "        return 0\n",
        "\n",
        "# # Aplicamos la función es_festivo\n",
        "# calidadAireItagui['festivo'] = calidadAireItagui.apply(lambda row: es_festivo(row['anio'], row['mes'], row['dia']), axis=1)\n",
        "calidadAireCaldas['festivo'] = calidadAireCaldas.apply(lambda row: es_festivo(row['anio'], row['mes'], row['dia']), axis=1)\n",
        "calidadAireAranjuez['festivo'] = calidadAireAranjuez.apply(lambda row: es_festivo(row['anio'], row['mes'], row['dia']), axis=1)\n",
        "\n",
        "# resultado para ver que el 25 de marzo fue festivo igual que el 29 y 29 representando el jueves y viernes santo\n",
        "calidadAireCaldas.iloc[53:58]\n"
      ]
    },
    {
      "cell_type": "markdown",
      "metadata": {
        "id": "2dIrCx8gteZh"
      },
      "source": [
        "Unión de dataFrames"
      ]
    },
    {
      "cell_type": "code",
      "execution_count": null,
      "metadata": {
        "id": "EVChD9m2teZh"
      },
      "outputs": [],
      "source": [
        "#Unir los dataframes\n",
        "def unirDatos(data1, data2):\n",
        "    \"\"\"\"\n",
        "    Función para unir dos dataframes\n",
        "    In[0]: dataset1, dataset2\n",
        "    Out[0]: dataset unido\n",
        "    \"\"\"\n",
        "    return pd.merge(data1,data2,on=['anio','mes','dia','dia_semana'],how='inner')\n",
        "\n",
        "# #Unir los dataframes de la estación Itagui\n",
        "# calidadAireItaguiUnido = unirDatos(calidadAireItagui,temperaturaItaguiPromedio)\n",
        "# calidadAireItaguiUnido = unirDatos(calidadAireItaguiUnido,humedadItaguiPromedio)\n",
        "# calidadAireItaguiUnido = unirDatos(calidadAireItaguiUnido,presionItaguiPromedio)\n",
        "# calidadAireItaguiUnido = unirDatos(calidadAireItaguiUnido,precipitacionItaguiPromedio)\n",
        "# calidadAireItaguiUnido = unirDatos(calidadAireItaguiUnido,vientosItaguiPromedio)\n",
        "\n",
        "#Unir los dataframes de la estación Caldas\n",
        "calidadAireCaldasUnido = unirDatos(calidadAireCaldas,temperaturaCaldasPromedio)\n",
        "calidadAireCaldasUnido = unirDatos(calidadAireCaldasUnido,humedadCaldasPromedio)\n",
        "calidadAireCaldasUnido = unirDatos(calidadAireCaldasUnido,precipitacionCaldasPromedio)\n",
        "calidadAireCaldasUnido = unirDatos(calidadAireCaldasUnido,presionCaldasPromedio)\n",
        "calidadAireCaldasUnido = unirDatos(calidadAireCaldasUnido,vientosCaldasPromedio)\n",
        "\n",
        "#Unir los dataframes de la estación Aranjuez\n",
        "calidadAireAranjuezUnido = unirDatos(calidadAireAranjuez,temperaturaAranjuezPromedio)\n",
        "calidadAireAranjuezUnido = unirDatos(calidadAireAranjuezUnido,humedadAranjuezPromedio)\n",
        "calidadAireAranjuezUnido = unirDatos(calidadAireAranjuezUnido,precipitacionAranjuezPromedio)\n",
        "calidadAireAranjuezUnido = unirDatos(calidadAireAranjuezUnido,presionAranjuezPromedio)\n",
        "calidadAireAranjuezUnido = unirDatos(calidadAireAranjuezUnido,vientosAranjuezPromedio)\n",
        "\n",
        "calidadAireCaldasUnido.iloc[:3]"
      ]
    },
    {
      "cell_type": "code",
      "execution_count": null,
      "metadata": {
        "id": "ZjgBkaJ8teZi"
      },
      "outputs": [],
      "source": [
        "def ConcatenadoRegistros(*data):\n",
        "    \"\"\"\"\n",
        "    Función para concatenar dataframes\n",
        "    In[0]: (dataset1, dataset2, dataset3, ..., datasetn)\n",
        "    Out[0]: dataset concatenado\n",
        "    \"\"\"\n",
        "\n",
        "    return pd.concat([*data], axis=0)\n",
        "\n",
        "# Si queremos unir el de itagui calidadAireItaguiUnido\n",
        "dataSetCalidadAire = ConcatenadoRegistros( calidadAireCaldasUnido, calidadAireAranjuezUnido)\n",
        "\n",
        "dataSetCalidadAire.head(3)"
      ]
    },
    {
      "cell_type": "markdown",
      "metadata": {},
      "source": [
        "### Exploración dataset concatenado por las estaciones escogidas"
      ]
    },
    {
      "cell_type": "code",
      "execution_count": null,
      "metadata": {},
      "outputs": [],
      "source": [
        "dataSetCalidadAire.info()"
      ]
    },
    {
      "cell_type": "markdown",
      "metadata": {},
      "source": [
        "Mirar si existen datos nulos"
      ]
    },
    {
      "cell_type": "code",
      "execution_count": null,
      "metadata": {},
      "outputs": [],
      "source": [
        "#Se mira nularidad en las variables \n",
        "dataSetCalidadAire.isnull().sum()\n"
      ]
    },
    {
      "cell_type": "markdown",
      "metadata": {},
      "source": [
        "### Listado de nuestras variables "
      ]
    },
    {
      "cell_type": "markdown",
      "metadata": {},
      "source": [
        "Variables Categoricas"
      ]
    },
    {
      "cell_type": "code",
      "execution_count": null,
      "metadata": {},
      "outputs": [],
      "source": [
        "#Lista de variables categóricas\n",
        "columnasCategoricas = dataSetCalidadAire.select_dtypes(include = [\"object\", 'category']).columns.tolist()\n",
        "\n",
        "dataSetCalidadAire[columnasCategoricas].head(3)"
      ]
    },
    {
      "cell_type": "markdown",
      "metadata": {},
      "source": [
        "Variables Númericas"
      ]
    },
    {
      "cell_type": "code",
      "execution_count": null,
      "metadata": {},
      "outputs": [],
      "source": [
        "#Lista de variables numéricas\n",
        "\n",
        "columnasNumericas=dataSetCalidadAire.select_dtypes(include = ['float64','int32','int64']).columns.tolist()\n",
        "dataSetCalidadAire[columnasNumericas].head(3)"
      ]
    },
    {
      "cell_type": "markdown",
      "metadata": {},
      "source": [
        "Visualización variables categoricas"
      ]
    },
    {
      "cell_type": "code",
      "execution_count": null,
      "metadata": {},
      "outputs": [],
      "source": [
        "#Se recorre las columnas categoricas\n",
        "for columna in columnasCategoricas:\n",
        "    sns.countplot(x=dataSetCalidadAire[columna])\n",
        "    plt.title(f\"Distribución de {columna}\")\n",
        "    plt.show()\n"
      ]
    },
    {
      "cell_type": "markdown",
      "metadata": {},
      "source": [
        "Visualización variables númericas"
      ]
    },
    {
      "cell_type": "code",
      "execution_count": 127,
      "metadata": {},
      "outputs": [],
      "source": [
        "# Graficar las variables númericas con respecto a nuestra avriable objetivo que es pm25\n",
        "\n",
        "# Histogramas de las variables númericas\n",
        "\n",
        "# for columna in columnasNumericas:\n",
        "#     sns.histplot(dataSetCalidadAire[columna], kde=True)\n",
        "#     plt.title(f\"Distribución de {columna}\")\n",
        "#     plt.show()"
      ]
    },
    {
      "cell_type": "markdown",
      "metadata": {},
      "source": [
        "Box Plot de nuestra variable PM25"
      ]
    },
    {
      "cell_type": "code",
      "execution_count": null,
      "metadata": {},
      "outputs": [],
      "source": [
        "# Box Plot PM2.5 agrupado por estaciones\n",
        "ax = sns.boxplot(x=dataSetCalidadAire['estacion'], y= dataSetCalidadAire['pm25'],  linewidth=0.9)\n",
        "ax.set_title(\"Niveles de PM2.5 por estación\")\n",
        "plt.ylabel(\"$\\mu$g/$m^3$\")\n",
        "plt.setp(ax.artists, edgecolor = 'k', facecolor='w')\n",
        "plt.setp(ax.lines, color='blue')\n",
        "plt.show()"
      ]
    },
    {
      "cell_type": "markdown",
      "metadata": {},
      "source": [
        "### Eliminación de valores atípicos"
      ]
    },
    {
      "cell_type": "code",
      "execution_count": null,
      "metadata": {},
      "outputs": [],
      "source": [
        "#Calculo de valores atípicos\n",
        "\n",
        "\n",
        "#Calculo de Q1 t Q3\n",
        "Q1 = np.percentile(dataSetCalidadAire['pm25'], 25, interpolation = 'midpoint')\n",
        "Q3 = np.percentile(dataSetCalidadAire['pm25'], 75, interpolation = 'midpoint')\n",
        "\n",
        "#Cálculo del rango intercuartil\n",
        "IQR = Q3 - Q1\n",
        "\n",
        "#Cálculo de valor mínimo y máximo para los valores atípicos\n",
        "valorInferior = Q1 - 1.5*IQR\n",
        "valorSuperior = Q3 + 1.5*IQR\n",
        "\n",
        "print(f'Valor atípico leve inferior:{valorInferior}')\n",
        "print(f'Valor atípico leve superior:{valorSuperior}')"
      ]
    },
    {
      "cell_type": "code",
      "execution_count": null,
      "metadata": {},
      "outputs": [],
      "source": [
        "limpiaDataSetCalidadAire = dataSetCalidadAire.copy()\n",
        "\n",
        "#Se tiene en cuenta los datos que se encuentren mayores a los valores de pm25 mayores al valor inferior\n",
        "# y tambien lso que se encuentren menores al valor superior\n",
        "\n",
        "limpiaDataSetCalidadAire = limpiaDataSetCalidadAire[(limpiaDataSetCalidadAire['pm25'] > valorInferior) & (limpiaDataSetCalidadAire['pm25'] < valorSuperior)]\n",
        "limpiaDataSetCalidadAire.head()"
      ]
    },
    {
      "cell_type": "markdown",
      "metadata": {},
      "source": [
        "### Encontrar valores atipicos en las variables de entrada"
      ]
    },
    {
      "cell_type": "code",
      "execution_count": null,
      "metadata": {},
      "outputs": [],
      "source": [
        "#utilización de LocalOutlierFactor con 8 vecinos para identificar valores atípicos en las variables de entrada\n",
        "\n",
        "\n",
        "# crear un objeto LocalOutlierFactor con n_neighbors=8\n",
        "lof = LocalOutlierFactor(n_neighbors=8, contamination=0.1)\n",
        "\n",
        "\n",
        "# identificar los valores atípicos por medio de lof\n",
        "y_pred = lof.fit_predict(limpiaDataSetCalidadAire[columnasNumericas])\n",
        "\n",
        "# Identificar los índices de los valores atípicos\n",
        "outliers = y_pred == -1\n",
        "\n",
        "print('Indices de valores atípicos: ', limpiaDataSetCalidadAire[outliers].index.tolist())\n",
        "# Eliminar los valores atípicos del dataframe original\n",
        "limpiaDataSetCalidadAire = limpiaDataSetCalidadAire.loc[~outliers]\n",
        "limpiaDataSetCalidadAire.head(3)"
      ]
    },
    {
      "cell_type": "code",
      "execution_count": null,
      "metadata": {},
      "outputs": [],
      "source": [
        "#Cantidad de registros después de eliminar los valores atípicos del dataframe\n",
        "\n",
        "len(limpiaDataSetCalidadAire)"
      ]
    },
    {
      "cell_type": "markdown",
      "metadata": {},
      "source": [
        "### realizamos proceso de estandarización de nuestro dataset"
      ]
    },
    {
      "cell_type": "markdown",
      "metadata": {},
      "source": [
        "### Correlación variables con nuestra variable pm25"
      ]
    },
    {
      "cell_type": "code",
      "execution_count": 133,
      "metadata": {},
      "outputs": [],
      "source": [
        "#Se crea una copia de nuestro datasetCalidad\n",
        "datosCorrelacion = limpiaDataSetCalidadAire.copy()\n",
        "#Elimina variables categoricas para poder ver correlación \n",
        "columnas  = ['dia_semana', 'estacion']\n",
        "datosCorrelacion = eliminarColumnas(datosCorrelacion,columnas)\n"
      ]
    },
    {
      "cell_type": "markdown",
      "metadata": {
        "id": "wF-G-uH3teZk"
      },
      "source": [
        "Visualizamos la correlacion que tienen las caracteristicas sobre la variable de respuesta pm25"
      ]
    },
    {
      "cell_type": "code",
      "execution_count": null,
      "metadata": {
        "id": "YfNAkN7QteZk"
      },
      "outputs": [],
      "source": [
        "\n",
        "# Calcular la correlación de todas las variables con \"pm25\"\n",
        "correlation = datosCorrelacion.corr()['pm25'].sort_values(ascending=False)\n",
        "\n",
        "# Graficar las correlaciones\n",
        "plt.figure(figsize=(10, 6))\n",
        "sns.barplot(x=correlation.index, y=correlation.values, palette='viridis')\n",
        "plt.title('Correlación de Variables con pm25')\n",
        "plt.xlabel('Variables')\n",
        "plt.ylabel('Correlación')\n",
        "plt.xticks(rotation=90)\n",
        "plt.show()"
      ]
    },
    {
      "cell_type": "code",
      "execution_count": null,
      "metadata": {
        "id": "rmBH-KSSteZl"
      },
      "outputs": [],
      "source": [
        "# Calcular la matriz de correlación\n",
        "correlation_matrix = datosCorrelacion.corr()\n",
        "\n",
        "# Filtrar para incluir solo la fila y columna de \"pm25\"\n",
        "correlation_pm25 = correlation_matrix[['pm25']].sort_values(by='pm25', ascending=False)\n",
        "\n",
        "# Crear el heatmap\n",
        "plt.figure(figsize=(10, 9))\n",
        "sns.heatmap(correlation_pm25, annot=True, cmap='coolwarm', center=0, cbar_kws={'label': 'Correlación'})\n",
        "plt.title('Mapa de Calor de la Correlación con pm25')\n",
        "plt.show()"
      ]
    },
    {
      "cell_type": "markdown",
      "metadata": {},
      "source": [
        "## Hata acá Vamos"
      ]
    },
    {
      "cell_type": "markdown",
      "metadata": {
        "id": "rXmMiDGKteZl"
      },
      "source": [
        "Análisis exploratorio de los datos"
      ]
    },
    {
      "cell_type": "code",
      "execution_count": null,
      "metadata": {
        "id": "qAjLXOQtteZm"
      },
      "outputs": [],
      "source": [
        "dataSetCalidadAire.describe()"
      ]
    },
    {
      "cell_type": "code",
      "execution_count": null,
      "metadata": {
        "id": "xDe2_HQ0teZm"
      },
      "outputs": [],
      "source": [
        "tablaPivote = dataSetCalidadAire.pivot_table(index = 'codigoserial',\n",
        "                               columns = 'mes',\n",
        "                               aggfunc = {'pm25':'mean',\n",
        "                                          'presion':'mean',\n",
        "                                          'p1':'mean'})\n",
        "tablaPivote"
      ]
    },
    {
      "cell_type": "code",
      "execution_count": null,
      "metadata": {
        "id": "A-EUwD3uteZn"
      },
      "outputs": [],
      "source": [
        "precipitacion_ita.p1.value_counts()\n",
        "precipitacion_ita.groupby('p1')"
      ]
    },
    {
      "cell_type": "code",
      "execution_count": null,
      "metadata": {
        "id": "u6mLgf5QteZn"
      },
      "outputs": [],
      "source": [
        "pd.concat([presion_aranj, presion_ita, presion_cal],axis=1)"
      ]
    },
    {
      "cell_type": "code",
      "execution_count": null,
      "metadata": {
        "id": "mW4ygdj3teZn"
      },
      "outputs": [],
      "source": [
        "# Grafico por puntos\n",
        "sns.scatterplot(x=dataSetCalidadAire['codigoserial'], y=dataSetCalidadAire['pm25'])\n",
        "plt.title('Valores de PM2.5 por Código Serial')\n",
        "plt.xlabel('estación de monitoreo')\n",
        "plt.ylabel('pm25 (µg/m^3)')\n",
        "plt.show()"
      ]
    },
    {
      "cell_type": "code",
      "execution_count": null,
      "metadata": {
        "id": "VFLB3IhPteZn"
      },
      "outputs": [],
      "source": [
        "# Grafico de dispersión por p1\n",
        "\n",
        "sns.scatterplot(x=dataSetCalidadAire['codigoserial'], y=dataSetCalidadAire['p1'])\n",
        "plt.xlabel('estación de monitoreo')\n",
        "plt.ylabel('p1 (mm)')\n",
        "plt.title('Valores de P1 por Codigo serial')\n"
      ]
    },
    {
      "cell_type": "markdown",
      "metadata": {
        "id": "PZzLWgCWteZo"
      },
      "source": [
        "Pandas profile"
      ]
    },
    {
      "cell_type": "code",
      "execution_count": null,
      "metadata": {
        "id": "3uv3kMthteZo"
      },
      "outputs": [],
      "source": [
        "from ydata_profiling import ProfileReport"
      ]
    },
    {
      "cell_type": "code",
      "execution_count": null,
      "metadata": {
        "id": "cRN3owT9teZo"
      },
      "outputs": [],
      "source": [
        "#Generar y mostrar el reporte\n",
        "reporte = ProfileReport(dataSetCalidadAire,\n",
        "                        title=\"Reporte estadístico\",\n",
        "                        explorative=True,\n",
        "                        dataset={\n",
        "                        \"description\": \"Este es un analisis preeliminar para comprender de mejor forma los datos de nuestro dataset\",\n",
        "                        \"author\": \"Kenneth David Leonel Triana , Juan Jose Naranjo, Alejandro Mora\",\n",
        "                        \"url\": \"https://github.com/kennethLeonel/Monografia-calidad-del-aire-valle-de-aburra\",\n",
        "                    },)\n",
        "reporte.to_notebook_iframe()\n",
        "reporte.to_file(\"reporte.html\")"
      ]
    },
    {
      "cell_type": "markdown",
      "metadata": {
        "id": "hsKOcfkateZo"
      },
      "source": [
        "Aspectos de mejora de la exploración de datos"
      ]
    },
    {
      "cell_type": "markdown",
      "metadata": {
        "id": "URCc0g0pteZp"
      },
      "source": [
        "Al detallar el comportamiento del dataset nos dimos cuenta que se debe mejorar las sigueintes cosas:\n",
        "\n",
        "- Limpieza de datos: Existen algunos datos con valores negativos que podrian referirse a datos faltantes, sin embargo, en el datset se reflejan con valores como -9999. Este es un aspecto a mejorar ya que al realizar el promedio de las columnas detallamos que el promedio arroja valores negativos sin sentido.\n",
        "\n",
        "- Normalización de datos: Al explorar los dataset detallamos que es se puede normalizar las columnas temperatura, humedad, presion o pm25.\n",
        "\n",
        "- Eliminación de datos: Las personas que continuen con la mejora de los resultados presentados pueden detallar si esos valores atipicos en ciertos registros se puedan considerar a eliminar.\n",
        "\n",
        "- Transformación de datos: Al explorar los dataset detallamos que algunas columnas pueden tener una distribución diferente a la normal, lo que puede afectar a los resultados.\n",
        "\n",
        "- Revisión de estaciones de monitoreo: Tener en cuenta los datos con sentido de las variables metereológicas en las diferentes estaciones, dado que puede existir la posibilidad que los sensores de alguna de ellas no arroje resultados coherentes o no estén en funcionamiento.\n",
        "\n"
      ]
    }
  ],
  "metadata": {
    "colab": {
      "provenance": []
    },
    "kernelspec": {
      "display_name": "monografia",
      "language": "python",
      "name": "python3"
    },
    "language_info": {
      "codemirror_mode": {
        "name": "ipython",
        "version": 3
      },
      "file_extension": ".py",
      "mimetype": "text/x-python",
      "name": "python",
      "nbconvert_exporter": "python",
      "pygments_lexer": "ipython3",
      "version": "3.12.7"
    }
  },
  "nbformat": 4,
  "nbformat_minor": 0
}
